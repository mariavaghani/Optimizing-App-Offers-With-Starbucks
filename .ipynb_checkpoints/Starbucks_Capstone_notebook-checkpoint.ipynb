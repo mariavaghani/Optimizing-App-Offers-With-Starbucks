{
 "cells": [
  {
   "cell_type": "markdown",
   "metadata": {},
   "source": [
    "# Starbucks Capstone Challenge\n",
    "\n",
    "### Introduction\n",
    "\n",
    "This data set contains simulated data that mimics customer behavior on the Starbucks rewards mobile app. Once every few days, Starbucks sends out an offer to users of the mobile app. An offer can be merely an advertisement for a drink or an actual offer such as a discount or BOGO (buy one get one free). Some users might not receive any offer during certain weeks. \n",
    "\n",
    "Not all users receive the same offer, and that is the challenge to solve with this data set.\n",
    "\n",
    "Your task is to combine transaction, demographic and offer data to determine which demographic groups respond best to which offer type. This data set is a simplified version of the real Starbucks app because the underlying simulator only has one product whereas Starbucks actually sells dozens of products.\n",
    "\n",
    "Every offer has a validity period before the offer expires. As an example, a BOGO offer might be valid for only 5 days. You'll see in the data set that informational offers have a validity period even though these ads are merely providing information about a product; for example, if an informational offer has 7 days of validity, you can assume the customer is feeling the influence of the offer for 7 days after receiving the advertisement.\n",
    "\n",
    "You'll be given transactional data showing user purchases made on the app including the timestamp of purchase and the amount of money spent on a purchase. This transactional data also has a record for each offer that a user receives as well as a record for when a user actually views the offer. There are also records for when a user completes an offer. \n",
    "\n",
    "Keep in mind as well that someone using the app might make a purchase through the app without having received an offer or seen an offer.\n",
    "\n",
    "### Example\n",
    "\n",
    "To give an example, a user could receive a discount offer buy 10 dollars get 2 off on Monday. The offer is valid for 10 days from receipt. If the customer accumulates at least 10 dollars in purchases during the validity period, the customer completes the offer.\n",
    "\n",
    "However, there are a few things to watch out for in this data set. Customers do not opt into the offers that they receive; in other words, a user can receive an offer, never actually view the offer, and still complete the offer. For example, a user might receive the \"buy 10 dollars get 2 dollars off offer\", but the user never opens the offer during the 10 day validity period. The customer spends 15 dollars during those ten days. There will be an offer completion record in the data set; however, the customer was not influenced by the offer because the customer never viewed the offer.\n",
    "\n",
    "### Cleaning\n",
    "\n",
    "This makes data cleaning especially important and tricky.\n",
    "\n",
    "You'll also want to take into account that some demographic groups will make purchases even if they don't receive an offer. From a business perspective, if a customer is going to make a 10 dollar purchase without an offer anyway, you wouldn't want to send a buy 10 dollars get 2 dollars off offer. You'll want to try to assess what a certain demographic group will buy when not receiving any offers.\n",
    "\n",
    "### Final Advice\n",
    "\n",
    "Because this is a capstone project, you are free to analyze the data any way you see fit. For example, you could build a machine learning model that predicts how much someone will spend based on demographics and offer type. Or you could build a model that predicts whether or not someone will respond to an offer. Or, you don't need to build a machine learning model at all. You could develop a set of heuristics that determine what offer you should send to each customer (i.e., 75 percent of women customers who were 35 years old responded to offer A vs 40 percent from the same demographic to offer B, so send offer A)."
   ]
  },
  {
   "cell_type": "markdown",
   "metadata": {},
   "source": [
    "# Data Sets\n",
    "\n",
    "The data is contained in three files:\n",
    "\n",
    "* portfolio.json - containing offer ids and meta data about each offer (duration, type, etc.)\n",
    "* profile.json - demographic data for each customer\n",
    "* transcript.json - records for transactions, offers received, offers viewed, and offers completed\n",
    "\n",
    "Here is the schema and explanation of each variable in the files:\n",
    "\n",
    "**portfolio.json**\n",
    "* id (string) - offer id\n",
    "* offer_type (string) - type of offer ie BOGO, discount, informational\n",
    "* difficulty (int) - minimum required spend to complete an offer\n",
    "* reward (int) - reward given for completing an offer\n",
    "* duration (int) - time for offer to be open, in days\n",
    "* channels (list of strings)\n",
    "\n",
    "**profile.json**\n",
    "* age (int) - age of the customer \n",
    "* became_member_on (int) - date when customer created an app account\n",
    "* gender (str) - gender of the customer (note some entries contain 'O' for other rather than M or F)\n",
    "* id (str) - customer id\n",
    "* income (float) - customer's income\n",
    "\n",
    "**transcript.json**\n",
    "* event (str) - record description (ie transaction, offer received, offer viewed, etc.)\n",
    "* person (str) - customer id\n",
    "* time (int) - time in hours since start of test. The data begins at time t=0\n",
    "* value - (dict of strings) - either an offer id or transaction amount depending on the record\n",
    "\n"
   ]
  },
  {
   "cell_type": "markdown",
   "metadata": {},
   "source": [
    "# Problem Statement\n",
    "\n",
    "We have three datasets:\n",
    "- portfolio that describes details about each offer\n",
    "- profile that describes details about each customer\n",
    "- transcript that register every event during the experiment: transaction, offer received, viewed, and completed\n",
    "\n",
    "These three datasets together give us a picture of customers and their reactions to a particular offer, did they pursue the offer and made a purchase or ignored it?\n",
    "\n",
    "**The higher level business question that we are going to ask:** \n",
    "- What kind of offer should we give to a customer, so the customer would make a purchase?\n",
    "\n",
    "**Smaller business questions we would like answer:**\n",
    "1. What is the age distribution of Starbucks customers?\n",
    "2. What is the income distribution of Starbucks customers?\n",
    "3. How many people joined Starbucks membership each year?\n",
    "4. How many people abandoned each kind of offers? Which offer gets abandoned the most? Least?\n",
    "5. What is the rate of completion for each offer? How do they compare within each offer type?\n",
    "6. What is the general demographic of people who ignore offers, not viewing them?\n",
    "7. What is the general demographic of people who complete offers by accident?\n",
    "8. What is the distribution of total rewards and total amount spend by customers?\n",
    "9. What is the most popular offer?\n",
    "10. What is the least popular offer?\n",
    "  \n",
    "In order to create a ML model that would help the business to predict whether or not to send any customer an offer, we are going to create a new data frame that contains customer demographic information and some features about customer's previous experience with the app/purchases and offer information. Once the model is trained on the data we have collected during the experiment, the business would be able to feed the model customer information, pair them with information on each offer to figure out, which offers would influence a customer into making a purchase.\n",
    "\n",
    "Since we are trying to predict a True/False value on whether or not the customer would make a purchase, this is a classification problem, therefore, we need to use classification models in ML section.\n",
    "\n",
    "We are going to fit multiple classification models, like Logistic Regression, K Nearest Neighbors Classifier, XGBoost Classifier, and others to identify one that performs the best. Then we would use GridSearchCV to perform a hyperparameter tuning and test/evaluate the model with best parameters.\n",
    "\n",
    "Our goal is to achieve the highest accuracy without overfitting the model."
   ]
  },
  {
   "cell_type": "code",
   "execution_count": 1,
   "metadata": {},
   "outputs": [],
   "source": [
    "import pandas as pd\n",
    "import numpy as np\n",
    "import math\n",
    "import json\n",
    "%matplotlib inline\n",
    "\n",
    "# read in the json files\n",
    "portfolio = pd.read_json('data/portfolio.json', orient='records', lines=True)\n",
    "profile = pd.read_json('data/profile.json', orient='records', lines=True)\n",
    "transcript = pd.read_json('data/transcript.json', orient='records', lines=True)"
   ]
  },
  {
   "cell_type": "code",
   "execution_count": 2,
   "metadata": {},
   "outputs": [
    {
     "name": "stdout",
     "output_type": "stream",
     "text": [
      "Requirement already up-to-date: imbalanced-learn in c:\\users\\maria\\anaconda3\\lib\\site-packages (0.8.0)\n",
      "Requirement already satisfied, skipping upgrade: numpy>=1.13.3 in c:\\users\\maria\\anaconda3\\lib\\site-packages (from imbalanced-learn) (1.19.2)\n",
      "Requirement already satisfied, skipping upgrade: scikit-learn>=0.24 in c:\\users\\maria\\anaconda3\\lib\\site-packages (from imbalanced-learn) (0.24.1)\n",
      "Requirement already satisfied, skipping upgrade: joblib>=0.11 in c:\\users\\maria\\anaconda3\\lib\\site-packages (from imbalanced-learn) (0.17.0)\n",
      "Requirement already satisfied, skipping upgrade: scipy>=0.19.1 in c:\\users\\maria\\anaconda3\\lib\\site-packages (from imbalanced-learn) (1.5.2)\n",
      "Requirement already satisfied, skipping upgrade: threadpoolctl>=2.0.0 in c:\\users\\maria\\anaconda3\\lib\\site-packages (from scikit-learn>=0.24->imbalanced-learn) (2.1.0)\n",
      "Note: you may need to restart the kernel to use updated packages.\n"
     ]
    }
   ],
   "source": [
    "pip install -U imbalanced-learn"
   ]
  },
  {
   "cell_type": "code",
   "execution_count": 91,
   "metadata": {},
   "outputs": [],
   "source": [
    "import plotly.express as px\n",
    "import datetime\n",
    "from collections import defaultdict\n",
    "from tqdm import tqdm\n",
    "pd.options.mode.chained_assignment = None\n",
    "import seaborn as sns\n",
    "import matplotlib.pyplot as plt\n",
    "\n",
    "from sklearn.model_selection import train_test_split\n",
    "from sklearn.multioutput import MultiOutputClassifier\n",
    "from sklearn.neighbors import KNeighborsClassifier\n",
    "\n",
    "from sklearn.metrics import f1_score\n",
    "from sklearn.metrics import  confusion_matrix, classification_report\n",
    "from sklearn.linear_model import LogisticRegression\n",
    "from sklearn.preprocessing import MinMaxScaler\n",
    "from imblearn.over_sampling import SMOTE\n"
   ]
  },
  {
   "cell_type": "markdown",
   "metadata": {},
   "source": [
    "### Functions Setup\n",
    "\n",
    "The functions below are helpers to map string id to numeric ids using pre-defined dictionaries."
   ]
  },
  {
   "cell_type": "code",
   "execution_count": 4,
   "metadata": {},
   "outputs": [],
   "source": [
    "def offer_mapper(value, key1, key2):\n",
    "    '''\n",
    "    Function takes in a dictionary, which\n",
    "    contains alpha-numeric id as key and two possible spellings of the key and returns the value \n",
    "    '''\n",
    "    if key1 in value:\n",
    "        return value[key1]\n",
    "    if key2 in value:\n",
    "        return value[key2]\n",
    "    \n",
    "def reward_mapper(value, key1):\n",
    "    '''\n",
    "    Function takes in a dictionary, which\n",
    "    contains alpha-numeric id as key and key and returns the value. \n",
    "    If the key is missing, it returns zero\n",
    "    '''\n",
    "    if key1 in value:\n",
    "        return value[key1]\n",
    "    else:\n",
    "        return 0"
   ]
  },
  {
   "cell_type": "code",
   "execution_count": 5,
   "metadata": {},
   "outputs": [],
   "source": [
    "def id_mapper(df, col_name):\n",
    "    '''\n",
    "    Function takes in a daraframe, which\n",
    "    contains alpha-numeric ids and the column name of the column that contains\n",
    "    the ids, and creates a numeric id for each unique alpha-numeric id\n",
    "    '''\n",
    "    \n",
    "    id_dict = {}\n",
    "    id_counter = 1\n",
    "    for idx in range(df.shape[0]):\n",
    "        if ~(df[col_name].iloc[idx] in id_dict):\n",
    "            id_dict[df[col_name].iloc[idx]] = id_counter\n",
    "            id_counter += 1\n",
    "    return id_dict"
   ]
  },
  {
   "cell_type": "code",
   "execution_count": 92,
   "metadata": {},
   "outputs": [],
   "source": [
    "def display_results(y_pred, y_test):\n",
    "    labels = np.unique(y_pred)\n",
    "    confusion_mat = confusion_matrix(y_test, y_pred, labels = labels)\n",
    "    accuracy = (y_test == y_pred).mean()\n",
    "\n",
    "    print(\"Labels:\", labels)\n",
    "    print(\"Confusion Matrix:\\n\", confusion_mat)\n",
    "    print(\"Accuracy:\", accuracy)\n",
    " "
   ]
  },
  {
   "cell_type": "markdown",
   "metadata": {},
   "source": [
    "### Review available dataframes\n",
    "\n",
    "Display first few rows of each available dataframe to get a sense of data and what formats it is given in"
   ]
  },
  {
   "cell_type": "code",
   "execution_count": 6,
   "metadata": {},
   "outputs": [
    {
     "data": {
      "text/html": [
       "<div>\n",
       "<style scoped>\n",
       "    .dataframe tbody tr th:only-of-type {\n",
       "        vertical-align: middle;\n",
       "    }\n",
       "\n",
       "    .dataframe tbody tr th {\n",
       "        vertical-align: top;\n",
       "    }\n",
       "\n",
       "    .dataframe thead th {\n",
       "        text-align: right;\n",
       "    }\n",
       "</style>\n",
       "<table border=\"1\" class=\"dataframe\">\n",
       "  <thead>\n",
       "    <tr style=\"text-align: right;\">\n",
       "      <th></th>\n",
       "      <th>reward</th>\n",
       "      <th>channels</th>\n",
       "      <th>difficulty</th>\n",
       "      <th>duration</th>\n",
       "      <th>offer_type</th>\n",
       "      <th>id</th>\n",
       "    </tr>\n",
       "  </thead>\n",
       "  <tbody>\n",
       "    <tr>\n",
       "      <th>0</th>\n",
       "      <td>10</td>\n",
       "      <td>[email, mobile, social]</td>\n",
       "      <td>10</td>\n",
       "      <td>7</td>\n",
       "      <td>bogo</td>\n",
       "      <td>ae264e3637204a6fb9bb56bc8210ddfd</td>\n",
       "    </tr>\n",
       "    <tr>\n",
       "      <th>1</th>\n",
       "      <td>10</td>\n",
       "      <td>[web, email, mobile, social]</td>\n",
       "      <td>10</td>\n",
       "      <td>5</td>\n",
       "      <td>bogo</td>\n",
       "      <td>4d5c57ea9a6940dd891ad53e9dbe8da0</td>\n",
       "    </tr>\n",
       "    <tr>\n",
       "      <th>2</th>\n",
       "      <td>0</td>\n",
       "      <td>[web, email, mobile]</td>\n",
       "      <td>0</td>\n",
       "      <td>4</td>\n",
       "      <td>informational</td>\n",
       "      <td>3f207df678b143eea3cee63160fa8bed</td>\n",
       "    </tr>\n",
       "    <tr>\n",
       "      <th>3</th>\n",
       "      <td>5</td>\n",
       "      <td>[web, email, mobile]</td>\n",
       "      <td>5</td>\n",
       "      <td>7</td>\n",
       "      <td>bogo</td>\n",
       "      <td>9b98b8c7a33c4b65b9aebfe6a799e6d9</td>\n",
       "    </tr>\n",
       "    <tr>\n",
       "      <th>4</th>\n",
       "      <td>5</td>\n",
       "      <td>[web, email]</td>\n",
       "      <td>20</td>\n",
       "      <td>10</td>\n",
       "      <td>discount</td>\n",
       "      <td>0b1e1539f2cc45b7b9fa7c272da2e1d7</td>\n",
       "    </tr>\n",
       "  </tbody>\n",
       "</table>\n",
       "</div>"
      ],
      "text/plain": [
       "   reward                      channels  difficulty  duration     offer_type  \\\n",
       "0      10       [email, mobile, social]          10         7           bogo   \n",
       "1      10  [web, email, mobile, social]          10         5           bogo   \n",
       "2       0          [web, email, mobile]           0         4  informational   \n",
       "3       5          [web, email, mobile]           5         7           bogo   \n",
       "4       5                  [web, email]          20        10       discount   \n",
       "\n",
       "                                 id  \n",
       "0  ae264e3637204a6fb9bb56bc8210ddfd  \n",
       "1  4d5c57ea9a6940dd891ad53e9dbe8da0  \n",
       "2  3f207df678b143eea3cee63160fa8bed  \n",
       "3  9b98b8c7a33c4b65b9aebfe6a799e6d9  \n",
       "4  0b1e1539f2cc45b7b9fa7c272da2e1d7  "
      ]
     },
     "execution_count": 6,
     "metadata": {},
     "output_type": "execute_result"
    }
   ],
   "source": [
    "portfolio.head()"
   ]
  },
  {
   "cell_type": "code",
   "execution_count": 7,
   "metadata": {},
   "outputs": [
    {
     "data": {
      "text/html": [
       "<div>\n",
       "<style scoped>\n",
       "    .dataframe tbody tr th:only-of-type {\n",
       "        vertical-align: middle;\n",
       "    }\n",
       "\n",
       "    .dataframe tbody tr th {\n",
       "        vertical-align: top;\n",
       "    }\n",
       "\n",
       "    .dataframe thead th {\n",
       "        text-align: right;\n",
       "    }\n",
       "</style>\n",
       "<table border=\"1\" class=\"dataframe\">\n",
       "  <thead>\n",
       "    <tr style=\"text-align: right;\">\n",
       "      <th></th>\n",
       "      <th>gender</th>\n",
       "      <th>age</th>\n",
       "      <th>id</th>\n",
       "      <th>became_member_on</th>\n",
       "      <th>income</th>\n",
       "    </tr>\n",
       "  </thead>\n",
       "  <tbody>\n",
       "    <tr>\n",
       "      <th>0</th>\n",
       "      <td>None</td>\n",
       "      <td>118</td>\n",
       "      <td>68be06ca386d4c31939f3a4f0e3dd783</td>\n",
       "      <td>20170212</td>\n",
       "      <td>NaN</td>\n",
       "    </tr>\n",
       "    <tr>\n",
       "      <th>1</th>\n",
       "      <td>F</td>\n",
       "      <td>55</td>\n",
       "      <td>0610b486422d4921ae7d2bf64640c50b</td>\n",
       "      <td>20170715</td>\n",
       "      <td>112000.0</td>\n",
       "    </tr>\n",
       "    <tr>\n",
       "      <th>2</th>\n",
       "      <td>None</td>\n",
       "      <td>118</td>\n",
       "      <td>38fe809add3b4fcf9315a9694bb96ff5</td>\n",
       "      <td>20180712</td>\n",
       "      <td>NaN</td>\n",
       "    </tr>\n",
       "    <tr>\n",
       "      <th>3</th>\n",
       "      <td>F</td>\n",
       "      <td>75</td>\n",
       "      <td>78afa995795e4d85b5d9ceeca43f5fef</td>\n",
       "      <td>20170509</td>\n",
       "      <td>100000.0</td>\n",
       "    </tr>\n",
       "    <tr>\n",
       "      <th>4</th>\n",
       "      <td>None</td>\n",
       "      <td>118</td>\n",
       "      <td>a03223e636434f42ac4c3df47e8bac43</td>\n",
       "      <td>20170804</td>\n",
       "      <td>NaN</td>\n",
       "    </tr>\n",
       "  </tbody>\n",
       "</table>\n",
       "</div>"
      ],
      "text/plain": [
       "  gender  age                                id  became_member_on    income\n",
       "0   None  118  68be06ca386d4c31939f3a4f0e3dd783          20170212       NaN\n",
       "1      F   55  0610b486422d4921ae7d2bf64640c50b          20170715  112000.0\n",
       "2   None  118  38fe809add3b4fcf9315a9694bb96ff5          20180712       NaN\n",
       "3      F   75  78afa995795e4d85b5d9ceeca43f5fef          20170509  100000.0\n",
       "4   None  118  a03223e636434f42ac4c3df47e8bac43          20170804       NaN"
      ]
     },
     "execution_count": 7,
     "metadata": {},
     "output_type": "execute_result"
    }
   ],
   "source": [
    "profile.head()"
   ]
  },
  {
   "cell_type": "code",
   "execution_count": 8,
   "metadata": {
    "scrolled": true
   },
   "outputs": [
    {
     "data": {
      "text/html": [
       "<div>\n",
       "<style scoped>\n",
       "    .dataframe tbody tr th:only-of-type {\n",
       "        vertical-align: middle;\n",
       "    }\n",
       "\n",
       "    .dataframe tbody tr th {\n",
       "        vertical-align: top;\n",
       "    }\n",
       "\n",
       "    .dataframe thead th {\n",
       "        text-align: right;\n",
       "    }\n",
       "</style>\n",
       "<table border=\"1\" class=\"dataframe\">\n",
       "  <thead>\n",
       "    <tr style=\"text-align: right;\">\n",
       "      <th></th>\n",
       "      <th>person</th>\n",
       "      <th>event</th>\n",
       "      <th>value</th>\n",
       "      <th>time</th>\n",
       "    </tr>\n",
       "  </thead>\n",
       "  <tbody>\n",
       "    <tr>\n",
       "      <th>0</th>\n",
       "      <td>78afa995795e4d85b5d9ceeca43f5fef</td>\n",
       "      <td>offer received</td>\n",
       "      <td>{'offer id': '9b98b8c7a33c4b65b9aebfe6a799e6d9'}</td>\n",
       "      <td>0</td>\n",
       "    </tr>\n",
       "    <tr>\n",
       "      <th>1</th>\n",
       "      <td>a03223e636434f42ac4c3df47e8bac43</td>\n",
       "      <td>offer received</td>\n",
       "      <td>{'offer id': '0b1e1539f2cc45b7b9fa7c272da2e1d7'}</td>\n",
       "      <td>0</td>\n",
       "    </tr>\n",
       "    <tr>\n",
       "      <th>2</th>\n",
       "      <td>e2127556f4f64592b11af22de27a7932</td>\n",
       "      <td>offer received</td>\n",
       "      <td>{'offer id': '2906b810c7d4411798c6938adc9daaa5'}</td>\n",
       "      <td>0</td>\n",
       "    </tr>\n",
       "    <tr>\n",
       "      <th>3</th>\n",
       "      <td>8ec6ce2a7e7949b1bf142def7d0e0586</td>\n",
       "      <td>offer received</td>\n",
       "      <td>{'offer id': 'fafdcd668e3743c1bb461111dcafc2a4'}</td>\n",
       "      <td>0</td>\n",
       "    </tr>\n",
       "    <tr>\n",
       "      <th>4</th>\n",
       "      <td>68617ca6246f4fbc85e91a2a49552598</td>\n",
       "      <td>offer received</td>\n",
       "      <td>{'offer id': '4d5c57ea9a6940dd891ad53e9dbe8da0'}</td>\n",
       "      <td>0</td>\n",
       "    </tr>\n",
       "  </tbody>\n",
       "</table>\n",
       "</div>"
      ],
      "text/plain": [
       "                             person           event  \\\n",
       "0  78afa995795e4d85b5d9ceeca43f5fef  offer received   \n",
       "1  a03223e636434f42ac4c3df47e8bac43  offer received   \n",
       "2  e2127556f4f64592b11af22de27a7932  offer received   \n",
       "3  8ec6ce2a7e7949b1bf142def7d0e0586  offer received   \n",
       "4  68617ca6246f4fbc85e91a2a49552598  offer received   \n",
       "\n",
       "                                              value  time  \n",
       "0  {'offer id': '9b98b8c7a33c4b65b9aebfe6a799e6d9'}     0  \n",
       "1  {'offer id': '0b1e1539f2cc45b7b9fa7c272da2e1d7'}     0  \n",
       "2  {'offer id': '2906b810c7d4411798c6938adc9daaa5'}     0  \n",
       "3  {'offer id': 'fafdcd668e3743c1bb461111dcafc2a4'}     0  \n",
       "4  {'offer id': '4d5c57ea9a6940dd891ad53e9dbe8da0'}     0  "
      ]
     },
     "execution_count": 8,
     "metadata": {},
     "output_type": "execute_result"
    }
   ],
   "source": [
    "transcript.head()"
   ]
  },
  {
   "cell_type": "markdown",
   "metadata": {},
   "source": [
    "### Data Cleaning\n",
    "\n",
    "First, we are going to rename ID columns to bring these columns to a more standard form and to avoid confusion, which id we are referring to during analysis. \n",
    "\n",
    "Even though string id are okay, it is more workable to store id in form of numbers. Using function defined above, we are going to create dictionaries that would map string ids to numerical ids."
   ]
  },
  {
   "cell_type": "code",
   "execution_count": 9,
   "metadata": {},
   "outputs": [],
   "source": [
    "#rename columns to bring the same data to the same format\n",
    "portfolio.rename({'id': 'offer_id'}, axis = 1, inplace = True)\n",
    "transcript.rename({'person': 'customer_id'}, axis = 1, inplace = True)\n",
    "profile.rename({'id': 'customer_id'}, axis = 1, inplace = True)"
   ]
  },
  {
   "cell_type": "markdown",
   "metadata": {},
   "source": [
    "Later in ML process we are going to use channels as features describing each offer. We are going to create dummy variables for each channel that an offer could come from.\n",
    "\n",
    "There are two types of time variables in this dataset:\n",
    "- offer duration in days\n",
    "- experiment time in hours\n",
    "\n",
    "In order to be consistent and being able to use these two features together, we need to bring them to the same metric scale. We are going to convert offer duration into hours."
   ]
  },
  {
   "cell_type": "code",
   "execution_count": 10,
   "metadata": {},
   "outputs": [],
   "source": [
    "# create dummy variables for channels\n",
    "portfolio['email'] = portfolio['channels'].apply(lambda x: int('email' in x))\n",
    "portfolio['mobile'] = portfolio['channels'].apply(lambda x: int('mobile' in x))\n",
    "portfolio['social'] = portfolio['channels'].apply(lambda x: int('social' in x))\n",
    "portfolio['web'] = portfolio['channels'].apply(lambda x: int('web' in x))\n",
    "\n",
    "# drop channels column\n",
    "portfolio.drop('channels', inplace = True, axis = 1)\n",
    "\n",
    "# get dummies for offer_type column\n",
    "df_cat = pd.get_dummies(portfolio['offer_type'], dummy_na = False, drop_first=True)\n",
    "portfolio = portfolio.merge(df_cat, how = 'inner', left_index = True, right_index= True)\n",
    "portfolio\n",
    "\n",
    "# convert offer duration from days to hours\n",
    "portfolio['duration_hours'] = portfolio['duration'].apply(lambda x: x) * 24"
   ]
  },
  {
   "cell_type": "markdown",
   "metadata": {},
   "source": [
    "What is the average age of a Starbucks customer?"
   ]
  },
  {
   "cell_type": "code",
   "execution_count": 11,
   "metadata": {},
   "outputs": [
    {
     "data": {
      "text/plain": [
       "62.53141176470588"
      ]
     },
     "execution_count": 11,
     "metadata": {},
     "output_type": "execute_result"
    }
   ],
   "source": [
    "profile['age'].mean()"
   ]
  },
  {
   "cell_type": "code",
   "execution_count": 12,
   "metadata": {},
   "outputs": [
    {
     "data": {
      "text/html": [
       "<div>\n",
       "<style scoped>\n",
       "    .dataframe tbody tr th:only-of-type {\n",
       "        vertical-align: middle;\n",
       "    }\n",
       "\n",
       "    .dataframe tbody tr th {\n",
       "        vertical-align: top;\n",
       "    }\n",
       "\n",
       "    .dataframe thead th {\n",
       "        text-align: right;\n",
       "    }\n",
       "</style>\n",
       "<table border=\"1\" class=\"dataframe\">\n",
       "  <thead>\n",
       "    <tr style=\"text-align: right;\">\n",
       "      <th></th>\n",
       "      <th>gender</th>\n",
       "      <th>age</th>\n",
       "      <th>customer_id</th>\n",
       "      <th>became_member_on</th>\n",
       "      <th>income</th>\n",
       "    </tr>\n",
       "  </thead>\n",
       "  <tbody>\n",
       "    <tr>\n",
       "      <th>0</th>\n",
       "      <td>None</td>\n",
       "      <td>118</td>\n",
       "      <td>68be06ca386d4c31939f3a4f0e3dd783</td>\n",
       "      <td>20170212</td>\n",
       "      <td>NaN</td>\n",
       "    </tr>\n",
       "    <tr>\n",
       "      <th>2</th>\n",
       "      <td>None</td>\n",
       "      <td>118</td>\n",
       "      <td>38fe809add3b4fcf9315a9694bb96ff5</td>\n",
       "      <td>20180712</td>\n",
       "      <td>NaN</td>\n",
       "    </tr>\n",
       "    <tr>\n",
       "      <th>4</th>\n",
       "      <td>None</td>\n",
       "      <td>118</td>\n",
       "      <td>a03223e636434f42ac4c3df47e8bac43</td>\n",
       "      <td>20170804</td>\n",
       "      <td>NaN</td>\n",
       "    </tr>\n",
       "    <tr>\n",
       "      <th>6</th>\n",
       "      <td>None</td>\n",
       "      <td>118</td>\n",
       "      <td>8ec6ce2a7e7949b1bf142def7d0e0586</td>\n",
       "      <td>20170925</td>\n",
       "      <td>NaN</td>\n",
       "    </tr>\n",
       "    <tr>\n",
       "      <th>7</th>\n",
       "      <td>None</td>\n",
       "      <td>118</td>\n",
       "      <td>68617ca6246f4fbc85e91a2a49552598</td>\n",
       "      <td>20171002</td>\n",
       "      <td>NaN</td>\n",
       "    </tr>\n",
       "    <tr>\n",
       "      <th>...</th>\n",
       "      <td>...</td>\n",
       "      <td>...</td>\n",
       "      <td>...</td>\n",
       "      <td>...</td>\n",
       "      <td>...</td>\n",
       "    </tr>\n",
       "    <tr>\n",
       "      <th>16980</th>\n",
       "      <td>None</td>\n",
       "      <td>118</td>\n",
       "      <td>5c686d09ca4d475a8f750f2ba07e0440</td>\n",
       "      <td>20160901</td>\n",
       "      <td>NaN</td>\n",
       "    </tr>\n",
       "    <tr>\n",
       "      <th>16982</th>\n",
       "      <td>None</td>\n",
       "      <td>118</td>\n",
       "      <td>d9ca82f550ac4ee58b6299cf1e5c824a</td>\n",
       "      <td>20160415</td>\n",
       "      <td>NaN</td>\n",
       "    </tr>\n",
       "    <tr>\n",
       "      <th>16989</th>\n",
       "      <td>None</td>\n",
       "      <td>118</td>\n",
       "      <td>ca45ee1883624304bac1e4c8a114f045</td>\n",
       "      <td>20180305</td>\n",
       "      <td>NaN</td>\n",
       "    </tr>\n",
       "    <tr>\n",
       "      <th>16991</th>\n",
       "      <td>None</td>\n",
       "      <td>118</td>\n",
       "      <td>a9a20fa8b5504360beb4e7c8712f8306</td>\n",
       "      <td>20160116</td>\n",
       "      <td>NaN</td>\n",
       "    </tr>\n",
       "    <tr>\n",
       "      <th>16994</th>\n",
       "      <td>None</td>\n",
       "      <td>118</td>\n",
       "      <td>c02b10e8752c4d8e9b73f918558531f7</td>\n",
       "      <td>20151211</td>\n",
       "      <td>NaN</td>\n",
       "    </tr>\n",
       "  </tbody>\n",
       "</table>\n",
       "<p>2175 rows × 5 columns</p>\n",
       "</div>"
      ],
      "text/plain": [
       "      gender  age                       customer_id  became_member_on  income\n",
       "0       None  118  68be06ca386d4c31939f3a4f0e3dd783          20170212     NaN\n",
       "2       None  118  38fe809add3b4fcf9315a9694bb96ff5          20180712     NaN\n",
       "4       None  118  a03223e636434f42ac4c3df47e8bac43          20170804     NaN\n",
       "6       None  118  8ec6ce2a7e7949b1bf142def7d0e0586          20170925     NaN\n",
       "7       None  118  68617ca6246f4fbc85e91a2a49552598          20171002     NaN\n",
       "...      ...  ...                               ...               ...     ...\n",
       "16980   None  118  5c686d09ca4d475a8f750f2ba07e0440          20160901     NaN\n",
       "16982   None  118  d9ca82f550ac4ee58b6299cf1e5c824a          20160415     NaN\n",
       "16989   None  118  ca45ee1883624304bac1e4c8a114f045          20180305     NaN\n",
       "16991   None  118  a9a20fa8b5504360beb4e7c8712f8306          20160116     NaN\n",
       "16994   None  118  c02b10e8752c4d8e9b73f918558531f7          20151211     NaN\n",
       "\n",
       "[2175 rows x 5 columns]"
      ]
     },
     "execution_count": 12,
     "metadata": {},
     "output_type": "execute_result"
    }
   ],
   "source": [
    "profile[profile['age'] == profile['age'].max()]"
   ]
  },
  {
   "cell_type": "markdown",
   "metadata": {},
   "source": [
    "Considering the median age of the entire US population is about [38.2 years](https://en.wikipedia.org/wiki/Demographics_of_the_United_States). Mean age of Starbucks customer to be 62 seems too high, considering that Starbucks does not really market their product to the older poulation.\n",
    "\n",
    "There are 2175 customers, whose age is assigned as 118 year, and all of their information is missing, while customer with age different from 118 have data associated with their profile. This could be a sign up issue, maybe optional fields or using the app in a \"guest\" mode? \n",
    "\n",
    "There are two ways of dealing with these customers. \n",
    "- drop these customers from the dataset, as we could not assess their demographic information\n",
    "- assign these people with median age and income, assign gender as unknown\n",
    "\n",
    "We are going to drop them, as these customers could skew the data. As an alternative approach, we could assign these customers median income, age; and Unknown age to be able to use their transaction information."
   ]
  },
  {
   "cell_type": "code",
   "execution_count": 13,
   "metadata": {},
   "outputs": [],
   "source": [
    "profile['age'] = profile['age'].apply(lambda x: None if x == 118 else x)\n",
    "profile = profile.dropna()\n",
    "# profile = profile.fillna({\"age\": profile['age'].dropna().median()})\n",
    "# profile = profile.fillna({\"income\": profile['income'].dropna().median()})\n",
    "# profile = profile.fillna({\"gender\": 'U'})"
   ]
  },
  {
   "cell_type": "markdown",
   "metadata": {},
   "source": [
    "Check that profile dataframe does not contain any NaN values"
   ]
  },
  {
   "cell_type": "code",
   "execution_count": 14,
   "metadata": {},
   "outputs": [
    {
     "data": {
      "text/plain": [
       "gender              0\n",
       "age                 0\n",
       "customer_id         0\n",
       "became_member_on    0\n",
       "income              0\n",
       "dtype: int64"
      ]
     },
     "execution_count": 14,
     "metadata": {},
     "output_type": "execute_result"
    }
   ],
   "source": [
    "profile.isna().sum()"
   ]
  },
  {
   "cell_type": "markdown",
   "metadata": {},
   "source": [
    "Now having proper column names and dictionaries of ids, we could map alpha-numeric ids to numeric ids. We are converting ids:\n",
    "- offer_id in portfolio\n",
    "- offer_id in transcript\n",
    "- customer_id in transcript\n",
    "- customer_id in profile\n",
    "\n",
    "Also, we are going to use the year component of membership time, so we are going to convert this column into a date and extract the year portion."
   ]
  },
  {
   "cell_type": "code",
   "execution_count": 15,
   "metadata": {},
   "outputs": [],
   "source": [
    "#set-up mapping dictionaries for customer_id and offer_id\n",
    "customer_dict = id_mapper(profile, 'customer_id')\n",
    "offer_dict = id_mapper(portfolio, 'offer_id')\n",
    "\n",
    "# convert string ID into numeric id\n",
    "portfolio['offer_id'] = portfolio['offer_id'].map(offer_dict)\n",
    "\n",
    "#convert string ID into numeric id\n",
    "transcript['customer_id'] = transcript['customer_id'].map(customer_dict)\n",
    "\n",
    "profile['became_member_on'] = pd.to_datetime(profile['became_member_on'], format = '%Y%m%d')\n",
    "profile['year_joined'] = profile['became_member_on'].dt.year\n",
    "\n",
    "#convert string ID into numeric id\n",
    "profile['customer_id'] = profile['customer_id'].map(customer_dict)"
   ]
  },
  {
   "cell_type": "markdown",
   "metadata": {},
   "source": [
    "Since we dropped a number of customers that did not have any demographic information - their ids are now NaN. We are not using these customers in our analysis, so we could remove them from the transcript as well. "
   ]
  },
  {
   "cell_type": "code",
   "execution_count": 16,
   "metadata": {},
   "outputs": [],
   "source": [
    "transcript = transcript.dropna()"
   ]
  },
  {
   "cell_type": "markdown",
   "metadata": {},
   "source": [
    "Transcript contains two types of activities:\n",
    "- Offer status\n",
    "- Transactions\n",
    "\n",
    "Offer status contains information on offers, id and award amount, while transactions contain the amount paid by the customers. These two types of activities require different processing steps, so it would make sense to separate them into different dataframes. \n",
    "\n",
    "After offers and transactions are separate, we could map their ids into numeric form."
   ]
  },
  {
   "cell_type": "code",
   "execution_count": 17,
   "metadata": {},
   "outputs": [],
   "source": [
    "# Create separate dataframes for offer status and transactions\n",
    "offer_activity = transcript[transcript['event'] != 'transaction' ]\n",
    "transactions = transcript[transcript['event'] == 'transaction' ]\n",
    "\n",
    "# map offer activity with set IDs and reward amounts\n",
    "offer_activity.loc[:, 'offer_id'] = offer_activity['value'].apply(offer_mapper, args=('offer id', 'offer_id',))\n",
    "offer_activity.loc[:, 'reward'] = offer_activity['value'].apply(reward_mapper, args=('reward',))\n",
    "offer_activity.loc[:, 'offer_id'] = offer_activity['offer_id'].map(offer_dict)\n",
    "\n",
    "offer_activity.drop('value', inplace = True, axis = 1)"
   ]
  },
  {
   "cell_type": "code",
   "execution_count": 18,
   "metadata": {},
   "outputs": [],
   "source": [
    "transactions['amount'] = transactions['value'].apply(lambda x: x['amount'])\n",
    "transactions.drop('value', inplace = True, axis = 1)"
   ]
  },
  {
   "cell_type": "markdown",
   "metadata": {},
   "source": [
    "Create lists of offer ids and customer ids, that would be used to create new features for every customer"
   ]
  },
  {
   "cell_type": "code",
   "execution_count": 19,
   "metadata": {},
   "outputs": [],
   "source": [
    "#list of offer IDs \n",
    "offer_ids = list(portfolio['offer_id'].unique())\n",
    "\n",
    "# list of all customer IDs\n",
    "customer_ids = list(profile['customer_id'].unique())"
   ]
  },
  {
   "cell_type": "code",
   "execution_count": 20,
   "metadata": {},
   "outputs": [],
   "source": [
    "def generate_offer_log(customer_offer_activity,\n",
    "                       act,\n",
    "                       portfolio):\n",
    "    '''\n",
    "    INPUT\n",
    "    --------\n",
    "    customer_offer_activity - dataframe of customer activity by offers\n",
    "    act - activity number in search for the feature\n",
    "    portfolio - dataframe with information on offers\n",
    "    \n",
    "    OUTPUT\n",
    "    --------\n",
    "    offer_log - dataframe with log of offer updates filtered with the time of its validity period\n",
    "    offer_id - offer id for the offer_log\n",
    "    \n",
    "    ------\n",
    "    Function takes customer activity log and activity number and outputs\n",
    "    an offer_log for this offer looking back in time\n",
    "    \n",
    "    '''\n",
    "    \n",
    "    \n",
    "    curr_time = customer_offer_activity['time'].iloc[act]\n",
    "    offer_id = customer_offer_activity['offer_id'].iloc[act]\n",
    "    offer_dur = portfolio[portfolio['offer_id'] == offer_id]['duration_hours'].values[0]\n",
    "    offer_log = customer_offer_activity[(customer_offer_activity['time']<=curr_time)\n",
    "                                        &(customer_offer_activity['time']>=(curr_time - offer_dur))\n",
    "                                        &(customer_offer_activity['offer_id']==offer_id)]\n",
    "    \n",
    "    return offer_log, offer_id"
   ]
  },
  {
   "cell_type": "code",
   "execution_count": 21,
   "metadata": {},
   "outputs": [],
   "source": [
    "def generate_offer_log_inc(customer_offer_activity,\n",
    "                       act,\n",
    "                       portfolio):\n",
    "    '''\n",
    "    INPUT\n",
    "    --------\n",
    "    customer_offer_activity - dataframe of customer activity by offers\n",
    "    act - activity number in search for the feature\n",
    "    portfolio - dataframe with information on offers\n",
    "    \n",
    "    OUTPUT\n",
    "    --------\n",
    "    offer_log - dataframe with log of offer updates filtered with the time of its validity period\n",
    "    offer_id - offer id for the offer_log\n",
    "    \n",
    "    ------\n",
    "    Function the same as the log generator, but looking for offer log forward in time\n",
    "    \n",
    "    '''\n",
    "    \n",
    "    \n",
    "    curr_time = customer_offer_activity['time'].iloc[act]\n",
    "    offer_id = customer_offer_activity['offer_id'].iloc[act]\n",
    "    offer_dur = portfolio[portfolio['offer_id'] == offer_id]['duration_hours'].values[0]\n",
    "    offer_log = customer_offer_activity[(customer_offer_activity['time']>=curr_time)\n",
    "                                        &(customer_offer_activity['time']<=(curr_time + offer_dur))\n",
    "                                        &(customer_offer_activity['offer_id']==offer_id)]\n",
    "    \n",
    "    return offer_log, offer_id"
   ]
  },
  {
   "cell_type": "code",
   "execution_count": 22,
   "metadata": {},
   "outputs": [],
   "source": [
    "def generate_trans_log(customer_offer_activity,\n",
    "                       customer_id,\n",
    "                       transactions,\n",
    "                       act,\n",
    "                       portfolio):\n",
    "    '''\n",
    "    INPUT\n",
    "    --------\n",
    "    customer_offer_activity - dataframe of customer activity by offers\n",
    "    customer_id \n",
    "    transactions - dataframe with all transactions\n",
    "    act - activity number in search for the feature\n",
    "    portfolio - dataframe with information on offers\n",
    "    \n",
    "    OUTPUT\n",
    "    --------\n",
    "    trans_log - dataframe with log of transactions filtered with the time of offer validity period\n",
    "    offer_id - offer id for the offer_log\n",
    "    \n",
    "    ------\n",
    "    Function takes customer activity log and activity number and outputs\n",
    "    an transaction log for the time of offer validity\n",
    "    \n",
    "    '''\n",
    "    \n",
    "    \n",
    "    curr_time = customer_offer_activity['time'].iloc[act]\n",
    "    offer_id = customer_offer_activity['offer_id'].iloc[act]\n",
    "    offer_dur = portfolio[portfolio['offer_id'] == offer_id]['duration_hours'].values[0]\n",
    "    trans_log = transactions[(transactions['time']<=curr_time)\n",
    "                             &(transactions['time']>=(curr_time - offer_dur))\n",
    "                             &(transactions['customer_id']==customer_id)]\n",
    "    \n",
    "    return trans_log, offer_id"
   ]
  },
  {
   "cell_type": "code",
   "execution_count": 23,
   "metadata": {},
   "outputs": [],
   "source": [
    "def generate_trans_log_inc(customer_offer_activity,\n",
    "                       customer_id,\n",
    "                       offer_id,\n",
    "                       transactions,\n",
    "                       act,\n",
    "                       portfolio):\n",
    "    '''\n",
    "    INPUT\n",
    "    --------\n",
    "    customer_offer_activity - dataframe of customer activity by offers\n",
    "    customer_id \n",
    "    transactions - dataframe with all transactions\n",
    "    act - activity number in search for the feature\n",
    "    portfolio - dataframe with information on offers\n",
    "    \n",
    "    OUTPUT\n",
    "    --------\n",
    "    trans_log - dataframe with log of transactions filtered with the time of offer validity period\n",
    "    offer_id - offer id for the offer_log\n",
    "    \n",
    "    ------\n",
    "    Function takes customer activity log and activity number and outputs\n",
    "    an transaction log for the time of offer validity forward in time\n",
    "    \n",
    "    '''\n",
    "    \n",
    "    \n",
    "    curr_time = customer_offer_activity['time'].iloc[act]\n",
    "    offer_dur = portfolio[portfolio['offer_id'] == offer_id]['duration_hours'].values[0]\n",
    "    trans_log = transactions[(transactions['time']>=curr_time)\n",
    "                             &(transactions['time']<=(curr_time + offer_dur))\n",
    "                             &(transactions['customer_id']==customer_id)]\n",
    "    \n",
    "    return trans_log"
   ]
  },
  {
   "cell_type": "markdown",
   "metadata": {},
   "source": [
    "We are going to count how many times each customer completed an each offer, we already have event \"offer completed\"; however, there are a couple of issues with how this flag operates:\n",
    "- it counts as completed even if the customer has not seen that the offer existed\n",
    "- it does not count if the customer made a purchase after informational offer was viewed\n",
    "\n",
    "We need to check for every completed reward offer, if that offer was viewed, and only then count it.\n",
    "If the offer is informational (we have two types of them), we need to see if the offer was viewed, and if there was any transaction during the offer duration.\n",
    "\n",
    "We have plenty of customers that did not complete any offer. It looks like completing an offer is a minority class big time."
   ]
  },
  {
   "cell_type": "code",
   "execution_count": 24,
   "metadata": {},
   "outputs": [
    {
     "name": "stderr",
     "output_type": "stream",
     "text": [
      "Creating customer_offers_completed dictionary...: 100%|██████████| 14825/14825 [01:11<00:00, 207.93it/s]\n",
      "Filling the profile_df dataframe...: 100%|██████████| 14825/14825 [00:12<00:00, 1189.49it/s]\n"
     ]
    }
   ],
   "source": [
    "def customer_offers_completed_col(customer_ids = customer_ids, offer_ids = offer_ids,\n",
    "                                  offer_activity = offer_activity, profile = profile,\n",
    "                                 portfolio = portfolio, transactions = transactions):\n",
    "    \n",
    "    '''\n",
    "    INPUT\n",
    "    --------\n",
    "    customer_ids - list of customer IDs\n",
    "    offer_ids - list of offer IDs\n",
    "    offer_activity_df - dataframe of customer activities on offers\n",
    "    profile_df - dataframe to be modified\n",
    "    portfolio - dataframe with information on offers\n",
    "    transactions - dataframe with information on \n",
    "    \n",
    "    OUTPUT\n",
    "    --------\n",
    "    customer_offers_completed - dictionary of dictionary for each customer containing offer id as a key and \n",
    "                                number of times the offer was completed as value\n",
    "    profile_df - original dataframe containing column for offer id\n",
    "                how many times each user completed\n",
    "    \n",
    "    ------\n",
    "    Function takes profile dataframe and returns dataframe with columns representing how many times the corresponding\n",
    "    offer was completed\n",
    "    \n",
    "    '''\n",
    "    \n",
    "    #initiate a dictionary of all completed offers\n",
    "    customer_offers_completed = {}\n",
    "    \n",
    "    for customer_id in tqdm (customer_ids, desc=\"Creating customer_offers_completed dictionary...\"):\n",
    "        #initiate a dictionary of offers for each customer\n",
    "        customer_offers_completed[customer_id] = defaultdict(int)\n",
    "        #pull customer activity on offers\n",
    "        customer_offer_activity = offer_activity[offer_activity['customer_id'] == customer_id].sort_values('time')\n",
    "        \n",
    "        # for loop on customers\n",
    "        for act in range(customer_offer_activity.shape[0]):\n",
    "            \n",
    "            #check if award offer is really complete\n",
    "            if customer_offer_activity['event'].iloc[act] == 'offer completed':\n",
    "                offer_log, offer_id = generate_offer_log(customer_offer_activity = customer_offer_activity,\n",
    "                                                         act = act,\n",
    "                                                         portfolio = portfolio)\n",
    "                if offer_log.iloc[-2]['event'] == 'offer viewed':\n",
    "                    customer_offers_completed[customer_id][offer_id] = customer_offers_completed[customer_id][offer_id] + 1\n",
    "                    \n",
    "                    \n",
    "            # check if informational offer is complete\n",
    "            condition = ((customer_offer_activity['event'].iloc[act] == 'offer viewed') \n",
    "                         and (customer_offer_activity['offer_id'].iloc[act] in [3, 8]))\n",
    "\n",
    "            \n",
    "            if condition:\n",
    "                \n",
    "                trans_log, offer_id = generate_trans_log(customer_offer_activity = customer_offer_activity,\n",
    "                                                         customer_id = customer_id,\n",
    "                                                         transactions = transactions,\n",
    "                                                         act = act,\n",
    "                                                         portfolio = portfolio)\n",
    "                if trans_log.shape[0] != 0:\n",
    "                    \n",
    "                    customer_offers_completed[customer_id][offer_id] = customer_offers_completed[customer_id][offer_id] + 1\n",
    "                    \n",
    "\n",
    "    # initiate offer matrix with zeros\n",
    "    for offer in offer_ids:\n",
    "        profile['offer_{}_completed'.format(offer)] = 0\n",
    "\n",
    "    # fill all existing offers in the matrix\n",
    "    for customer_id in tqdm (customer_ids, desc=\"Filling the profile_df dataframe...\"):\n",
    "\n",
    "        for offer_id in customer_offers_completed[customer_id].keys():\n",
    "            profile.loc[profile['customer_id'] == customer_id ,\n",
    "                        'offer_{}_completed'.format(offer_id)] = customer_offers_completed[customer_id][offer_id]\n",
    "    \n",
    "    return profile, customer_offers_completed\n",
    "\n",
    "profile, customer_offers_completed = customer_offers_completed_col()"
   ]
  },
  {
   "cell_type": "markdown",
   "metadata": {},
   "source": [
    "There is one expected issue in working with the \"total spending\" and \"total reward\" - these number are only going to get larger over time. Since this always increasing feature could confuse the model, we are going to convert this values from totals to average per transaction."
   ]
  },
  {
   "cell_type": "code",
   "execution_count": 25,
   "metadata": {},
   "outputs": [
    {
     "name": "stderr",
     "output_type": "stream",
     "text": [
      "Creating customer total and average spend dictionaries...: 100%|██████████| 14825/14825 [00:17<00:00, 840.27it/s]\n",
      "Creating customer total and average spend columns...: 100%|██████████| 14825/14825 [00:13<00:00, 1096.24it/s]\n"
     ]
    }
   ],
   "source": [
    "def customer_total_avg_spend_col(customer_ids = customer_ids, profile = profile, transactions = transactions):\n",
    "    \n",
    "    '''\n",
    "    INPUT\n",
    "    --------\n",
    "    customer_ids - list of customer IDs\n",
    "    profile_df - dataframe to be modified\n",
    "    transactions_df - dataframe with information on \n",
    "    \n",
    "    \n",
    "    OUTPUT\n",
    "    --------\n",
    "    customer_total_spend - dictionary for each customer containing customer id as a key and \n",
    "                                their total spend as the value\n",
    "    customer_avg_spend - dictionary for each customer containing customer id as a key and \n",
    "                                their average amount spent as the value\n",
    "    profile - original dataframe containing with columns for total amount spent by each customer\n",
    "                and average per customer transaction\n",
    "    \n",
    "    ------\n",
    "    Function takes profile dataframe and returns dataframe with columns representing total and\n",
    "            average amount spent\n",
    "    \n",
    "    '''\n",
    "    \n",
    "    # initialize customer total and average spend dictionaries\n",
    "    customer_total_spend = {}\n",
    "    customer_avg_spend = {}\n",
    "\n",
    "    for customer_id in tqdm (customer_ids, desc=\"Creating customer total and average spend dictionaries...\"):    \n",
    "        customer_total_spend[customer_id] = transactions[transactions['customer_id'] == customer_id]['amount'].sum()\n",
    "        if customer_total_spend[customer_id] > 0:\n",
    "            customer_avg_spend[customer_id] = customer_total_spend[customer_id] / transactions[transactions['customer_id'] == customer_id].shape[0]\n",
    "        else:\n",
    "            customer_avg_spend[customer_id] = 0\n",
    "            \n",
    "    #initialize both columns at zero\n",
    "    profile['total_spend'] = 0\n",
    "    profile['average_spend'] = 0\n",
    "    \n",
    "    for customer_id in tqdm (customer_ids, desc=\"Creating customer total and average spend columns...\"):\n",
    "        profile.loc[profile['customer_id'] == customer_id ,\n",
    "                    'total_spend'] = customer_total_spend[customer_id]\n",
    "        profile.loc[profile['customer_id'] == customer_id ,\n",
    "                    'average_spend'] = customer_avg_spend[customer_id]\n",
    "    \n",
    "    return profile, customer_total_spend, customer_avg_spend\n",
    "\n",
    "profile, customer_total_spend, customer_avg_spend = customer_total_avg_spend_col()"
   ]
  },
  {
   "cell_type": "markdown",
   "metadata": {},
   "source": [
    "Only reward offers have \"completed\" status, when they are completed. In order to check real completion of the offer, we would get customer activity, then scroll though the activity transcript, find the offers that are completed and pull activity that relates to this offer in the timeframe of this offer. If this activity log has two logs (these would be \"received\" and \"completed\") - this offer should not really count as completed. \n",
    "\n",
    "Using the following function, we are going to create a map of total rewards that the customer received \"consciously\". We know that some customers completed some offers accidentally, without even knowing. These people also received the reward. We would like to count only the rewards that were sought after, aka when the customer has viewed the offer and then completed it. It means that we could increment the reward total every time we validate a completed offer."
   ]
  },
  {
   "cell_type": "code",
   "execution_count": 26,
   "metadata": {},
   "outputs": [
    {
     "name": "stderr",
     "output_type": "stream",
     "text": [
      "Creating customer_total_reward dictionary...: 100%|██████████| 14825/14825 [00:54<00:00, 272.19it/s]\n",
      "Filling total_reward and average_reward columns...: 100%|██████████| 14825/14825 [00:22<00:00, 668.88it/s]\n"
     ]
    }
   ],
   "source": [
    "def customer_total_avg_reward_col(customer_ids = customer_ids, offer_ids = offer_ids,\n",
    "                                  offer_activity = offer_activity, profile = profile,\n",
    "                                 portfolio = portfolio, transactions = transactions):\n",
    "    \n",
    "    '''\n",
    "    INPUT\n",
    "    --------\n",
    "    customer_ids - list of customer IDs\n",
    "    offer_ids - list of offer IDs\n",
    "    offer_activity - dataframe of customer activities on offers\n",
    "    profile - dataframe to be modified\n",
    "    portfolio - dataframe with information on offers\n",
    "    transactions - dataframe with information on \n",
    "    \n",
    "    OUTPUT\n",
    "    --------\n",
    "    customer_total_reward - dictionary of dictionary for each customer containing offer id as a key and \n",
    "                                total reward received by this customer's total rewards as value\n",
    "    profile - original dataframe containing with columns for total amount of rewards \n",
    "                 and average per reward by each customer\n",
    "    \n",
    "    ------\n",
    "    Function takes profile dataframe and returns dataframe with columns representing\n",
    "    the total and average amounts received in rewards by each customer\n",
    "    \n",
    "    '''\n",
    "    \n",
    "    #initiate a dictionary of total rewards per customer \n",
    "    customer_total_reward = {}\n",
    "    \n",
    "    for customer_id in tqdm (customer_ids, desc=\"Creating customer_total_reward dictionary...\"):\n",
    "        # initialize dictionary for each customer\n",
    "        customer_total_reward[customer_id] = defaultdict(int)\n",
    "        #pull offer activity for every customer\n",
    "        customer_offer_activity = offer_activity[offer_activity['customer_id'] == customer_id].sort_values('time')\n",
    "        \n",
    "        for act in range(customer_offer_activity.shape[0]):\n",
    "            \n",
    "            #check if award offer is really complete\n",
    "            if customer_offer_activity['event'].iloc[act] == 'offer completed':\n",
    "                offer_log, offer_id = generate_offer_log(customer_offer_activity = customer_offer_activity,\n",
    "                                                         act = act,\n",
    "                                                         portfolio = portfolio)\n",
    "                if offer_log.iloc[-2]['event'] == 'offer viewed':\n",
    "                    customer_total_reward[customer_id]['reward_amount'] = customer_total_reward[customer_id]['reward_amount'] + customer_offer_activity['reward'].iloc[act]\n",
    "                    customer_total_reward[customer_id]['reward_count'] = customer_total_reward[customer_id]['reward_count'] + 1\n",
    "                \n",
    "                    \n",
    "    \n",
    "    # initialize both columns at zero\n",
    "    profile['total_reward'] = 0\n",
    "    profile['average_reward'] = 0\n",
    "\n",
    "    for customer_id in tqdm (customer_ids, desc=\"Filling total_reward and average_reward columns...\"):\n",
    "        profile.loc[profile['customer_id'] == customer_id ,\n",
    "                    'total_reward'] = customer_total_reward[customer_id]['reward_amount']\n",
    "        if profile[profile['customer_id'] == customer_id]['total_reward'].values[0] > 0:\n",
    "            profile.loc[profile['customer_id'] == customer_id ,\n",
    "                        'average_reward'] = customer_total_reward[customer_id]['reward_amount'] / customer_total_reward[customer_id]['reward_count']\n",
    "        else:\n",
    "            profile.loc[profile['customer_id'] == customer_id ,\n",
    "                        'average_reward'] = 0\n",
    "\n",
    "    return profile, customer_total_reward\n",
    "\n",
    "profile, customer_total_reward = customer_total_avg_reward_col()"
   ]
  },
  {
   "cell_type": "markdown",
   "metadata": {},
   "source": [
    "Not only we need to  clean up false positives for \"offer completed\", we also need to flag the customers that get \"offer completed\" without formally \"completing\" the offer. These are the users, who complete the offer accidentally without actually viewing the offer. It means that every time we \"remove\" this false positive, we need to flag the user. This would create the feature \"accident_completion\"\n"
   ]
  },
  {
   "cell_type": "code",
   "execution_count": 27,
   "metadata": {},
   "outputs": [
    {
     "name": "stderr",
     "output_type": "stream",
     "text": [
      "Creating accident_completion dictionary...: 100%|██████████| 14825/14825 [00:54<00:00, 271.35it/s]\n",
      "Filling accident_completion column...: 100%|██████████| 14825/14825 [00:07<00:00, 2035.85it/s]\n"
     ]
    }
   ],
   "source": [
    "def customer_accident_completion_col(customer_ids = customer_ids, profile = profile,\n",
    "                                     transactions = transactions):\n",
    "    \n",
    "    '''\n",
    "    INPUT\n",
    "    --------\n",
    "    customer_ids - list of customer IDs\n",
    "    profile - dataframe to be modified\n",
    "    transactions_df - dataframe with information on \n",
    "    \n",
    "    \n",
    "    OUTPUT\n",
    "    --------\n",
    "    customer_accident_completion - dictionary containing customer id as a key and \n",
    "                                number of times this customer completed an offer accidentally\n",
    "                                as value\n",
    "    profile - containing column representing how many times this customer completed an offer\n",
    "            accidentally\n",
    "    \n",
    "    ------\n",
    "    Function takes profile dataframe and returns dataframe with columns representing how many times\n",
    "    the customer completed an offer accidentally\n",
    "    \n",
    "    '''\n",
    "    #initiate a dictionary of all accidentally completed offers\n",
    "    customer_accident_completion = defaultdict(int)\n",
    "    \n",
    "    for customer_id in tqdm (customer_ids, desc=\"Creating accident_completion dictionary...\"):\n",
    "        #pull customer activity on offers\n",
    "        customer_offer_activity = offer_activity[offer_activity['customer_id'] == customer_id].sort_values('time')\n",
    "        \n",
    "        # for loop on customers\n",
    "        for act in range(customer_offer_activity.shape[0]):\n",
    "            if customer_offer_activity['event'].iloc[act] == 'offer completed':\n",
    "                offer_log, offer_id = generate_offer_log(customer_offer_activity = customer_offer_activity,\n",
    "                                                         act = act,\n",
    "                                                         portfolio = portfolio)\n",
    "                if offer_log.iloc[-2]['event'] == 'offer received':\n",
    "                    customer_accident_completion[customer_id] = customer_accident_completion[customer_id] + 1\n",
    "    \n",
    "    # initialize accident_completion column at zero\n",
    "    profile['accident_completion'] = 0\n",
    "\n",
    "    for customer_id in tqdm (customer_ids, desc=\"Filling accident_completion column...\"):\n",
    "\n",
    "        profile.loc[profile['customer_id'] == customer_id ,\n",
    "                    'accident_completion'] = customer_accident_completion[customer_id]\n",
    "        \n",
    "    return profile, customer_accident_completion\n",
    "\n",
    "profile, customer_accident_completion = customer_accident_completion_col()"
   ]
  },
  {
   "cell_type": "markdown",
   "metadata": {},
   "source": [
    "We also have plenty of users who ignored some offers. Here are two types of ignored offers:\n",
    "    \n",
    "    1.users ignored the app completely, and did not view the offer\n",
    "    2.users viewed the offer, but did not complete it.\n",
    "\n",
    "The type (1) would be the \"ignored_offer\" - count of received offers, that were not viewed\n",
    "The type (2) would be the \"offer_not_complete\" - count of viewed offers, that were not completed.\n",
    "\n",
    "For the type (1) type of offer does not matter, since the customer did not even see the offer, they have no way of knowing what they are missing out on. For the type (2), kind of offer is important, because the offer was viewed, it means the person could estimate whether or not they wanted to pursue it. We could create a count for every type of columns (which account for duration difference), or we could count which type (bogo, discount, informational) were ignored.\n",
    "\n",
    "Next we are going to create a column describing how many offers each customer ignored. To ignore the offer, it means the offer was received, but not viewed or completed.\n"
   ]
  },
  {
   "cell_type": "code",
   "execution_count": 28,
   "metadata": {},
   "outputs": [
    {
     "name": "stderr",
     "output_type": "stream",
     "text": [
      "Creating offers_ignored dictionary...: 100%|██████████| 14825/14825 [01:26<00:00, 170.96it/s]\n",
      "Filling offers_ignored column...: 100%|██████████| 14825/14825 [00:06<00:00, 2138.02it/s]\n"
     ]
    }
   ],
   "source": [
    "def customer_offers_ignored_col(customer_ids = customer_ids, profile = profile,\n",
    "                                transactions = transactions):\n",
    "    \n",
    "    '''\n",
    "    INPUT\n",
    "    --------\n",
    "    customer_ids - list of customer IDs\n",
    "    profile - dataframe to be modified\n",
    "    transactions - dataframe with information on \n",
    "    \n",
    "    \n",
    "    OUTPUT\n",
    "    --------\n",
    "    customer_offers_ignored - dictionary containing customer id as a key and \n",
    "                                number of times the users ignored an offer as value\n",
    "    profile - containing column representing how many times the customer ignored an offer\n",
    "    \n",
    "    ------\n",
    "    Function takes profile dataframe and returns dataframe with columns representing \n",
    "    how many times the customer ignored an offer\n",
    "    '''\n",
    "\n",
    "    #initiate a dictionary of all offers\n",
    "    customer_offers_ignored = defaultdict(int)\n",
    "\n",
    "\n",
    "    for customer_id in tqdm (customer_ids, desc=\"Creating offers_ignored dictionary...\"):\n",
    "    # for loop on customers\n",
    "\n",
    "        #pull offer activity for every customer\n",
    "        customer_offer_activity = offer_activity[offer_activity['customer_id'] == customer_id].sort_values('time')\n",
    "\n",
    "        for act in range(customer_offer_activity.shape[0]):\n",
    "\n",
    "            # for loop on customer activity\n",
    "            if customer_offer_activity['event'].iloc[act] == 'offer received':\n",
    "                offer_log, offer_id = generate_offer_log_inc(customer_offer_activity = customer_offer_activity,\n",
    "                                                                     act = act,\n",
    "                                                                     portfolio = portfolio)\n",
    "                if offer_log.shape[0] == 1:\n",
    "                    # if the offer log only has one activity - offer received. it means the offer was ignored\n",
    "                    customer_offers_ignored[customer_id] = customer_offers_ignored[customer_id] + 1\n",
    "                    \n",
    "                    \n",
    "    # initialize accident_completion column at zero\n",
    "    profile['offers_ignored'] = 0\n",
    "\n",
    "    for customer_id in tqdm (customer_ids, desc=\"Filling offers_ignored column...\"):\n",
    "\n",
    "        profile.loc[profile['customer_id'] == customer_id ,\n",
    "                    'offers_ignored'] = customer_offers_ignored[customer_id]\n",
    "        \n",
    "\n",
    "    return profile, customer_offers_ignored\n",
    "\n",
    "profile, customer_offers_ignored = customer_offers_ignored_col()"
   ]
  },
  {
   "cell_type": "markdown",
   "metadata": {},
   "source": [
    "Next we are going to create a set of features that would describe how many of each type of offers each customer not completed. To not complete an offer means to receive the offer, view it, and not pursue it.\n",
    "\n",
    "First, there are three types of offers, discount and bogo, informational offers would again be a separate case. Each customer would be assigned a dictionary with offer_type as a key and count of times not completed as values."
   ]
  },
  {
   "cell_type": "code",
   "execution_count": 29,
   "metadata": {},
   "outputs": [
    {
     "name": "stderr",
     "output_type": "stream",
     "text": [
      "Creating customer_offers_not_completed dictionary...: 100%|██████████| 14825/14825 [01:46<00:00, 139.53it/s]\n",
      "Filling the profile dataframe...: 100%|██████████| 14825/14825 [00:05<00:00, 2576.74it/s]\n"
     ]
    }
   ],
   "source": [
    "def customer_offers_not_completed_col(customer_ids = customer_ids, profile = profile, transactions = transactions,\n",
    "                                     portfolio = portfolio):\n",
    "    \n",
    "    '''\n",
    "    INPUT\n",
    "    --------\n",
    "    customer_ids - list of customer IDs\n",
    "    profile - dataframe to be modified\n",
    "    transactions - dataframe with information on\n",
    "    portfolio - dataframe with information about the offers\n",
    "    \n",
    "    \n",
    "    OUTPUT\n",
    "    --------\n",
    "    customer_offers_not_completed - dictionary of dictionaries for each customer containing\n",
    "                                    offer id as a key and number of times the offer was not\n",
    "                                    completed as value\n",
    "    profile - containing columns for every offer type and how many times each user did not\n",
    "    complete the offer\n",
    "    \n",
    "    ------\n",
    "    Function takes profile dataframe and returns dataframe with columns representing how many\n",
    "    times the corresponding offer type was not completed by each customer\n",
    "    '''  \n",
    "    # initialize dictionary for \n",
    "    customer_offers_not_completed = {}\n",
    "\n",
    "\n",
    "    # bogo_ids = portfolio[portfolio['offer_type'] == 'bogo']['offer_id'].to_list()\n",
    "    # discount_ids = portfolio[portfolio['offer_type'] == 'discount']['offer_id'].to_list()\n",
    "    info_ids = portfolio[portfolio['offer_type'] == 'informational']['offer_id'].to_list()\n",
    "    rewards_ids = portfolio[(portfolio['offer_type'] == 'bogo')|(portfolio['offer_type'] == 'discount')]['offer_id'].to_list()\n",
    "    offer_id_map = {}\n",
    "    for offer_id in offer_ids:\n",
    "        offer_id_map[offer_id] = portfolio[portfolio['offer_id'] == offer_id]['offer_type'].values[0]\n",
    "    \n",
    "    \n",
    "    for customer_id in tqdm (customer_ids, desc=\"Creating customer_offers_not_completed dictionary...\"):\n",
    "\n",
    "        \n",
    "        # initialize a dictionary for each customer\n",
    "        customer_offers_not_completed[customer_id] = defaultdict(int)\n",
    "\n",
    "        customer_offer_activity = offer_activity[offer_activity['customer_id'] == customer_id].sort_values('time')\n",
    "        customer_offer_activity\n",
    "\n",
    "        for act in range(customer_offer_activity.shape[0]):\n",
    "\n",
    "            # for loop on customer activity\n",
    "            if customer_offer_activity['event'].iloc[act] == 'offer received':\n",
    "                offer_log, offer_id = generate_offer_log_inc(customer_offer_activity = customer_offer_activity,\n",
    "                                                                     act = act,\n",
    "                                                                     portfolio = portfolio)\n",
    "                if (offer_id in rewards_ids)&(offer_log.shape[0]>1):\n",
    "                    if (offer_log.shape[0]==2) & (offer_log['event'].iloc[1] == 'offer viewed'):\n",
    "\n",
    "                        customer_offers_not_completed[customer_id][offer_id_map[offer_id]] = customer_offers_not_completed[customer_id][offer_id_map[offer_id]] + 1\n",
    "                    condition = ((offer_log.shape[0]>2)\n",
    "                                 and (offer_log['event'].iloc[1] == 'offer viewed')\n",
    "                                 and (offer_log['event'].iloc[2] != 'offer completed'))\n",
    "                    if condition:\n",
    "                        customer_offers_not_completed[customer_id][offer_id_map[offer_id]] = customer_offers_not_completed[customer_id][offer_id_map[offer_id]] + 1\n",
    "\n",
    "                if (offer_id in info_ids)&(offer_log.shape[0]>1):\n",
    "                    if offer_log['event'].iloc[1] == 'offer viewed':\n",
    "                        trans_log = generate_trans_log_inc(customer_offer_activity,\n",
    "                                                           customer_id,\n",
    "                                                           offer_id,\n",
    "                                                           transactions,\n",
    "                                                           act,\n",
    "                                                           portfolio)\n",
    "                        if trans_log.shape[0] == 0:\n",
    "                            customer_offers_not_completed[customer_id][offer_id_map[offer_id]] = customer_offers_not_completed[customer_id][offer_id_map[offer_id]] + 1\n",
    "\n",
    "    # initiate offer matrix with zeros\n",
    "    for offer_type in portfolio['offer_type'].unique():\n",
    "        profile['offer_{}_not_completed'.format(offer_type)] = 0\n",
    "\n",
    "    # fill all existing offers in the matrix\n",
    "    for customer_id in tqdm (customer_ids, desc=\"Filling the profile dataframe...\"):\n",
    "\n",
    "        for offer_type in customer_offers_not_completed[customer_id].keys():\n",
    "            profile.loc[profile['customer_id'] == customer_id ,\n",
    "                        'offer_{}_not_completed'.format(offer_type)] = customer_offers_not_completed[customer_id][offer_type]\n",
    "  \n",
    "\n",
    "    return profile, customer_offers_not_completed\n",
    "\n",
    "profile, customer_offers_not_completed = customer_offers_not_completed_col()\n"
   ]
  },
  {
   "cell_type": "markdown",
   "metadata": {},
   "source": [
    "View the resulting dataframe that is ready for analysis"
   ]
  },
  {
   "cell_type": "code",
   "execution_count": 30,
   "metadata": {},
   "outputs": [
    {
     "data": {
      "text/html": [
       "<div>\n",
       "<style scoped>\n",
       "    .dataframe tbody tr th:only-of-type {\n",
       "        vertical-align: middle;\n",
       "    }\n",
       "\n",
       "    .dataframe tbody tr th {\n",
       "        vertical-align: top;\n",
       "    }\n",
       "\n",
       "    .dataframe thead th {\n",
       "        text-align: right;\n",
       "    }\n",
       "</style>\n",
       "<table border=\"1\" class=\"dataframe\">\n",
       "  <thead>\n",
       "    <tr style=\"text-align: right;\">\n",
       "      <th></th>\n",
       "      <th>gender</th>\n",
       "      <th>age</th>\n",
       "      <th>customer_id</th>\n",
       "      <th>became_member_on</th>\n",
       "      <th>income</th>\n",
       "      <th>year_joined</th>\n",
       "      <th>offer_1_completed</th>\n",
       "      <th>offer_2_completed</th>\n",
       "      <th>offer_3_completed</th>\n",
       "      <th>offer_4_completed</th>\n",
       "      <th>...</th>\n",
       "      <th>offer_10_completed</th>\n",
       "      <th>total_spend</th>\n",
       "      <th>average_spend</th>\n",
       "      <th>total_reward</th>\n",
       "      <th>average_reward</th>\n",
       "      <th>accident_completion</th>\n",
       "      <th>offers_ignored</th>\n",
       "      <th>offer_bogo_not_completed</th>\n",
       "      <th>offer_informational_not_completed</th>\n",
       "      <th>offer_discount_not_completed</th>\n",
       "    </tr>\n",
       "  </thead>\n",
       "  <tbody>\n",
       "    <tr>\n",
       "      <th>1</th>\n",
       "      <td>F</td>\n",
       "      <td>55.0</td>\n",
       "      <td>1</td>\n",
       "      <td>2017-07-15</td>\n",
       "      <td>112000.0</td>\n",
       "      <td>2017</td>\n",
       "      <td>0</td>\n",
       "      <td>0</td>\n",
       "      <td>0</td>\n",
       "      <td>0</td>\n",
       "      <td>...</td>\n",
       "      <td>0</td>\n",
       "      <td>77.01</td>\n",
       "      <td>25.670000</td>\n",
       "      <td>0</td>\n",
       "      <td>0.0</td>\n",
       "      <td>1</td>\n",
       "      <td>1</td>\n",
       "      <td>0</td>\n",
       "      <td>0</td>\n",
       "      <td>0</td>\n",
       "    </tr>\n",
       "    <tr>\n",
       "      <th>3</th>\n",
       "      <td>F</td>\n",
       "      <td>75.0</td>\n",
       "      <td>2</td>\n",
       "      <td>2017-05-09</td>\n",
       "      <td>100000.0</td>\n",
       "      <td>2017</td>\n",
       "      <td>1</td>\n",
       "      <td>0</td>\n",
       "      <td>0</td>\n",
       "      <td>1</td>\n",
       "      <td>...</td>\n",
       "      <td>0</td>\n",
       "      <td>159.27</td>\n",
       "      <td>22.752857</td>\n",
       "      <td>15</td>\n",
       "      <td>7.5</td>\n",
       "      <td>1</td>\n",
       "      <td>0</td>\n",
       "      <td>0</td>\n",
       "      <td>0</td>\n",
       "      <td>0</td>\n",
       "    </tr>\n",
       "    <tr>\n",
       "      <th>5</th>\n",
       "      <td>M</td>\n",
       "      <td>68.0</td>\n",
       "      <td>3</td>\n",
       "      <td>2018-04-26</td>\n",
       "      <td>70000.0</td>\n",
       "      <td>2018</td>\n",
       "      <td>0</td>\n",
       "      <td>0</td>\n",
       "      <td>0</td>\n",
       "      <td>1</td>\n",
       "      <td>...</td>\n",
       "      <td>0</td>\n",
       "      <td>57.73</td>\n",
       "      <td>19.243333</td>\n",
       "      <td>7</td>\n",
       "      <td>3.5</td>\n",
       "      <td>0</td>\n",
       "      <td>1</td>\n",
       "      <td>0</td>\n",
       "      <td>0</td>\n",
       "      <td>1</td>\n",
       "    </tr>\n",
       "    <tr>\n",
       "      <th>8</th>\n",
       "      <td>M</td>\n",
       "      <td>65.0</td>\n",
       "      <td>4</td>\n",
       "      <td>2018-02-09</td>\n",
       "      <td>53000.0</td>\n",
       "      <td>2018</td>\n",
       "      <td>0</td>\n",
       "      <td>0</td>\n",
       "      <td>0</td>\n",
       "      <td>1</td>\n",
       "      <td>...</td>\n",
       "      <td>1</td>\n",
       "      <td>36.43</td>\n",
       "      <td>12.143333</td>\n",
       "      <td>19</td>\n",
       "      <td>3.8</td>\n",
       "      <td>0</td>\n",
       "      <td>0</td>\n",
       "      <td>1</td>\n",
       "      <td>0</td>\n",
       "      <td>0</td>\n",
       "    </tr>\n",
       "    <tr>\n",
       "      <th>12</th>\n",
       "      <td>M</td>\n",
       "      <td>58.0</td>\n",
       "      <td>5</td>\n",
       "      <td>2017-11-11</td>\n",
       "      <td>51000.0</td>\n",
       "      <td>2017</td>\n",
       "      <td>0</td>\n",
       "      <td>0</td>\n",
       "      <td>0</td>\n",
       "      <td>0</td>\n",
       "      <td>...</td>\n",
       "      <td>0</td>\n",
       "      <td>15.62</td>\n",
       "      <td>3.905000</td>\n",
       "      <td>2</td>\n",
       "      <td>2.0</td>\n",
       "      <td>0</td>\n",
       "      <td>1</td>\n",
       "      <td>0</td>\n",
       "      <td>0</td>\n",
       "      <td>1</td>\n",
       "    </tr>\n",
       "    <tr>\n",
       "      <th>...</th>\n",
       "      <td>...</td>\n",
       "      <td>...</td>\n",
       "      <td>...</td>\n",
       "      <td>...</td>\n",
       "      <td>...</td>\n",
       "      <td>...</td>\n",
       "      <td>...</td>\n",
       "      <td>...</td>\n",
       "      <td>...</td>\n",
       "      <td>...</td>\n",
       "      <td>...</td>\n",
       "      <td>...</td>\n",
       "      <td>...</td>\n",
       "      <td>...</td>\n",
       "      <td>...</td>\n",
       "      <td>...</td>\n",
       "      <td>...</td>\n",
       "      <td>...</td>\n",
       "      <td>...</td>\n",
       "      <td>...</td>\n",
       "      <td>...</td>\n",
       "    </tr>\n",
       "    <tr>\n",
       "      <th>16995</th>\n",
       "      <td>F</td>\n",
       "      <td>45.0</td>\n",
       "      <td>14821</td>\n",
       "      <td>2018-06-04</td>\n",
       "      <td>54000.0</td>\n",
       "      <td>2018</td>\n",
       "      <td>0</td>\n",
       "      <td>0</td>\n",
       "      <td>0</td>\n",
       "      <td>0</td>\n",
       "      <td>...</td>\n",
       "      <td>0</td>\n",
       "      <td>20.03</td>\n",
       "      <td>2.861429</td>\n",
       "      <td>0</td>\n",
       "      <td>0.0</td>\n",
       "      <td>0</td>\n",
       "      <td>0</td>\n",
       "      <td>1</td>\n",
       "      <td>1</td>\n",
       "      <td>1</td>\n",
       "    </tr>\n",
       "    <tr>\n",
       "      <th>16996</th>\n",
       "      <td>M</td>\n",
       "      <td>61.0</td>\n",
       "      <td>14822</td>\n",
       "      <td>2018-07-13</td>\n",
       "      <td>72000.0</td>\n",
       "      <td>2018</td>\n",
       "      <td>0</td>\n",
       "      <td>0</td>\n",
       "      <td>0</td>\n",
       "      <td>0</td>\n",
       "      <td>...</td>\n",
       "      <td>0</td>\n",
       "      <td>25.97</td>\n",
       "      <td>3.710000</td>\n",
       "      <td>0</td>\n",
       "      <td>0.0</td>\n",
       "      <td>1</td>\n",
       "      <td>1</td>\n",
       "      <td>0</td>\n",
       "      <td>1</td>\n",
       "      <td>0</td>\n",
       "    </tr>\n",
       "    <tr>\n",
       "      <th>16997</th>\n",
       "      <td>M</td>\n",
       "      <td>49.0</td>\n",
       "      <td>14823</td>\n",
       "      <td>2017-01-26</td>\n",
       "      <td>73000.0</td>\n",
       "      <td>2017</td>\n",
       "      <td>0</td>\n",
       "      <td>0</td>\n",
       "      <td>0</td>\n",
       "      <td>0</td>\n",
       "      <td>...</td>\n",
       "      <td>0</td>\n",
       "      <td>39.74</td>\n",
       "      <td>4.967500</td>\n",
       "      <td>0</td>\n",
       "      <td>0.0</td>\n",
       "      <td>0</td>\n",
       "      <td>2</td>\n",
       "      <td>0</td>\n",
       "      <td>0</td>\n",
       "      <td>0</td>\n",
       "    </tr>\n",
       "    <tr>\n",
       "      <th>16998</th>\n",
       "      <td>F</td>\n",
       "      <td>83.0</td>\n",
       "      <td>14824</td>\n",
       "      <td>2016-03-07</td>\n",
       "      <td>50000.0</td>\n",
       "      <td>2016</td>\n",
       "      <td>0</td>\n",
       "      <td>1</td>\n",
       "      <td>0</td>\n",
       "      <td>0</td>\n",
       "      <td>...</td>\n",
       "      <td>0</td>\n",
       "      <td>189.67</td>\n",
       "      <td>13.547857</td>\n",
       "      <td>10</td>\n",
       "      <td>10.0</td>\n",
       "      <td>2</td>\n",
       "      <td>0</td>\n",
       "      <td>0</td>\n",
       "      <td>0</td>\n",
       "      <td>0</td>\n",
       "    </tr>\n",
       "    <tr>\n",
       "      <th>16999</th>\n",
       "      <td>F</td>\n",
       "      <td>62.0</td>\n",
       "      <td>14825</td>\n",
       "      <td>2017-07-22</td>\n",
       "      <td>82000.0</td>\n",
       "      <td>2017</td>\n",
       "      <td>0</td>\n",
       "      <td>0</td>\n",
       "      <td>0</td>\n",
       "      <td>0</td>\n",
       "      <td>...</td>\n",
       "      <td>0</td>\n",
       "      <td>143.02</td>\n",
       "      <td>23.836667</td>\n",
       "      <td>3</td>\n",
       "      <td>3.0</td>\n",
       "      <td>1</td>\n",
       "      <td>2</td>\n",
       "      <td>0</td>\n",
       "      <td>0</td>\n",
       "      <td>0</td>\n",
       "    </tr>\n",
       "  </tbody>\n",
       "</table>\n",
       "<p>14825 rows × 25 columns</p>\n",
       "</div>"
      ],
      "text/plain": [
       "      gender   age  customer_id became_member_on    income  year_joined  \\\n",
       "1          F  55.0            1       2017-07-15  112000.0         2017   \n",
       "3          F  75.0            2       2017-05-09  100000.0         2017   \n",
       "5          M  68.0            3       2018-04-26   70000.0         2018   \n",
       "8          M  65.0            4       2018-02-09   53000.0         2018   \n",
       "12         M  58.0            5       2017-11-11   51000.0         2017   \n",
       "...      ...   ...          ...              ...       ...          ...   \n",
       "16995      F  45.0        14821       2018-06-04   54000.0         2018   \n",
       "16996      M  61.0        14822       2018-07-13   72000.0         2018   \n",
       "16997      M  49.0        14823       2017-01-26   73000.0         2017   \n",
       "16998      F  83.0        14824       2016-03-07   50000.0         2016   \n",
       "16999      F  62.0        14825       2017-07-22   82000.0         2017   \n",
       "\n",
       "       offer_1_completed  offer_2_completed  offer_3_completed  \\\n",
       "1                      0                  0                  0   \n",
       "3                      1                  0                  0   \n",
       "5                      0                  0                  0   \n",
       "8                      0                  0                  0   \n",
       "12                     0                  0                  0   \n",
       "...                  ...                ...                ...   \n",
       "16995                  0                  0                  0   \n",
       "16996                  0                  0                  0   \n",
       "16997                  0                  0                  0   \n",
       "16998                  0                  1                  0   \n",
       "16999                  0                  0                  0   \n",
       "\n",
       "       offer_4_completed  ...  offer_10_completed  total_spend  average_spend  \\\n",
       "1                      0  ...                   0        77.01      25.670000   \n",
       "3                      1  ...                   0       159.27      22.752857   \n",
       "5                      1  ...                   0        57.73      19.243333   \n",
       "8                      1  ...                   1        36.43      12.143333   \n",
       "12                     0  ...                   0        15.62       3.905000   \n",
       "...                  ...  ...                 ...          ...            ...   \n",
       "16995                  0  ...                   0        20.03       2.861429   \n",
       "16996                  0  ...                   0        25.97       3.710000   \n",
       "16997                  0  ...                   0        39.74       4.967500   \n",
       "16998                  0  ...                   0       189.67      13.547857   \n",
       "16999                  0  ...                   0       143.02      23.836667   \n",
       "\n",
       "       total_reward  average_reward  accident_completion  offers_ignored  \\\n",
       "1                 0             0.0                    1               1   \n",
       "3                15             7.5                    1               0   \n",
       "5                 7             3.5                    0               1   \n",
       "8                19             3.8                    0               0   \n",
       "12                2             2.0                    0               1   \n",
       "...             ...             ...                  ...             ...   \n",
       "16995             0             0.0                    0               0   \n",
       "16996             0             0.0                    1               1   \n",
       "16997             0             0.0                    0               2   \n",
       "16998            10            10.0                    2               0   \n",
       "16999             3             3.0                    1               2   \n",
       "\n",
       "       offer_bogo_not_completed  offer_informational_not_completed  \\\n",
       "1                             0                                  0   \n",
       "3                             0                                  0   \n",
       "5                             0                                  0   \n",
       "8                             1                                  0   \n",
       "12                            0                                  0   \n",
       "...                         ...                                ...   \n",
       "16995                         1                                  1   \n",
       "16996                         0                                  1   \n",
       "16997                         0                                  0   \n",
       "16998                         0                                  0   \n",
       "16999                         0                                  0   \n",
       "\n",
       "       offer_discount_not_completed  \n",
       "1                                 0  \n",
       "3                                 0  \n",
       "5                                 1  \n",
       "8                                 0  \n",
       "12                                1  \n",
       "...                             ...  \n",
       "16995                             1  \n",
       "16996                             0  \n",
       "16997                             0  \n",
       "16998                             0  \n",
       "16999                             0  \n",
       "\n",
       "[14825 rows x 25 columns]"
      ]
     },
     "execution_count": 30,
     "metadata": {},
     "output_type": "execute_result"
    }
   ],
   "source": [
    "profile"
   ]
  },
  {
   "cell_type": "code",
   "execution_count": 31,
   "metadata": {},
   "outputs": [
    {
     "name": "stdout",
     "output_type": "stream",
     "text": [
      "Total Reward received by customer 16:  {'reward_amount': 22, 'reward_count': 4}\n",
      "Total Reward received by customer 18:  {'reward_amount': 0}\n",
      "Total Reward received by customer 185:  {'reward_amount': 0}\n"
     ]
    }
   ],
   "source": [
    "#total reward  completed by customer 16\n",
    "print(\"Total Reward received by customer 16: \", dict.__repr__(customer_total_reward[16])) \n",
    "\n",
    "#total reward  completed by customer 18\n",
    "print(\"Total Reward received by customer 18: \", dict.__repr__(customer_total_reward[18]) )\n",
    "\n",
    "#total reward  completed by customer 185\n",
    "print(\"Total Reward received by customer 185: \", dict.__repr__(customer_total_reward[185]) )"
   ]
  },
  {
   "cell_type": "code",
   "execution_count": 32,
   "metadata": {},
   "outputs": [
    {
     "name": "stdout",
     "output_type": "stream",
     "text": [
      "Completed by customer 16:  {5: 2, 10: 1, 2: 1}\n",
      "Completed by customer 18:  {}\n",
      "Completed by customer 9:  {1: 1, 8: 1}\n"
     ]
    }
   ],
   "source": [
    "#offers completed by customer 16\n",
    "print(\"Completed by customer 16: \", dict.__repr__(customer_offers_completed[16]) )\n",
    "\n",
    "#offers completed by customer 18\n",
    "print(\"Completed by customer 18: \", dict.__repr__(customer_offers_completed[18]) )\n",
    "\n",
    "#offers completed by customer 9\n",
    "print(\"Completed by customer 9: \", dict.__repr__(customer_offers_completed[9]) )"
   ]
  },
  {
   "cell_type": "code",
   "execution_count": 33,
   "metadata": {},
   "outputs": [
    {
     "name": "stdout",
     "output_type": "stream",
     "text": [
      "Accidentally completed by customer 16:  0\n",
      "Accidentally completed by customer 18:  0\n",
      "Accidentally completed by customer 44:  1\n"
     ]
    }
   ],
   "source": [
    "#offers accidentally completed by customer 16\n",
    "print(\"Accidentally completed by customer 16: \", customer_accident_completion[16] )\n",
    "\n",
    "#offers accidentally completed by customer 18\n",
    "print(\"Accidentally completed by customer 18: \", customer_accident_completion[18]) \n",
    "\n",
    "#offers accidentally completed by customer 44\n",
    "print(\"Accidentally completed by customer 44: \", customer_accident_completion[44]) "
   ]
  },
  {
   "cell_type": "code",
   "execution_count": 34,
   "metadata": {},
   "outputs": [
    {
     "name": "stdout",
     "output_type": "stream",
     "text": [
      "Offers ignored by customer 16:  0\n",
      "Offers ignored by customer 5:  1\n",
      "Offers ignored by customer 7943:  1\n"
     ]
    }
   ],
   "source": [
    "#offers ignored by customer 16\n",
    "print(\"Offers ignored by customer 16: \", customer_offers_ignored[16] )\n",
    "\n",
    "#offers ignored by customer 5\n",
    "print(\"Offers ignored by customer 5: \", customer_offers_ignored[5]) \n",
    "\n",
    "#offers ignored by customer 7943\n",
    "print(\"Offers ignored by customer 7943: \", customer_offers_ignored[7943]) "
   ]
  },
  {
   "cell_type": "code",
   "execution_count": 35,
   "metadata": {
    "scrolled": true
   },
   "outputs": [
    {
     "name": "stdout",
     "output_type": "stream",
     "text": [
      "Offers viewed but not completed by customer 18:  {'bogo': 1}\n",
      "Offers viewed but not completed by customer 5:  {'discount': 1}\n",
      "Offers viewed but not completed by customer 7943:  {'discount': 1, 'bogo': 2}\n"
     ]
    }
   ],
   "source": [
    "#offers viewed but not completed by customer 18\n",
    "print(\"Offers viewed but not completed by customer 18: \", dict.__repr__(customer_offers_not_completed[18] ))\n",
    "\n",
    "#offers viewed but not completed by customer 5\n",
    "print(\"Offers viewed but not completed by customer 5: \", dict.__repr__(customer_offers_not_completed[5]) )\n",
    "\n",
    "#offers viewed but not completed by customer 7943.0\n",
    "print(\"Offers viewed but not completed by customer 7943: \", dict.__repr__(customer_offers_not_completed[7943]) )"
   ]
  },
  {
   "cell_type": "markdown",
   "metadata": {},
   "source": [
    "Before implementing a Machine Learning Algorithm we need to change a format of the data. We are going to pair each user with each offer and predict whether or not this offer would be completed. For that we are going to combine completed offers into a single dictionary with offer ID as key and whether the customer completed the offer as value. It means that each customer would get exploded into rows for each offer they were exposed to during the experiment."
   ]
  },
  {
   "cell_type": "code",
   "execution_count": 36,
   "metadata": {},
   "outputs": [],
   "source": [
    "target_colnames = [\"offer_{}_completed\".format(x) for x in offer_ids]"
   ]
  },
  {
   "cell_type": "code",
   "execution_count": 37,
   "metadata": {},
   "outputs": [
    {
     "data": {
      "text/plain": [
       "Index(['gender', 'age', 'customer_id', 'became_member_on', 'income',\n",
       "       'year_joined', 'offer_1_completed', 'offer_2_completed',\n",
       "       'offer_3_completed', 'offer_4_completed', 'offer_5_completed',\n",
       "       'offer_6_completed', 'offer_7_completed', 'offer_8_completed',\n",
       "       'offer_9_completed', 'offer_10_completed', 'total_spend',\n",
       "       'average_spend', 'total_reward', 'average_reward',\n",
       "       'accident_completion', 'offers_ignored', 'offer_bogo_not_completed',\n",
       "       'offer_informational_not_completed', 'offer_discount_not_completed'],\n",
       "      dtype='object')"
      ]
     },
     "execution_count": 37,
     "metadata": {},
     "output_type": "execute_result"
    }
   ],
   "source": [
    "profile.columns"
   ]
  },
  {
   "cell_type": "code",
   "execution_count": 38,
   "metadata": {},
   "outputs": [],
   "source": [
    "def offer_stat_list(x):\n",
    "    # create an array of all offer_completed values in order\n",
    "    offer_stat = profile[target_colnames].loc[profile['customer_id']==x].values[0]\n",
    "    offer_list = []\n",
    "    # create a dictionary offer_id as value and number of times as value. Since we have\n",
    "    # numeric ids, the index number is equal to offer_id-1\n",
    "    for idx in range(len(offer_stat)):\n",
    "        offer_list.append({idx+1: offer_stat[idx]})\n",
    "        \n",
    "    # create a list of offer_ids the customer was exposed to\n",
    "    offers_presented = list(offer_activity[offer_activity['customer_id']==x]['offer_id'].unique())\n",
    "    offer_list_cleaned = []\n",
    "    # add only the offers that the customer was exposed to\n",
    "    for offer in offer_list:\n",
    "        if list(offer.keys())[0] in offers_presented:\n",
    "            offer_list_cleaned.append(offer)\n",
    "    \n",
    "    return offer_list_cleaned"
   ]
  },
  {
   "cell_type": "markdown",
   "metadata": {},
   "source": [
    "Now we are going to create a column that contains a dictionary described above"
   ]
  },
  {
   "cell_type": "code",
   "execution_count": 39,
   "metadata": {},
   "outputs": [],
   "source": [
    "profile['offer_dict'] = profile['customer_id'].apply(offer_stat_list)"
   ]
  },
  {
   "cell_type": "markdown",
   "metadata": {},
   "source": [
    "It turns out, some of the customers were not exposed to any offers during the experiment. We are going to drop these customers as we do not have any data on how they respond to offers"
   ]
  },
  {
   "cell_type": "code",
   "execution_count": 41,
   "metadata": {},
   "outputs": [
    {
     "data": {
      "text/html": [
       "<div>\n",
       "<style scoped>\n",
       "    .dataframe tbody tr th:only-of-type {\n",
       "        vertical-align: middle;\n",
       "    }\n",
       "\n",
       "    .dataframe tbody tr th {\n",
       "        vertical-align: top;\n",
       "    }\n",
       "\n",
       "    .dataframe thead th {\n",
       "        text-align: right;\n",
       "    }\n",
       "</style>\n",
       "<table border=\"1\" class=\"dataframe\">\n",
       "  <thead>\n",
       "    <tr style=\"text-align: right;\">\n",
       "      <th></th>\n",
       "      <th>gender</th>\n",
       "      <th>age</th>\n",
       "      <th>customer_id</th>\n",
       "      <th>became_member_on</th>\n",
       "      <th>income</th>\n",
       "      <th>year_joined</th>\n",
       "      <th>offer_1_completed</th>\n",
       "      <th>offer_2_completed</th>\n",
       "      <th>offer_3_completed</th>\n",
       "      <th>offer_4_completed</th>\n",
       "      <th>...</th>\n",
       "      <th>total_spend</th>\n",
       "      <th>average_spend</th>\n",
       "      <th>total_reward</th>\n",
       "      <th>average_reward</th>\n",
       "      <th>accident_completion</th>\n",
       "      <th>offers_ignored</th>\n",
       "      <th>offer_bogo_not_completed</th>\n",
       "      <th>offer_informational_not_completed</th>\n",
       "      <th>offer_discount_not_completed</th>\n",
       "      <th>offer_dict</th>\n",
       "    </tr>\n",
       "  </thead>\n",
       "  <tbody>\n",
       "    <tr>\n",
       "      <th>872</th>\n",
       "      <td>F</td>\n",
       "      <td>72.0</td>\n",
       "      <td>746</td>\n",
       "      <td>2017-10-14</td>\n",
       "      <td>35000.0</td>\n",
       "      <td>2017</td>\n",
       "      <td>0</td>\n",
       "      <td>0</td>\n",
       "      <td>0</td>\n",
       "      <td>0</td>\n",
       "      <td>...</td>\n",
       "      <td>6.95</td>\n",
       "      <td>1.737500</td>\n",
       "      <td>0</td>\n",
       "      <td>0.0</td>\n",
       "      <td>0</td>\n",
       "      <td>0</td>\n",
       "      <td>0</td>\n",
       "      <td>0</td>\n",
       "      <td>0</td>\n",
       "      <td>NaN</td>\n",
       "    </tr>\n",
       "    <tr>\n",
       "      <th>5639</th>\n",
       "      <td>F</td>\n",
       "      <td>66.0</td>\n",
       "      <td>4922</td>\n",
       "      <td>2017-09-29</td>\n",
       "      <td>34000.0</td>\n",
       "      <td>2017</td>\n",
       "      <td>0</td>\n",
       "      <td>0</td>\n",
       "      <td>0</td>\n",
       "      <td>0</td>\n",
       "      <td>...</td>\n",
       "      <td>26.01</td>\n",
       "      <td>6.502500</td>\n",
       "      <td>0</td>\n",
       "      <td>0.0</td>\n",
       "      <td>0</td>\n",
       "      <td>0</td>\n",
       "      <td>0</td>\n",
       "      <td>0</td>\n",
       "      <td>0</td>\n",
       "      <td>NaN</td>\n",
       "    </tr>\n",
       "    <tr>\n",
       "      <th>6789</th>\n",
       "      <td>F</td>\n",
       "      <td>55.0</td>\n",
       "      <td>5934</td>\n",
       "      <td>2016-08-16</td>\n",
       "      <td>88000.0</td>\n",
       "      <td>2016</td>\n",
       "      <td>0</td>\n",
       "      <td>0</td>\n",
       "      <td>0</td>\n",
       "      <td>0</td>\n",
       "      <td>...</td>\n",
       "      <td>67.62</td>\n",
       "      <td>22.540000</td>\n",
       "      <td>0</td>\n",
       "      <td>0.0</td>\n",
       "      <td>0</td>\n",
       "      <td>0</td>\n",
       "      <td>0</td>\n",
       "      <td>0</td>\n",
       "      <td>0</td>\n",
       "      <td>NaN</td>\n",
       "    </tr>\n",
       "    <tr>\n",
       "      <th>14763</th>\n",
       "      <td>F</td>\n",
       "      <td>54.0</td>\n",
       "      <td>12892</td>\n",
       "      <td>2017-01-06</td>\n",
       "      <td>72000.0</td>\n",
       "      <td>2017</td>\n",
       "      <td>0</td>\n",
       "      <td>0</td>\n",
       "      <td>0</td>\n",
       "      <td>0</td>\n",
       "      <td>...</td>\n",
       "      <td>86.43</td>\n",
       "      <td>17.286000</td>\n",
       "      <td>0</td>\n",
       "      <td>0.0</td>\n",
       "      <td>0</td>\n",
       "      <td>0</td>\n",
       "      <td>0</td>\n",
       "      <td>0</td>\n",
       "      <td>0</td>\n",
       "      <td>NaN</td>\n",
       "    </tr>\n",
       "    <tr>\n",
       "      <th>15391</th>\n",
       "      <td>M</td>\n",
       "      <td>91.0</td>\n",
       "      <td>13443</td>\n",
       "      <td>2015-10-05</td>\n",
       "      <td>70000.0</td>\n",
       "      <td>2015</td>\n",
       "      <td>0</td>\n",
       "      <td>0</td>\n",
       "      <td>0</td>\n",
       "      <td>0</td>\n",
       "      <td>...</td>\n",
       "      <td>63.25</td>\n",
       "      <td>21.083333</td>\n",
       "      <td>0</td>\n",
       "      <td>0.0</td>\n",
       "      <td>0</td>\n",
       "      <td>0</td>\n",
       "      <td>0</td>\n",
       "      <td>0</td>\n",
       "      <td>0</td>\n",
       "      <td>NaN</td>\n",
       "    </tr>\n",
       "  </tbody>\n",
       "</table>\n",
       "<p>5 rows × 26 columns</p>\n",
       "</div>"
      ],
      "text/plain": [
       "      gender   age  customer_id became_member_on   income  year_joined  \\\n",
       "872        F  72.0          746       2017-10-14  35000.0         2017   \n",
       "5639       F  66.0         4922       2017-09-29  34000.0         2017   \n",
       "6789       F  55.0         5934       2016-08-16  88000.0         2016   \n",
       "14763      F  54.0        12892       2017-01-06  72000.0         2017   \n",
       "15391      M  91.0        13443       2015-10-05  70000.0         2015   \n",
       "\n",
       "       offer_1_completed  offer_2_completed  offer_3_completed  \\\n",
       "872                    0                  0                  0   \n",
       "5639                   0                  0                  0   \n",
       "6789                   0                  0                  0   \n",
       "14763                  0                  0                  0   \n",
       "15391                  0                  0                  0   \n",
       "\n",
       "       offer_4_completed  ...  total_spend  average_spend  total_reward  \\\n",
       "872                    0  ...         6.95       1.737500             0   \n",
       "5639                   0  ...        26.01       6.502500             0   \n",
       "6789                   0  ...        67.62      22.540000             0   \n",
       "14763                  0  ...        86.43      17.286000             0   \n",
       "15391                  0  ...        63.25      21.083333             0   \n",
       "\n",
       "       average_reward  accident_completion  offers_ignored  \\\n",
       "872               0.0                    0               0   \n",
       "5639              0.0                    0               0   \n",
       "6789              0.0                    0               0   \n",
       "14763             0.0                    0               0   \n",
       "15391             0.0                    0               0   \n",
       "\n",
       "       offer_bogo_not_completed  offer_informational_not_completed  \\\n",
       "872                           0                                  0   \n",
       "5639                          0                                  0   \n",
       "6789                          0                                  0   \n",
       "14763                         0                                  0   \n",
       "15391                         0                                  0   \n",
       "\n",
       "       offer_discount_not_completed  offer_dict  \n",
       "872                               0         NaN  \n",
       "5639                              0         NaN  \n",
       "6789                              0         NaN  \n",
       "14763                             0         NaN  \n",
       "15391                             0         NaN  \n",
       "\n",
       "[5 rows x 26 columns]"
      ]
     },
     "execution_count": 41,
     "metadata": {},
     "output_type": "execute_result"
    }
   ],
   "source": [
    "# explode the profile into customer-offers pairs\n",
    "profile_exploded = profile.explode('offer_dict')\n",
    "\n",
    "# did we gain any missing data?\n",
    "profile_exploded[profile_exploded['offer_dict'].map(type)==float]"
   ]
  },
  {
   "cell_type": "code",
   "execution_count": 42,
   "metadata": {},
   "outputs": [],
   "source": [
    "\n",
    "\n",
    "# drop the customers without offer exposed history\n",
    "profile_exploded = profile_exploded.dropna()\n",
    "\n",
    "# pull the offer id from the dictionary\n",
    "profile_exploded['offer_id'] = profile_exploded['offer_dict'].apply(lambda x: list(x.keys())[0])\n",
    "\n",
    "# pull the value from the dictionary\n",
    "profile_exploded['offer_completed'] = profile_exploded['offer_dict'].apply(lambda x: list(x.values())[0])"
   ]
  },
  {
   "cell_type": "code",
   "execution_count": 43,
   "metadata": {},
   "outputs": [],
   "source": [
    "# add offer information using left merge\n",
    "profile_exploded = profile_exploded.merge(portfolio, how = 'left', left_on = 'offer_id', right_on= 'offer_id', suffixes=(False, False))\n"
   ]
  },
  {
   "cell_type": "code",
   "execution_count": 44,
   "metadata": {},
   "outputs": [],
   "source": [
    "# to create a single class problem we are going to make a simple 1 or 0 label\n",
    "# was the offer completed at least once, ignoring the actual number of times it was completed\n",
    "profile_exploded['offer_completed'] = profile_exploded['offer_completed'].apply(lambda x: 1 if x!=0 else 0)"
   ]
  },
  {
   "cell_type": "markdown",
   "metadata": {},
   "source": [
    "Save cleaned file into csv, so it would be available later"
   ]
  },
  {
   "cell_type": "code",
   "execution_count": 45,
   "metadata": {},
   "outputs": [
    {
     "data": {
      "text/plain": [
       "Index(['gender', 'age', 'customer_id', 'became_member_on', 'income',\n",
       "       'year_joined', 'offer_1_completed', 'offer_2_completed',\n",
       "       'offer_3_completed', 'offer_4_completed', 'offer_5_completed',\n",
       "       'offer_6_completed', 'offer_7_completed', 'offer_8_completed',\n",
       "       'offer_9_completed', 'offer_10_completed', 'total_spend',\n",
       "       'average_spend', 'total_reward', 'average_reward',\n",
       "       'accident_completion', 'offers_ignored', 'offer_bogo_not_completed',\n",
       "       'offer_informational_not_completed', 'offer_discount_not_completed',\n",
       "       'offer_dict', 'offer_id', 'offer_completed', 'reward', 'difficulty',\n",
       "       'duration', 'offer_type', 'email', 'mobile', 'social', 'web',\n",
       "       'discount', 'informational', 'duration_hours'],\n",
       "      dtype='object')"
      ]
     },
     "execution_count": 45,
     "metadata": {},
     "output_type": "execute_result"
    }
   ],
   "source": [
    "filename = 'data/profile_df.csv'\n",
    "\n",
    "profile_exploded.to_csv(filename, index=False) # save file now to be able to pick up from here\n",
    "\n",
    "# Uncomment to load:\n",
    "# profile_exploded = pd.read_csv(filename)\n",
    "profile_exploded.columns"
   ]
  },
  {
   "cell_type": "markdown",
   "metadata": {},
   "source": [
    "### Exploratory Data Analysis\n",
    "\n",
    "`1.` **What is the age distibution of Starbucks customers?**\n"
   ]
  },
  {
   "cell_type": "code",
   "execution_count": 46,
   "metadata": {},
   "outputs": [
    {
     "name": "stdout",
     "output_type": "stream",
     "text": [
      "Starbucks App user age is between 18.0 and 101.0 years old\n"
     ]
    }
   ],
   "source": [
    "print(\"Starbucks App user age is between {} and {} years old\"\n",
    "      .format(profile['age'].min(), profile['age'].max()))\n"
   ]
  },
  {
   "cell_type": "code",
   "execution_count": 47,
   "metadata": {},
   "outputs": [
    {
     "name": "stdout",
     "output_type": "stream",
     "text": [
      "Average Starbucks App user age is 54 years old\n"
     ]
    }
   ],
   "source": [
    "print(\"Average Starbucks App user age is {} years old\".format(round(profile['age'].mean())))"
   ]
  },
  {
   "cell_type": "code",
   "execution_count": 48,
   "metadata": {},
   "outputs": [],
   "source": [
    "sns.set_style(\"white\")\n",
    "sns.set_context(\"notebook\")\n",
    "sns.set_palette(\"pastel\")"
   ]
  },
  {
   "cell_type": "code",
   "execution_count": 49,
   "metadata": {},
   "outputs": [
    {
     "data": {
      "image/png": "[encoded data removed]",
      "text/plain": [
       "<Figure size 842.4x595.44 with 1 Axes>"
      ]
     },
     "metadata": {},
     "output_type": "display_data"
    }
   ],
   "source": [
    "fig, ax = plt.subplots(figsize=(11.7, 8.27))\n",
    "\n",
    "sns.histplot(profile, x=\"age\", hue=\"gender\", bins = 10, multiple=\"stack\");"
   ]
  },
  {
   "cell_type": "markdown",
   "metadata": {},
   "source": [
    "It looks like age of customers follow normal distribution with slight skew towards younger demographic"
   ]
  },
  {
   "cell_type": "markdown",
   "metadata": {},
   "source": [
    "`2.` **What is the income distribution of Starbucks customers?**"
   ]
  },
  {
   "cell_type": "code",
   "execution_count": 50,
   "metadata": {},
   "outputs": [
    {
     "data": {
      "image/png": "[encoded data removed]",
      "text/plain": [
       "<Figure size 842.4x595.44 with 1 Axes>"
      ]
     },
     "metadata": {},
     "output_type": "display_data"
    }
   ],
   "source": [
    "fig, ax = plt.subplots(figsize=(11.7, 8.27))\n",
    "sns.histplot(profile, x=\"income\", hue=\"gender\", bins = 10, multiple=\"stack\");"
   ]
  },
  {
   "cell_type": "markdown",
   "metadata": {},
   "source": [
    "Most of Starbucks customers earn 80k or less. Larger proportion of less earning customers are male, and females are a larger proportion of a higher income customers."
   ]
  },
  {
   "cell_type": "markdown",
   "metadata": {},
   "source": [
    "`3.` **How many people joined Starbucks membership each year?**\n",
    "\n",
    "It looks like membership became more popular after 2017, but every year Starbucks saw more and more people joining the app. Most of people joined in 2017, possibly following some kind of promotion."
   ]
  },
  {
   "cell_type": "code",
   "execution_count": 51,
   "metadata": {},
   "outputs": [
    {
     "data": {
      "image/png": "[encoded data removed]",
      "text/plain": [
       "<Figure size 842.4x595.44 with 1 Axes>"
      ]
     },
     "metadata": {},
     "output_type": "display_data"
    }
   ],
   "source": [
    "fig, ax = plt.subplots(figsize=(11.7, 8.27))\n",
    "sns.histplot(profile, x=\"year_joined\", bins = 10, multiple=\"stack\");"
   ]
  },
  {
   "cell_type": "markdown",
   "metadata": {},
   "source": [
    "`4.` **How many people abandoned each kind of offers? Which offers get abandoned the most? Least?**"
   ]
  },
  {
   "cell_type": "code",
   "execution_count": 52,
   "metadata": {},
   "outputs": [
    {
     "data": {
      "image/png": "[encoded data removed]",
      "text/plain": [
       "<Figure size 1152x576 with 3 Axes>"
      ]
     },
     "metadata": {},
     "output_type": "display_data"
    }
   ],
   "source": [
    "f, axs = plt.subplots(1, 3, figsize=(16, 8))\n",
    "sns.histplot(data=profile, x=\"offer_bogo_not_completed\", alpha=.8, legend=False,\n",
    "             binwidth = 1, ax=axs[0])\n",
    "sns.histplot(data=profile, x=\"offer_informational_not_completed\", alpha=.8, legend=False,\n",
    "             binwidth = 0.5, ax=axs[1])\n",
    "sns.histplot(data=profile, x=\"offer_discount_not_completed\", alpha=.8, legend=False,\n",
    "             binwidth = 1, ax=axs[2])\n",
    "\n",
    "axs[0].set(xlabel='BOGO offers viewed but not completed', ylabel='Count')\n",
    "axs[0].set(ylim=(0, 15000))\n",
    "axs[1].set(xlabel='Info offers viewed but not completed', ylabel='Count')\n",
    "axs[1].set(ylim=(0, 15000))\n",
    "axs[2].set(xlabel='Discount offers viewed but not completed', ylabel='Count')\n",
    "axs[2].set(ylim=(0, 15000))\n",
    "\n",
    "\n",
    "f.tight_layout()"
   ]
  },
  {
   "cell_type": "markdown",
   "metadata": {},
   "source": [
    "There are a lot of offers that users viewed but not completed. The graphics above captures each time every customer did not follow through with the offer after viewing it. It appears that the most successful offer type is \"Buy One get One\" since it has the least number of customers that did not pursue it after viewing. The most informational offers were not followed through."
   ]
  },
  {
   "cell_type": "markdown",
   "metadata": {},
   "source": [
    "`5.` **What rate of completion for each offer? How do they compare within each type?**"
   ]
  },
  {
   "cell_type": "code",
   "execution_count": 53,
   "metadata": {},
   "outputs": [],
   "source": [
    "bogo_ids = portfolio[portfolio['offer_type'] == 'bogo']['offer_id'].to_list()\n",
    "discount_ids = portfolio[portfolio['offer_type'] == 'discount']['offer_id'].to_list()\n",
    "info_ids = portfolio[portfolio['offer_type'] == 'informational']['offer_id'].to_list()"
   ]
  },
  {
   "cell_type": "code",
   "execution_count": 54,
   "metadata": {},
   "outputs": [
    {
     "data": {
      "image/png": "[encoded data removed]",
      "text/plain": [
       "<Figure size 1152x576 with 4 Axes>"
      ]
     },
     "metadata": {},
     "output_type": "display_data"
    }
   ],
   "source": [
    "f, axs = plt.subplots(1, len(bogo_ids), figsize=(16, 8))\n",
    "for idx in range(len(bogo_ids)):\n",
    "    sns.histplot(data=profile, x=\"offer_{}_completed\".format(bogo_ids[idx]),\n",
    "                 alpha=.8, legend=False,\n",
    "                 binwidth = 1, ax = axs[idx])\n",
    "    axs[idx].set(ylim=(0, 16000))\n",
    "    \n",
    "f.suptitle('BOGO Offers Completion Rate', fontsize=20)\n",
    "f.tight_layout()"
   ]
  },
  {
   "cell_type": "markdown",
   "metadata": {},
   "source": [
    "BOGO offers are completed and abandoned with a very similar rate. The difference between these offers are difficulty and validity period, which seem to not have any affect on the rate of completion."
   ]
  },
  {
   "cell_type": "code",
   "execution_count": 55,
   "metadata": {},
   "outputs": [
    {
     "data": {
      "image/png": "[encoded data removed]",
      "text/plain": [
       "<Figure size 1152x576 with 2 Axes>"
      ]
     },
     "metadata": {},
     "output_type": "display_data"
    }
   ],
   "source": [
    "f, axs = plt.subplots(1, len(info_ids), figsize=(16, 8))\n",
    "for idx in range(len(info_ids)):\n",
    "    sns.histplot(data=profile, x=\"offer_{}_completed\".format(info_ids[idx]),\n",
    "                 alpha=.8, legend=False,\n",
    "                 binwidth = 1, ax = axs[idx])\n",
    "    \n",
    "    axs[idx].set(ylim=(0, 16000))\n",
    "    \n",
    "f.suptitle('Informational Offers Completion Rate', fontsize=20)\n",
    "f.tight_layout()"
   ]
  },
  {
   "cell_type": "markdown",
   "metadata": {},
   "source": [
    "Same goes for informational offers. People get just as affected by longer running ads as shorter ones."
   ]
  },
  {
   "cell_type": "code",
   "execution_count": 56,
   "metadata": {},
   "outputs": [
    {
     "data": {
      "image/png": "[encoded data removed]",
      "text/plain": [
       "<Figure size 1152x576 with 4 Axes>"
      ]
     },
     "metadata": {},
     "output_type": "display_data"
    }
   ],
   "source": [
    "f, axs = plt.subplots(1, len(discount_ids), figsize=(16, 8))\n",
    "for idx in range(len(discount_ids)):\n",
    "    sns.histplot(data=profile, x=\"offer_{}_completed\".format(discount_ids[idx]),\n",
    "                 alpha=.8, legend=False,\n",
    "                 binwidth = 1, ax = axs[idx])\n",
    "    \n",
    "    axs[idx].set(ylim=(0, 17000))\n",
    "    \n",
    "f.suptitle('Discount Offers Completion Rate', fontsize=20)\n",
    "f.tight_layout()"
   ]
  },
  {
   "cell_type": "code",
   "execution_count": 57,
   "metadata": {},
   "outputs": [
    {
     "data": {
      "text/html": [
       "<div>\n",
       "<style scoped>\n",
       "    .dataframe tbody tr th:only-of-type {\n",
       "        vertical-align: middle;\n",
       "    }\n",
       "\n",
       "    .dataframe tbody tr th {\n",
       "        vertical-align: top;\n",
       "    }\n",
       "\n",
       "    .dataframe thead th {\n",
       "        text-align: right;\n",
       "    }\n",
       "</style>\n",
       "<table border=\"1\" class=\"dataframe\">\n",
       "  <thead>\n",
       "    <tr style=\"text-align: right;\">\n",
       "      <th></th>\n",
       "      <th>reward</th>\n",
       "      <th>difficulty</th>\n",
       "      <th>duration</th>\n",
       "      <th>offer_type</th>\n",
       "      <th>offer_id</th>\n",
       "      <th>email</th>\n",
       "      <th>mobile</th>\n",
       "      <th>social</th>\n",
       "      <th>web</th>\n",
       "      <th>discount</th>\n",
       "      <th>informational</th>\n",
       "      <th>duration_hours</th>\n",
       "    </tr>\n",
       "  </thead>\n",
       "  <tbody>\n",
       "    <tr>\n",
       "      <th>4</th>\n",
       "      <td>5</td>\n",
       "      <td>20</td>\n",
       "      <td>10</td>\n",
       "      <td>discount</td>\n",
       "      <td>5</td>\n",
       "      <td>1</td>\n",
       "      <td>0</td>\n",
       "      <td>0</td>\n",
       "      <td>1</td>\n",
       "      <td>1</td>\n",
       "      <td>0</td>\n",
       "      <td>240</td>\n",
       "    </tr>\n",
       "    <tr>\n",
       "      <th>5</th>\n",
       "      <td>3</td>\n",
       "      <td>7</td>\n",
       "      <td>7</td>\n",
       "      <td>discount</td>\n",
       "      <td>6</td>\n",
       "      <td>1</td>\n",
       "      <td>1</td>\n",
       "      <td>1</td>\n",
       "      <td>1</td>\n",
       "      <td>1</td>\n",
       "      <td>0</td>\n",
       "      <td>168</td>\n",
       "    </tr>\n",
       "    <tr>\n",
       "      <th>6</th>\n",
       "      <td>2</td>\n",
       "      <td>10</td>\n",
       "      <td>10</td>\n",
       "      <td>discount</td>\n",
       "      <td>7</td>\n",
       "      <td>1</td>\n",
       "      <td>1</td>\n",
       "      <td>1</td>\n",
       "      <td>1</td>\n",
       "      <td>1</td>\n",
       "      <td>0</td>\n",
       "      <td>240</td>\n",
       "    </tr>\n",
       "    <tr>\n",
       "      <th>9</th>\n",
       "      <td>2</td>\n",
       "      <td>10</td>\n",
       "      <td>7</td>\n",
       "      <td>discount</td>\n",
       "      <td>10</td>\n",
       "      <td>1</td>\n",
       "      <td>1</td>\n",
       "      <td>0</td>\n",
       "      <td>1</td>\n",
       "      <td>1</td>\n",
       "      <td>0</td>\n",
       "      <td>168</td>\n",
       "    </tr>\n",
       "  </tbody>\n",
       "</table>\n",
       "</div>"
      ],
      "text/plain": [
       "   reward  difficulty  duration offer_type  offer_id  email  mobile  social  \\\n",
       "4       5          20        10   discount         5      1       0       0   \n",
       "5       3           7         7   discount         6      1       1       1   \n",
       "6       2          10        10   discount         7      1       1       1   \n",
       "9       2          10         7   discount        10      1       1       0   \n",
       "\n",
       "   web  discount  informational  duration_hours  \n",
       "4    1         1              0             240  \n",
       "5    1         1              0             168  \n",
       "6    1         1              0             240  \n",
       "9    1         1              0             168  "
      ]
     },
     "execution_count": 57,
     "metadata": {},
     "output_type": "execute_result"
    }
   ],
   "source": [
    "portfolio[portfolio['offer_type']=='discount']"
   ]
  },
  {
   "cell_type": "markdown",
   "metadata": {},
   "source": [
    "Discount offers show a little more variety in their completion rates. Offers 5 and 10 were abandoned the most as offer 5 requires the most amount spent, while offer 10 is giving the least discount value."
   ]
  },
  {
   "cell_type": "markdown",
   "metadata": {},
   "source": [
    "`6.` **What is the general demographic of people who ignore offers, not viewing them?**"
   ]
  },
  {
   "cell_type": "code",
   "execution_count": 58,
   "metadata": {},
   "outputs": [
    {
     "data": {
      "image/png": "[encoded data removed]",
      "text/plain": [
       "<Figure size 842.4x595.44 with 1 Axes>"
      ]
     },
     "metadata": {},
     "output_type": "display_data"
    }
   ],
   "source": [
    "fig, ax = plt.subplots(figsize=(11.7, 8.27))\n",
    "sns.histplot(profile, x=\"offers_ignored\", hue=\"gender\", multiple = 'dodge',\n",
    "            binwidth = 1);"
   ]
  },
  {
   "cell_type": "code",
   "execution_count": 59,
   "metadata": {},
   "outputs": [
    {
     "data": {
      "image/png": "[encoded data removed]",
      "text/plain": [
       "<Figure size 842.4x595.44 with 1 Axes>"
      ]
     },
     "metadata": {},
     "output_type": "display_data"
    }
   ],
   "source": [
    "fig, ax = plt.subplots(figsize=(11.7, 8.27))\n",
    "sns.histplot(profile, x=\"income\", hue=\"offers_ignored\", multiple = 'stack');"
   ]
  },
  {
   "cell_type": "markdown",
   "metadata": {},
   "source": [
    "According to the graphics above, it looks like male consistently ignored more offers than female.  Even though male seem to ignore offers more consistently, they also ignored zero offers more frequently. It means these offers were completed or at least viewed.\n",
    "\n",
    "There are more people on the lower income spectrum who did not ignore any offers. There are also more people on the lower than 80k income in the entire Starbucks demographic. However, looking at the proportion to a total income bracket, there are more offer enthusiasts on the lower income bracket."
   ]
  },
  {
   "cell_type": "markdown",
   "metadata": {},
   "source": [
    "`7.` **What is the general demographic of people who complete offers by accident?**"
   ]
  },
  {
   "cell_type": "code",
   "execution_count": 60,
   "metadata": {
    "scrolled": false
   },
   "outputs": [
    {
     "data": {
      "image/png": "[encoded data removed]",
      "text/plain": [
       "<Figure size 842.4x595.44 with 1 Axes>"
      ]
     },
     "metadata": {},
     "output_type": "display_data"
    }
   ],
   "source": [
    "fig, ax = plt.subplots(figsize=(11.7, 8.27))\n",
    "sns.histplot(profile, x=\"accident_completion\", hue=\"gender\", multiple = 'dodge',\n",
    "            binwidth = 1);"
   ]
  },
  {
   "cell_type": "code",
   "execution_count": 61,
   "metadata": {},
   "outputs": [
    {
     "data": {
      "image/png": "[encoded data removed]",
      "text/plain": [
       "<Figure size 842.4x595.44 with 1 Axes>"
      ]
     },
     "metadata": {},
     "output_type": "display_data"
    }
   ],
   "source": [
    "fig, ax = plt.subplots(figsize=(11.7, 8.27))\n",
    "sns.histplot(profile, x=\"income\", hue=\"accident_completion\", multiple = 'stack');"
   ]
  },
  {
   "cell_type": "markdown",
   "metadata": {},
   "source": [
    "For Accident completion as well as for Offers Ignored metric, it is very tricky to make sense of the zero value. Male and female customers completed offers accidentally at almost the same rate, but males but far did not complete accidentally more offers.\n",
    "\n",
    "As in the previous question, we discovered that there are more offer enthusiasts in the lower income bracket, people who earn less than 80k tend to miss less offers. These people also tend to not complete offers accidentally, which means they are probably tend to check the app for offers more often. There is a larger proportion of people who completed offers accidentally among higher earners."
   ]
  },
  {
   "cell_type": "markdown",
   "metadata": {},
   "source": [
    "`8.` **What is the distribution of total rewards and amount spent by customers?**"
   ]
  },
  {
   "cell_type": "code",
   "execution_count": 62,
   "metadata": {},
   "outputs": [
    {
     "data": {
      "text/plain": [
       "(0.0, 40.0)"
      ]
     },
     "execution_count": 62,
     "metadata": {},
     "output_type": "execute_result"
    },
    {
     "data": {
      "image/png": "[encoded data removed]",
      "text/plain": [
       "<Figure size 696.85x432 with 1 Axes>"
      ]
     },
     "metadata": {},
     "output_type": "display_data"
    }
   ],
   "source": [
    "sns.displot(x = 'total_reward', hue = 'gender', data = profile,\n",
    "            height=6, aspect=1.5, multiple = 'stack', bins = 10);\n",
    "plt.xlim(0, 40)"
   ]
  },
  {
   "cell_type": "code",
   "execution_count": 63,
   "metadata": {},
   "outputs": [
    {
     "data": {
      "image/png": "[encoded data removed]",
      "text/plain": [
       "<Figure size 696.85x432 with 1 Axes>"
      ]
     },
     "metadata": {},
     "output_type": "display_data"
    }
   ],
   "source": [
    "sns.displot(x = 'total_spend', hue = 'gender', data = profile,\n",
    "            height=6, aspect=1.5, multiple = 'stack', bins = 50);\n",
    "plt.xlim(0, 500);"
   ]
  },
  {
   "cell_type": "markdown",
   "metadata": {},
   "source": [
    "Most of people did not spend much in Starbucks during the experiment, distribution of spending is heavily skewed to the left. Consequently, total reward amount is also skewed to the left, since the least people spend in offers, the less rewards they receive. Same as in income distribution, male make up a very large proportion of spend and rewards amounts."
   ]
  },
  {
   "cell_type": "code",
   "execution_count": 64,
   "metadata": {},
   "outputs": [
    {
     "data": {
      "image/png": "[encoded data removed]",
      "text/plain": [
       "<Figure size 696.85x432 with 1 Axes>"
      ]
     },
     "metadata": {},
     "output_type": "display_data"
    }
   ],
   "source": [
    "sns.displot(x = 'average_spend', hue = 'gender', data = profile,\n",
    "            height=6, aspect=1.5, multiple = 'stack', bins = 50);\n",
    "plt.xlim(0, 50);"
   ]
  },
  {
   "cell_type": "code",
   "execution_count": 65,
   "metadata": {},
   "outputs": [
    {
     "data": {
      "image/png": "[encoded data removed]",
      "text/plain": [
       "<Figure size 696.85x432 with 1 Axes>"
      ]
     },
     "metadata": {},
     "output_type": "display_data"
    }
   ],
   "source": [
    "sns.displot(x = 'average_reward', hue = 'gender', data = profile,\n",
    "            height=6, aspect=1.5, multiple = 'stack', bins = 20);\n",
    "plt.xlim(0, 10);"
   ]
  },
  {
   "cell_type": "markdown",
   "metadata": {},
   "source": [
    "Looking at the average reward chart, it appears that people are either not passionate about offers, or offer enthusiasts, or something in the middle"
   ]
  },
  {
   "cell_type": "markdown",
   "metadata": {},
   "source": [
    "`9.` and `10.` **What is the most and least popular offer?**"
   ]
  },
  {
   "cell_type": "code",
   "execution_count": 66,
   "metadata": {},
   "outputs": [
    {
     "data": {
      "image/png": "[encoded data removed]",
      "text/plain": [
       "<Figure size 842.4x595.44 with 1 Axes>"
      ]
     },
     "metadata": {},
     "output_type": "display_data"
    }
   ],
   "source": [
    "offers_comp = pd.DataFrame(np.sum(profile[target_colnames])).T\n",
    "fig, ax = plt.subplots(figsize=(11.7, 8.27))\n",
    "\n",
    "sns.barplot(data = offers_comp, ax = ax);\n",
    "ax.set_xticklabels(range(1, 11));"
   ]
  },
  {
   "cell_type": "markdown",
   "metadata": {},
   "source": [
    "According to the chart above, the most popular offer is the offer 7 and the offer 5 is the least popular."
   ]
  },
  {
   "cell_type": "code",
   "execution_count": 67,
   "metadata": {},
   "outputs": [
    {
     "data": {
      "text/html": [
       "<div>\n",
       "<style scoped>\n",
       "    .dataframe tbody tr th:only-of-type {\n",
       "        vertical-align: middle;\n",
       "    }\n",
       "\n",
       "    .dataframe tbody tr th {\n",
       "        vertical-align: top;\n",
       "    }\n",
       "\n",
       "    .dataframe thead th {\n",
       "        text-align: right;\n",
       "    }\n",
       "</style>\n",
       "<table border=\"1\" class=\"dataframe\">\n",
       "  <thead>\n",
       "    <tr style=\"text-align: right;\">\n",
       "      <th></th>\n",
       "      <th>reward</th>\n",
       "      <th>difficulty</th>\n",
       "      <th>duration</th>\n",
       "      <th>offer_type</th>\n",
       "      <th>discount</th>\n",
       "      <th>offer_id</th>\n",
       "    </tr>\n",
       "  </thead>\n",
       "  <tbody>\n",
       "    <tr>\n",
       "      <th>4</th>\n",
       "      <td>5</td>\n",
       "      <td>20</td>\n",
       "      <td>10</td>\n",
       "      <td>discount</td>\n",
       "      <td>1</td>\n",
       "      <td>5</td>\n",
       "    </tr>\n",
       "    <tr>\n",
       "      <th>6</th>\n",
       "      <td>2</td>\n",
       "      <td>10</td>\n",
       "      <td>10</td>\n",
       "      <td>discount</td>\n",
       "      <td>1</td>\n",
       "      <td>7</td>\n",
       "    </tr>\n",
       "  </tbody>\n",
       "</table>\n",
       "</div>"
      ],
      "text/plain": [
       "   reward  difficulty  duration offer_type  discount  offer_id\n",
       "4       5          20        10   discount         1         5\n",
       "6       2          10        10   discount         1         7"
      ]
     },
     "execution_count": 67,
     "metadata": {},
     "output_type": "execute_result"
    }
   ],
   "source": [
    "portfolio[(portfolio['offer_id']==5) | (portfolio['offer_id']==7)][['reward', 'difficulty',\n",
    "                                                                    'duration', 'offer_type',\n",
    "                                                                   'discount', 'offer_id']]"
   ]
  },
  {
   "cell_type": "markdown",
   "metadata": {},
   "source": [
    "Both of these offers are discount offers with duration of 10 days. Surprisingly, the difficulty of 20 prevents people from completing the offer 5, while difficulty 10 with reward 2 wakes offer 7 the most popular."
   ]
  },
  {
   "cell_type": "markdown",
   "metadata": {},
   "source": [
    "## Machine Learning Algorithm"
   ]
  },
  {
   "cell_type": "code",
   "execution_count": 68,
   "metadata": {},
   "outputs": [],
   "source": [
    "def train_predict_result(model, X_train, y_train, X_test, y_test):\n",
    "    results = {}\n",
    "    \n",
    "    #fit the model\n",
    "    model.fit(X_train, y_train)\n",
    "    \n",
    "    #predict test\n",
    "    y_pred_test = model.predict(X_test)\n",
    "    \n",
    "    #predict train\n",
    "    y_pred_train = model.predict(X_train)\n",
    "    \n",
    "    #Accuracy of training\n",
    "    results['acc_train'] = accuracy_score(y_train, y_pred_train)\n",
    "    \n",
    "    #Accuracy of testing\n",
    "    results['acc_test'] = accuracy_score(y_test, y_pred_test)\n",
    "    \n",
    "    #f1-score for training\n",
    "    results['f1_train'] = f1_score(y_train, y_pred_train)\n",
    "    \n",
    "    #f1-score for testing\n",
    "    results['f1_test'] = f1_score(y_test, y_pred_test)\n",
    "    \n",
    "    print(\"{} trained.\".format(model.__class__.__name__))\n",
    "        \n",
    "    # Return the results\n",
    "    return results"
   ]
  },
  {
   "cell_type": "code",
   "execution_count": 69,
   "metadata": {},
   "outputs": [],
   "source": [
    "# get dummies for gender column\n",
    "df_cat = pd.get_dummies(profile_exploded['gender'], dummy_na = False, drop_first=True)\n",
    "profile_exploded = profile_exploded.merge(df_cat, how = 'inner', left_index = True, right_index= True)"
   ]
  },
  {
   "cell_type": "code",
   "execution_count": 70,
   "metadata": {},
   "outputs": [
    {
     "data": {
      "text/html": [
       "<div>\n",
       "<style scoped>\n",
       "    .dataframe tbody tr th:only-of-type {\n",
       "        vertical-align: middle;\n",
       "    }\n",
       "\n",
       "    .dataframe tbody tr th {\n",
       "        vertical-align: top;\n",
       "    }\n",
       "\n",
       "    .dataframe thead th {\n",
       "        text-align: right;\n",
       "    }\n",
       "</style>\n",
       "<table border=\"1\" class=\"dataframe\">\n",
       "  <thead>\n",
       "    <tr style=\"text-align: right;\">\n",
       "      <th></th>\n",
       "      <th>gender</th>\n",
       "      <th>age</th>\n",
       "      <th>customer_id</th>\n",
       "      <th>became_member_on</th>\n",
       "      <th>income</th>\n",
       "      <th>year_joined</th>\n",
       "      <th>offer_1_completed</th>\n",
       "      <th>offer_2_completed</th>\n",
       "      <th>offer_3_completed</th>\n",
       "      <th>offer_4_completed</th>\n",
       "      <th>...</th>\n",
       "      <th>email</th>\n",
       "      <th>mobile</th>\n",
       "      <th>social</th>\n",
       "      <th>web</th>\n",
       "      <th>discount</th>\n",
       "      <th>informational</th>\n",
       "      <th>duration_hours</th>\n",
       "      <th>M</th>\n",
       "      <th>O</th>\n",
       "      <th>years_member</th>\n",
       "    </tr>\n",
       "  </thead>\n",
       "  <tbody>\n",
       "    <tr>\n",
       "      <th>0</th>\n",
       "      <td>F</td>\n",
       "      <td>55.0</td>\n",
       "      <td>1</td>\n",
       "      <td>2017-07-15</td>\n",
       "      <td>112000.0</td>\n",
       "      <td>2017</td>\n",
       "      <td>0</td>\n",
       "      <td>0</td>\n",
       "      <td>0</td>\n",
       "      <td>0</td>\n",
       "      <td>...</td>\n",
       "      <td>1</td>\n",
       "      <td>1</td>\n",
       "      <td>0</td>\n",
       "      <td>1</td>\n",
       "      <td>0</td>\n",
       "      <td>1</td>\n",
       "      <td>96</td>\n",
       "      <td>0</td>\n",
       "      <td>0</td>\n",
       "      <td>4</td>\n",
       "    </tr>\n",
       "    <tr>\n",
       "      <th>1</th>\n",
       "      <td>F</td>\n",
       "      <td>55.0</td>\n",
       "      <td>1</td>\n",
       "      <td>2017-07-15</td>\n",
       "      <td>112000.0</td>\n",
       "      <td>2017</td>\n",
       "      <td>0</td>\n",
       "      <td>0</td>\n",
       "      <td>0</td>\n",
       "      <td>0</td>\n",
       "      <td>...</td>\n",
       "      <td>1</td>\n",
       "      <td>1</td>\n",
       "      <td>0</td>\n",
       "      <td>1</td>\n",
       "      <td>0</td>\n",
       "      <td>0</td>\n",
       "      <td>168</td>\n",
       "      <td>0</td>\n",
       "      <td>0</td>\n",
       "      <td>4</td>\n",
       "    </tr>\n",
       "    <tr>\n",
       "      <th>2</th>\n",
       "      <td>F</td>\n",
       "      <td>75.0</td>\n",
       "      <td>2</td>\n",
       "      <td>2017-05-09</td>\n",
       "      <td>100000.0</td>\n",
       "      <td>2017</td>\n",
       "      <td>1</td>\n",
       "      <td>0</td>\n",
       "      <td>0</td>\n",
       "      <td>1</td>\n",
       "      <td>...</td>\n",
       "      <td>1</td>\n",
       "      <td>1</td>\n",
       "      <td>1</td>\n",
       "      <td>0</td>\n",
       "      <td>0</td>\n",
       "      <td>0</td>\n",
       "      <td>168</td>\n",
       "      <td>0</td>\n",
       "      <td>0</td>\n",
       "      <td>4</td>\n",
       "    </tr>\n",
       "    <tr>\n",
       "      <th>3</th>\n",
       "      <td>F</td>\n",
       "      <td>75.0</td>\n",
       "      <td>2</td>\n",
       "      <td>2017-05-09</td>\n",
       "      <td>100000.0</td>\n",
       "      <td>2017</td>\n",
       "      <td>1</td>\n",
       "      <td>0</td>\n",
       "      <td>0</td>\n",
       "      <td>1</td>\n",
       "      <td>...</td>\n",
       "      <td>1</td>\n",
       "      <td>1</td>\n",
       "      <td>0</td>\n",
       "      <td>1</td>\n",
       "      <td>0</td>\n",
       "      <td>0</td>\n",
       "      <td>168</td>\n",
       "      <td>0</td>\n",
       "      <td>0</td>\n",
       "      <td>4</td>\n",
       "    </tr>\n",
       "    <tr>\n",
       "      <th>4</th>\n",
       "      <td>F</td>\n",
       "      <td>75.0</td>\n",
       "      <td>2</td>\n",
       "      <td>2017-05-09</td>\n",
       "      <td>100000.0</td>\n",
       "      <td>2017</td>\n",
       "      <td>1</td>\n",
       "      <td>0</td>\n",
       "      <td>0</td>\n",
       "      <td>1</td>\n",
       "      <td>...</td>\n",
       "      <td>1</td>\n",
       "      <td>1</td>\n",
       "      <td>1</td>\n",
       "      <td>0</td>\n",
       "      <td>0</td>\n",
       "      <td>1</td>\n",
       "      <td>72</td>\n",
       "      <td>0</td>\n",
       "      <td>0</td>\n",
       "      <td>4</td>\n",
       "    </tr>\n",
       "    <tr>\n",
       "      <th>...</th>\n",
       "      <td>...</td>\n",
       "      <td>...</td>\n",
       "      <td>...</td>\n",
       "      <td>...</td>\n",
       "      <td>...</td>\n",
       "      <td>...</td>\n",
       "      <td>...</td>\n",
       "      <td>...</td>\n",
       "      <td>...</td>\n",
       "      <td>...</td>\n",
       "      <td>...</td>\n",
       "      <td>...</td>\n",
       "      <td>...</td>\n",
       "      <td>...</td>\n",
       "      <td>...</td>\n",
       "      <td>...</td>\n",
       "      <td>...</td>\n",
       "      <td>...</td>\n",
       "      <td>...</td>\n",
       "      <td>...</td>\n",
       "      <td>...</td>\n",
       "    </tr>\n",
       "    <tr>\n",
       "      <th>55217</th>\n",
       "      <td>F</td>\n",
       "      <td>83.0</td>\n",
       "      <td>14824</td>\n",
       "      <td>2016-03-07</td>\n",
       "      <td>50000.0</td>\n",
       "      <td>2016</td>\n",
       "      <td>0</td>\n",
       "      <td>1</td>\n",
       "      <td>0</td>\n",
       "      <td>0</td>\n",
       "      <td>...</td>\n",
       "      <td>1</td>\n",
       "      <td>1</td>\n",
       "      <td>1</td>\n",
       "      <td>1</td>\n",
       "      <td>0</td>\n",
       "      <td>0</td>\n",
       "      <td>120</td>\n",
       "      <td>0</td>\n",
       "      <td>0</td>\n",
       "      <td>5</td>\n",
       "    </tr>\n",
       "    <tr>\n",
       "      <th>55218</th>\n",
       "      <td>F</td>\n",
       "      <td>83.0</td>\n",
       "      <td>14824</td>\n",
       "      <td>2016-03-07</td>\n",
       "      <td>50000.0</td>\n",
       "      <td>2016</td>\n",
       "      <td>0</td>\n",
       "      <td>1</td>\n",
       "      <td>0</td>\n",
       "      <td>0</td>\n",
       "      <td>...</td>\n",
       "      <td>1</td>\n",
       "      <td>1</td>\n",
       "      <td>0</td>\n",
       "      <td>1</td>\n",
       "      <td>0</td>\n",
       "      <td>0</td>\n",
       "      <td>168</td>\n",
       "      <td>0</td>\n",
       "      <td>0</td>\n",
       "      <td>5</td>\n",
       "    </tr>\n",
       "    <tr>\n",
       "      <th>55219</th>\n",
       "      <td>F</td>\n",
       "      <td>62.0</td>\n",
       "      <td>14825</td>\n",
       "      <td>2017-07-22</td>\n",
       "      <td>82000.0</td>\n",
       "      <td>2017</td>\n",
       "      <td>0</td>\n",
       "      <td>0</td>\n",
       "      <td>0</td>\n",
       "      <td>0</td>\n",
       "      <td>...</td>\n",
       "      <td>1</td>\n",
       "      <td>1</td>\n",
       "      <td>0</td>\n",
       "      <td>1</td>\n",
       "      <td>0</td>\n",
       "      <td>1</td>\n",
       "      <td>96</td>\n",
       "      <td>0</td>\n",
       "      <td>0</td>\n",
       "      <td>4</td>\n",
       "    </tr>\n",
       "    <tr>\n",
       "      <th>55220</th>\n",
       "      <td>F</td>\n",
       "      <td>62.0</td>\n",
       "      <td>14825</td>\n",
       "      <td>2017-07-22</td>\n",
       "      <td>82000.0</td>\n",
       "      <td>2017</td>\n",
       "      <td>0</td>\n",
       "      <td>0</td>\n",
       "      <td>0</td>\n",
       "      <td>0</td>\n",
       "      <td>...</td>\n",
       "      <td>1</td>\n",
       "      <td>1</td>\n",
       "      <td>1</td>\n",
       "      <td>1</td>\n",
       "      <td>1</td>\n",
       "      <td>0</td>\n",
       "      <td>168</td>\n",
       "      <td>0</td>\n",
       "      <td>0</td>\n",
       "      <td>4</td>\n",
       "    </tr>\n",
       "    <tr>\n",
       "      <th>55221</th>\n",
       "      <td>F</td>\n",
       "      <td>62.0</td>\n",
       "      <td>14825</td>\n",
       "      <td>2017-07-22</td>\n",
       "      <td>82000.0</td>\n",
       "      <td>2017</td>\n",
       "      <td>0</td>\n",
       "      <td>0</td>\n",
       "      <td>0</td>\n",
       "      <td>0</td>\n",
       "      <td>...</td>\n",
       "      <td>1</td>\n",
       "      <td>1</td>\n",
       "      <td>1</td>\n",
       "      <td>1</td>\n",
       "      <td>0</td>\n",
       "      <td>0</td>\n",
       "      <td>120</td>\n",
       "      <td>0</td>\n",
       "      <td>0</td>\n",
       "      <td>4</td>\n",
       "    </tr>\n",
       "  </tbody>\n",
       "</table>\n",
       "<p>55222 rows × 42 columns</p>\n",
       "</div>"
      ],
      "text/plain": [
       "      gender   age  customer_id became_member_on    income  year_joined  \\\n",
       "0          F  55.0            1       2017-07-15  112000.0         2017   \n",
       "1          F  55.0            1       2017-07-15  112000.0         2017   \n",
       "2          F  75.0            2       2017-05-09  100000.0         2017   \n",
       "3          F  75.0            2       2017-05-09  100000.0         2017   \n",
       "4          F  75.0            2       2017-05-09  100000.0         2017   \n",
       "...      ...   ...          ...              ...       ...          ...   \n",
       "55217      F  83.0        14824       2016-03-07   50000.0         2016   \n",
       "55218      F  83.0        14824       2016-03-07   50000.0         2016   \n",
       "55219      F  62.0        14825       2017-07-22   82000.0         2017   \n",
       "55220      F  62.0        14825       2017-07-22   82000.0         2017   \n",
       "55221      F  62.0        14825       2017-07-22   82000.0         2017   \n",
       "\n",
       "       offer_1_completed  offer_2_completed  offer_3_completed  \\\n",
       "0                      0                  0                  0   \n",
       "1                      0                  0                  0   \n",
       "2                      1                  0                  0   \n",
       "3                      1                  0                  0   \n",
       "4                      1                  0                  0   \n",
       "...                  ...                ...                ...   \n",
       "55217                  0                  1                  0   \n",
       "55218                  0                  1                  0   \n",
       "55219                  0                  0                  0   \n",
       "55220                  0                  0                  0   \n",
       "55221                  0                  0                  0   \n",
       "\n",
       "       offer_4_completed  ...  email  mobile  social  web  discount  \\\n",
       "0                      0  ...      1       1       0    1         0   \n",
       "1                      0  ...      1       1       0    1         0   \n",
       "2                      1  ...      1       1       1    0         0   \n",
       "3                      1  ...      1       1       0    1         0   \n",
       "4                      1  ...      1       1       1    0         0   \n",
       "...                  ...  ...    ...     ...     ...  ...       ...   \n",
       "55217                  0  ...      1       1       1    1         0   \n",
       "55218                  0  ...      1       1       0    1         0   \n",
       "55219                  0  ...      1       1       0    1         0   \n",
       "55220                  0  ...      1       1       1    1         1   \n",
       "55221                  0  ...      1       1       1    1         0   \n",
       "\n",
       "       informational  duration_hours  M  O  years_member  \n",
       "0                  1              96  0  0             4  \n",
       "1                  0             168  0  0             4  \n",
       "2                  0             168  0  0             4  \n",
       "3                  0             168  0  0             4  \n",
       "4                  1              72  0  0             4  \n",
       "...              ...             ... .. ..           ...  \n",
       "55217              0             120  0  0             5  \n",
       "55218              0             168  0  0             5  \n",
       "55219              1              96  0  0             4  \n",
       "55220              0             168  0  0             4  \n",
       "55221              0             120  0  0             4  \n",
       "\n",
       "[55222 rows x 42 columns]"
      ]
     },
     "execution_count": 70,
     "metadata": {},
     "output_type": "execute_result"
    }
   ],
   "source": [
    "profile_exploded['years_member'] = datetime.datetime.today().year - profile_exploded['year_joined']\n",
    "profile_exploded"
   ]
  },
  {
   "cell_type": "code",
   "execution_count": 71,
   "metadata": {},
   "outputs": [],
   "source": [
    "X = profile_exploded.drop(target_colnames, axis = 1)\n",
    "X = X.drop(['gender', 'customer_id', 'became_member_on', 'year_joined', 'offer_dict', 'offer_id', 'offer_type', 'offer_completed'], axis = 1)\n",
    "\n",
    "\n",
    "Y = profile_exploded['offer_completed']"
   ]
  },
  {
   "cell_type": "code",
   "execution_count": 72,
   "metadata": {},
   "outputs": [
    {
     "data": {
      "image/png": "[encoded data removed]",
      "text/plain": [
       "<Figure size 432x288 with 1 Axes>"
      ]
     },
     "metadata": {},
     "output_type": "display_data"
    }
   ],
   "source": [
    "Y.hist();"
   ]
  },
  {
   "cell_type": "code",
   "execution_count": 73,
   "metadata": {},
   "outputs": [],
   "source": [
    "# Train set split\n",
    "X_train, X_test, y_train, y_test = train_test_split(X, Y, test_size=1/3, random_state=0)"
   ]
  },
  {
   "cell_type": "markdown",
   "metadata": {},
   "source": [
    "Optionally, we could also scale the data, as it could potentially improve model performance. At this point, we are going to proceed without re-scaling the data."
   ]
  },
  {
   "cell_type": "code",
   "execution_count": 74,
   "metadata": {},
   "outputs": [],
   "source": [
    "# scaler = MinMaxScaler()\n",
    "# scaler.fit(X_train)\n",
    "\n",
    "# X_train = scaler.transform(X_train)\n",
    "# X_test = scaler.transform(X_test)"
   ]
  },
  {
   "cell_type": "code",
   "execution_count": 75,
   "metadata": {},
   "outputs": [
    {
     "name": "stdout",
     "output_type": "stream",
     "text": [
      "Requirement already satisfied: xgboost in c:\\users\\maria\\anaconda3\\lib\\site-packages (1.4.2)\n",
      "Requirement already satisfied: numpy in c:\\users\\maria\\anaconda3\\lib\\site-packages (from xgboost) (1.19.2)\n",
      "Requirement already satisfied: scipy in c:\\users\\maria\\anaconda3\\lib\\site-packages (from xgboost) (1.5.2)\n",
      "Note: you may need to restart the kernel to use updated packages.\n"
     ]
    }
   ],
   "source": [
    "pip install xgboost"
   ]
  },
  {
   "cell_type": "code",
   "execution_count": 116,
   "metadata": {},
   "outputs": [],
   "source": [
    "from sklearn.naive_bayes import GaussianNB \n",
    "from xgboost import XGBClassifier\n",
    "from sklearn.tree import DecisionTreeClassifier\n",
    "from sklearn.ensemble import RandomForestClassifier\n",
    "from sklearn.model_selection import GridSearchCV\n",
    "from sklearn.preprocessing import MinMaxScaler\n",
    "\n",
    "from sklearn.metrics import accuracy_score\n",
    "from sklearn.model_selection import KFold\n",
    "from sklearn.model_selection import cross_val_predict"
   ]
  },
  {
   "cell_type": "code",
   "execution_count": 77,
   "metadata": {},
   "outputs": [],
   "source": [
    "# Initialize the models\n",
    "\n",
    "logreg = LogisticRegression(solver='lbfgs', class_weight='balanced', max_iter=600,\n",
    "                            random_state=10)\n",
    "randomforestclf = RandomForestClassifier(random_state=10)\n",
    "gnb = GaussianNB()\n",
    "knn = KNeighborsClassifier() \n",
    "dectree = DecisionTreeClassifier()\n",
    "xgb = XGBClassifier(use_label_encoder=False,\n",
    "                   objective = 'binary:logistic',\n",
    "                   eval_metric = 'error')\n",
    "\n",
    "models = [logreg, randomforestclf, gnb, knn, dectree, xgb]"
   ]
  },
  {
   "cell_type": "code",
   "execution_count": 78,
   "metadata": {},
   "outputs": [
    {
     "name": "stdout",
     "output_type": "stream",
     "text": [
      "LogisticRegression trained.\n",
      "RandomForestClassifier trained.\n",
      "GaussianNB trained.\n",
      "KNeighborsClassifier trained.\n",
      "DecisionTreeClassifier trained.\n",
      "XGBClassifier trained.\n"
     ]
    }
   ],
   "source": [
    "result_dict = {}\n",
    "for model in models:\n",
    "    model_name = model.__class__.__name__\n",
    "    result_dict[model_name] = train_predict_result(model, X_train, y_train, X_test, y_test)"
   ]
  },
  {
   "cell_type": "code",
   "execution_count": 79,
   "metadata": {
    "scrolled": false
   },
   "outputs": [
    {
     "name": "stdout",
     "output_type": "stream",
     "text": [
      "LogisticRegression :\n"
     ]
    },
    {
     "data": {
      "text/html": [
       "<div>\n",
       "<style scoped>\n",
       "    .dataframe tbody tr th:only-of-type {\n",
       "        vertical-align: middle;\n",
       "    }\n",
       "\n",
       "    .dataframe tbody tr th {\n",
       "        vertical-align: top;\n",
       "    }\n",
       "\n",
       "    .dataframe thead th {\n",
       "        text-align: right;\n",
       "    }\n",
       "</style>\n",
       "<table border=\"1\" class=\"dataframe\">\n",
       "  <thead>\n",
       "    <tr style=\"text-align: right;\">\n",
       "      <th></th>\n",
       "      <th>acc_train</th>\n",
       "      <th>acc_test</th>\n",
       "      <th>f1_train</th>\n",
       "      <th>f1_test</th>\n",
       "    </tr>\n",
       "  </thead>\n",
       "  <tbody>\n",
       "    <tr>\n",
       "      <th>0</th>\n",
       "      <td>0.719156</td>\n",
       "      <td>0.71382</td>\n",
       "      <td>0.687086</td>\n",
       "      <td>0.67878</td>\n",
       "    </tr>\n",
       "  </tbody>\n",
       "</table>\n",
       "</div>"
      ],
      "text/plain": [
       "   acc_train  acc_test  f1_train  f1_test\n",
       "0   0.719156   0.71382  0.687086  0.67878"
      ]
     },
     "metadata": {},
     "output_type": "display_data"
    },
    {
     "name": "stdout",
     "output_type": "stream",
     "text": [
      "===================================\n",
      "\n",
      "\n",
      "RandomForestClassifier :\n"
     ]
    },
    {
     "data": {
      "text/html": [
       "<div>\n",
       "<style scoped>\n",
       "    .dataframe tbody tr th:only-of-type {\n",
       "        vertical-align: middle;\n",
       "    }\n",
       "\n",
       "    .dataframe tbody tr th {\n",
       "        vertical-align: top;\n",
       "    }\n",
       "\n",
       "    .dataframe thead th {\n",
       "        text-align: right;\n",
       "    }\n",
       "</style>\n",
       "<table border=\"1\" class=\"dataframe\">\n",
       "  <thead>\n",
       "    <tr style=\"text-align: right;\">\n",
       "      <th></th>\n",
       "      <th>acc_train</th>\n",
       "      <th>acc_test</th>\n",
       "      <th>f1_train</th>\n",
       "      <th>f1_test</th>\n",
       "    </tr>\n",
       "  </thead>\n",
       "  <tbody>\n",
       "    <tr>\n",
       "      <th>0</th>\n",
       "      <td>1.0</td>\n",
       "      <td>0.872392</td>\n",
       "      <td>1.0</td>\n",
       "      <td>0.854758</td>\n",
       "    </tr>\n",
       "  </tbody>\n",
       "</table>\n",
       "</div>"
      ],
      "text/plain": [
       "   acc_train  acc_test  f1_train   f1_test\n",
       "0        1.0  0.872392       1.0  0.854758"
      ]
     },
     "metadata": {},
     "output_type": "display_data"
    },
    {
     "name": "stdout",
     "output_type": "stream",
     "text": [
      "===================================\n",
      "\n",
      "\n",
      "GaussianNB :\n"
     ]
    },
    {
     "data": {
      "text/html": [
       "<div>\n",
       "<style scoped>\n",
       "    .dataframe tbody tr th:only-of-type {\n",
       "        vertical-align: middle;\n",
       "    }\n",
       "\n",
       "    .dataframe tbody tr th {\n",
       "        vertical-align: top;\n",
       "    }\n",
       "\n",
       "    .dataframe thead th {\n",
       "        text-align: right;\n",
       "    }\n",
       "</style>\n",
       "<table border=\"1\" class=\"dataframe\">\n",
       "  <thead>\n",
       "    <tr style=\"text-align: right;\">\n",
       "      <th></th>\n",
       "      <th>acc_train</th>\n",
       "      <th>acc_test</th>\n",
       "      <th>f1_train</th>\n",
       "      <th>f1_test</th>\n",
       "    </tr>\n",
       "  </thead>\n",
       "  <tbody>\n",
       "    <tr>\n",
       "      <th>0</th>\n",
       "      <td>0.72994</td>\n",
       "      <td>0.728651</td>\n",
       "      <td>0.707674</td>\n",
       "      <td>0.70428</td>\n",
       "    </tr>\n",
       "  </tbody>\n",
       "</table>\n",
       "</div>"
      ],
      "text/plain": [
       "   acc_train  acc_test  f1_train  f1_test\n",
       "0    0.72994  0.728651  0.707674  0.70428"
      ]
     },
     "metadata": {},
     "output_type": "display_data"
    },
    {
     "name": "stdout",
     "output_type": "stream",
     "text": [
      "===================================\n",
      "\n",
      "\n",
      "KNeighborsClassifier :\n"
     ]
    },
    {
     "data": {
      "text/html": [
       "<div>\n",
       "<style scoped>\n",
       "    .dataframe tbody tr th:only-of-type {\n",
       "        vertical-align: middle;\n",
       "    }\n",
       "\n",
       "    .dataframe tbody tr th {\n",
       "        vertical-align: top;\n",
       "    }\n",
       "\n",
       "    .dataframe thead th {\n",
       "        text-align: right;\n",
       "    }\n",
       "</style>\n",
       "<table border=\"1\" class=\"dataframe\">\n",
       "  <thead>\n",
       "    <tr style=\"text-align: right;\">\n",
       "      <th></th>\n",
       "      <th>acc_train</th>\n",
       "      <th>acc_test</th>\n",
       "      <th>f1_train</th>\n",
       "      <th>f1_test</th>\n",
       "    </tr>\n",
       "  </thead>\n",
       "  <tbody>\n",
       "    <tr>\n",
       "      <th>0</th>\n",
       "      <td>0.784538</td>\n",
       "      <td>0.666341</td>\n",
       "      <td>0.757372</td>\n",
       "      <td>0.621612</td>\n",
       "    </tr>\n",
       "  </tbody>\n",
       "</table>\n",
       "</div>"
      ],
      "text/plain": [
       "   acc_train  acc_test  f1_train   f1_test\n",
       "0   0.784538  0.666341  0.757372  0.621612"
      ]
     },
     "metadata": {},
     "output_type": "display_data"
    },
    {
     "name": "stdout",
     "output_type": "stream",
     "text": [
      "===================================\n",
      "\n",
      "\n",
      "DecisionTreeClassifier :\n"
     ]
    },
    {
     "data": {
      "text/html": [
       "<div>\n",
       "<style scoped>\n",
       "    .dataframe tbody tr th:only-of-type {\n",
       "        vertical-align: middle;\n",
       "    }\n",
       "\n",
       "    .dataframe tbody tr th {\n",
       "        vertical-align: top;\n",
       "    }\n",
       "\n",
       "    .dataframe thead th {\n",
       "        text-align: right;\n",
       "    }\n",
       "</style>\n",
       "<table border=\"1\" class=\"dataframe\">\n",
       "  <thead>\n",
       "    <tr style=\"text-align: right;\">\n",
       "      <th></th>\n",
       "      <th>acc_train</th>\n",
       "      <th>acc_test</th>\n",
       "      <th>f1_train</th>\n",
       "      <th>f1_test</th>\n",
       "    </tr>\n",
       "  </thead>\n",
       "  <tbody>\n",
       "    <tr>\n",
       "      <th>0</th>\n",
       "      <td>1.0</td>\n",
       "      <td>0.823066</td>\n",
       "      <td>1.0</td>\n",
       "      <td>0.796374</td>\n",
       "    </tr>\n",
       "  </tbody>\n",
       "</table>\n",
       "</div>"
      ],
      "text/plain": [
       "   acc_train  acc_test  f1_train   f1_test\n",
       "0        1.0  0.823066       1.0  0.796374"
      ]
     },
     "metadata": {},
     "output_type": "display_data"
    },
    {
     "name": "stdout",
     "output_type": "stream",
     "text": [
      "===================================\n",
      "\n",
      "\n",
      "XGBClassifier :\n"
     ]
    },
    {
     "data": {
      "text/html": [
       "<div>\n",
       "<style scoped>\n",
       "    .dataframe tbody tr th:only-of-type {\n",
       "        vertical-align: middle;\n",
       "    }\n",
       "\n",
       "    .dataframe tbody tr th {\n",
       "        vertical-align: top;\n",
       "    }\n",
       "\n",
       "    .dataframe thead th {\n",
       "        text-align: right;\n",
       "    }\n",
       "</style>\n",
       "<table border=\"1\" class=\"dataframe\">\n",
       "  <thead>\n",
       "    <tr style=\"text-align: right;\">\n",
       "      <th></th>\n",
       "      <th>acc_train</th>\n",
       "      <th>acc_test</th>\n",
       "      <th>f1_train</th>\n",
       "      <th>f1_test</th>\n",
       "    </tr>\n",
       "  </thead>\n",
       "  <tbody>\n",
       "    <tr>\n",
       "      <th>0</th>\n",
       "      <td>0.921769</td>\n",
       "      <td>0.873533</td>\n",
       "      <td>0.913232</td>\n",
       "      <td>0.858222</td>\n",
       "    </tr>\n",
       "  </tbody>\n",
       "</table>\n",
       "</div>"
      ],
      "text/plain": [
       "   acc_train  acc_test  f1_train   f1_test\n",
       "0   0.921769  0.873533  0.913232  0.858222"
      ]
     },
     "metadata": {},
     "output_type": "display_data"
    },
    {
     "name": "stdout",
     "output_type": "stream",
     "text": [
      "===================================\n",
      "\n",
      "\n"
     ]
    }
   ],
   "source": [
    "for mod in range(len(models)):\n",
    "    print(models[mod].__class__.__name__, \":\")\n",
    "    display(pd.DataFrame(result_dict[models[mod].__class__.__name__], index = range(1)))\n",
    "    print('===================================\\n\\n')"
   ]
  },
  {
   "cell_type": "markdown",
   "metadata": {},
   "source": [
    "- **Logistic Regression** performed the weakest in both training and testing, with accuracy 71.9% in training and 71.3% on testing.\n",
    "\n",
    "- **RandomForestClassifier** and **DecisionTreeClassifier** are both examples of overfitting: 100% accuracy on training data and 82% - 87% for testing. Because both of these models overfit in training, we are not going to use them in further analysis. \n",
    "\n",
    "- The best result for the base models are:\n",
    "    - **GaussianNB** with f1 score of 0.71 and accuracy 72.8%\n",
    "    - **KNeighbors Classifier** with f1 score of 0.62 and accuracy 66.6%\n",
    "    - **XGBClassifier** with f1 score 0.86 and accuracy 87.4%\n",
    "    \n",
    "All of these models show realistically good performance, we really do not want anything near 100% accuracy, as it could be an indication of training data leaking into testing set.\n",
    "\n",
    "We are going to proceed with XGBClassifier for further analysis."
   ]
  },
  {
   "cell_type": "markdown",
   "metadata": {},
   "source": [
    "## Grid Search to improve the best performing base model"
   ]
  },
  {
   "cell_type": "code",
   "execution_count": 80,
   "metadata": {},
   "outputs": [
    {
     "data": {
      "text/plain": [
       "{'objective': 'binary:logistic',\n",
       " 'use_label_encoder': False,\n",
       " 'base_score': 0.5,\n",
       " 'booster': 'gbtree',\n",
       " 'colsample_bylevel': 1,\n",
       " 'colsample_bynode': 1,\n",
       " 'colsample_bytree': 1,\n",
       " 'gamma': 0,\n",
       " 'gpu_id': -1,\n",
       " 'importance_type': 'gain',\n",
       " 'interaction_constraints': '',\n",
       " 'learning_rate': 0.300000012,\n",
       " 'max_delta_step': 0,\n",
       " 'max_depth': 6,\n",
       " 'min_child_weight': 1,\n",
       " 'missing': nan,\n",
       " 'monotone_constraints': '()',\n",
       " 'n_estimators': 100,\n",
       " 'n_jobs': 12,\n",
       " 'num_parallel_tree': 1,\n",
       " 'random_state': 0,\n",
       " 'reg_alpha': 0,\n",
       " 'reg_lambda': 1,\n",
       " 'scale_pos_weight': 1,\n",
       " 'subsample': 1,\n",
       " 'tree_method': 'exact',\n",
       " 'validate_parameters': 1,\n",
       " 'verbosity': None,\n",
       " 'eval_metric': 'error'}"
      ]
     },
     "execution_count": 80,
     "metadata": {},
     "output_type": "execute_result"
    }
   ],
   "source": [
    "xgb.get_params()"
   ]
  },
  {
   "cell_type": "code",
   "execution_count": 103,
   "metadata": {},
   "outputs": [],
   "source": [
    "# create a dictionary of parameters to test\n",
    "xgb_grid_params = {'objective': ['binary:logistic'],\n",
    "                   'eval_metric': ['error'],\n",
    "                   'use_label_encoder':[False],\n",
    "                 'gamma': [0, 0.5],\n",
    "                 'learning_rate': [0.300000012, 0.25, 0.35],\n",
    "                 'max_depth': [6, 5, 7]}"
   ]
  },
  {
   "cell_type": "code",
   "execution_count": 104,
   "metadata": {},
   "outputs": [
    {
     "name": "stdout",
     "output_type": "stream",
     "text": [
      "Fitting 6 folds for each of 18 candidates, totalling 108 fits\n",
      "[CV 1/6; 1/18] START eval_metric=error, gamma=0, learning_rate=0.300000012, max_depth=6, objective=binary:logistic, use_label_encoder=False\n",
      "[CV 1/6; 1/18] END eval_metric=error, gamma=0, learning_rate=0.300000012, max_depth=6, objective=binary:logistic, use_label_encoder=False; total time=   0.9s\n",
      "[CV 2/6; 1/18] START eval_metric=error, gamma=0, learning_rate=0.300000012, max_depth=6, objective=binary:logistic, use_label_encoder=False\n",
      "[CV 2/6; 1/18] END eval_metric=error, gamma=0, learning_rate=0.300000012, max_depth=6, objective=binary:logistic, use_label_encoder=False; total time=   0.9s\n",
      "[CV 3/6; 1/18] START eval_metric=error, gamma=0, learning_rate=0.300000012, max_depth=6, objective=binary:logistic, use_label_encoder=False\n",
      "[CV 3/6; 1/18] END eval_metric=error, gamma=0, learning_rate=0.300000012, max_depth=6, objective=binary:logistic, use_label_encoder=False; total time=   0.8s\n",
      "[CV 4/6; 1/18] START eval_metric=error, gamma=0, learning_rate=0.300000012, max_depth=6, objective=binary:logistic, use_label_encoder=False\n",
      "[CV 4/6; 1/18] END eval_metric=error, gamma=0, learning_rate=0.300000012, max_depth=6, objective=binary:logistic, use_label_encoder=False; total time=   0.9s\n",
      "[CV 5/6; 1/18] START eval_metric=error, gamma=0, learning_rate=0.300000012, max_depth=6, objective=binary:logistic, use_label_encoder=False\n",
      "[CV 5/6; 1/18] END eval_metric=error, gamma=0, learning_rate=0.300000012, max_depth=6, objective=binary:logistic, use_label_encoder=False; total time=   0.9s\n",
      "[CV 6/6; 1/18] START eval_metric=error, gamma=0, learning_rate=0.300000012, max_depth=6, objective=binary:logistic, use_label_encoder=False\n",
      "[CV 6/6; 1/18] END eval_metric=error, gamma=0, learning_rate=0.300000012, max_depth=6, objective=binary:logistic, use_label_encoder=False; total time=   0.8s\n",
      "[CV 1/6; 2/18] START eval_metric=error, gamma=0, learning_rate=0.300000012, max_depth=5, objective=binary:logistic, use_label_encoder=False\n",
      "[CV 1/6; 2/18] END eval_metric=error, gamma=0, learning_rate=0.300000012, max_depth=5, objective=binary:logistic, use_label_encoder=False; total time=   0.7s\n",
      "[CV 2/6; 2/18] START eval_metric=error, gamma=0, learning_rate=0.300000012, max_depth=5, objective=binary:logistic, use_label_encoder=False\n",
      "[CV 2/6; 2/18] END eval_metric=error, gamma=0, learning_rate=0.300000012, max_depth=5, objective=binary:logistic, use_label_encoder=False; total time=   0.7s\n",
      "[CV 3/6; 2/18] START eval_metric=error, gamma=0, learning_rate=0.300000012, max_depth=5, objective=binary:logistic, use_label_encoder=False\n",
      "[CV 3/6; 2/18] END eval_metric=error, gamma=0, learning_rate=0.300000012, max_depth=5, objective=binary:logistic, use_label_encoder=False; total time=   0.7s\n",
      "[CV 4/6; 2/18] START eval_metric=error, gamma=0, learning_rate=0.300000012, max_depth=5, objective=binary:logistic, use_label_encoder=False\n",
      "[CV 4/6; 2/18] END eval_metric=error, gamma=0, learning_rate=0.300000012, max_depth=5, objective=binary:logistic, use_label_encoder=False; total time=   0.7s\n",
      "[CV 5/6; 2/18] START eval_metric=error, gamma=0, learning_rate=0.300000012, max_depth=5, objective=binary:logistic, use_label_encoder=False\n",
      "[CV 5/6; 2/18] END eval_metric=error, gamma=0, learning_rate=0.300000012, max_depth=5, objective=binary:logistic, use_label_encoder=False; total time=   0.8s\n",
      "[CV 6/6; 2/18] START eval_metric=error, gamma=0, learning_rate=0.300000012, max_depth=5, objective=binary:logistic, use_label_encoder=False\n",
      "[CV 6/6; 2/18] END eval_metric=error, gamma=0, learning_rate=0.300000012, max_depth=5, objective=binary:logistic, use_label_encoder=False; total time=   0.8s\n",
      "[CV 1/6; 3/18] START eval_metric=error, gamma=0, learning_rate=0.300000012, max_depth=7, objective=binary:logistic, use_label_encoder=False\n",
      "[CV 1/6; 3/18] END eval_metric=error, gamma=0, learning_rate=0.300000012, max_depth=7, objective=binary:logistic, use_label_encoder=False; total time=   1.2s\n",
      "[CV 2/6; 3/18] START eval_metric=error, gamma=0, learning_rate=0.300000012, max_depth=7, objective=binary:logistic, use_label_encoder=False\n",
      "[CV 2/6; 3/18] END eval_metric=error, gamma=0, learning_rate=0.300000012, max_depth=7, objective=binary:logistic, use_label_encoder=False; total time=   1.2s\n",
      "[CV 3/6; 3/18] START eval_metric=error, gamma=0, learning_rate=0.300000012, max_depth=7, objective=binary:logistic, use_label_encoder=False\n",
      "[CV 3/6; 3/18] END eval_metric=error, gamma=0, learning_rate=0.300000012, max_depth=7, objective=binary:logistic, use_label_encoder=False; total time=   1.2s\n",
      "[CV 4/6; 3/18] START eval_metric=error, gamma=0, learning_rate=0.300000012, max_depth=7, objective=binary:logistic, use_label_encoder=False\n",
      "[CV 4/6; 3/18] END eval_metric=error, gamma=0, learning_rate=0.300000012, max_depth=7, objective=binary:logistic, use_label_encoder=False; total time=   1.1s\n",
      "[CV 5/6; 3/18] START eval_metric=error, gamma=0, learning_rate=0.300000012, max_depth=7, objective=binary:logistic, use_label_encoder=False\n",
      "[CV 5/6; 3/18] END eval_metric=error, gamma=0, learning_rate=0.300000012, max_depth=7, objective=binary:logistic, use_label_encoder=False; total time=   1.2s\n",
      "[CV 6/6; 3/18] START eval_metric=error, gamma=0, learning_rate=0.300000012, max_depth=7, objective=binary:logistic, use_label_encoder=False\n",
      "[CV 6/6; 3/18] END eval_metric=error, gamma=0, learning_rate=0.300000012, max_depth=7, objective=binary:logistic, use_label_encoder=False; total time=   1.3s\n",
      "[CV 1/6; 4/18] START eval_metric=error, gamma=0, learning_rate=0.25, max_depth=6, objective=binary:logistic, use_label_encoder=False\n",
      "[CV 1/6; 4/18] END eval_metric=error, gamma=0, learning_rate=0.25, max_depth=6, objective=binary:logistic, use_label_encoder=False; total time=   1.0s\n",
      "[CV 2/6; 4/18] START eval_metric=error, gamma=0, learning_rate=0.25, max_depth=6, objective=binary:logistic, use_label_encoder=False\n",
      "[CV 2/6; 4/18] END eval_metric=error, gamma=0, learning_rate=0.25, max_depth=6, objective=binary:logistic, use_label_encoder=False; total time=   1.0s\n",
      "[CV 3/6; 4/18] START eval_metric=error, gamma=0, learning_rate=0.25, max_depth=6, objective=binary:logistic, use_label_encoder=False\n",
      "[CV 3/6; 4/18] END eval_metric=error, gamma=0, learning_rate=0.25, max_depth=6, objective=binary:logistic, use_label_encoder=False; total time=   1.0s\n",
      "[CV 4/6; 4/18] START eval_metric=error, gamma=0, learning_rate=0.25, max_depth=6, objective=binary:logistic, use_label_encoder=False\n",
      "[CV 4/6; 4/18] END eval_metric=error, gamma=0, learning_rate=0.25, max_depth=6, objective=binary:logistic, use_label_encoder=False; total time=   1.0s\n",
      "[CV 5/6; 4/18] START eval_metric=error, gamma=0, learning_rate=0.25, max_depth=6, objective=binary:logistic, use_label_encoder=False\n",
      "[CV 5/6; 4/18] END eval_metric=error, gamma=0, learning_rate=0.25, max_depth=6, objective=binary:logistic, use_label_encoder=False; total time=   1.0s\n",
      "[CV 6/6; 4/18] START eval_metric=error, gamma=0, learning_rate=0.25, max_depth=6, objective=binary:logistic, use_label_encoder=False\n",
      "[CV 6/6; 4/18] END eval_metric=error, gamma=0, learning_rate=0.25, max_depth=6, objective=binary:logistic, use_label_encoder=False; total time=   1.0s\n",
      "[CV 1/6; 5/18] START eval_metric=error, gamma=0, learning_rate=0.25, max_depth=5, objective=binary:logistic, use_label_encoder=False\n",
      "[CV 1/6; 5/18] END eval_metric=error, gamma=0, learning_rate=0.25, max_depth=5, objective=binary:logistic, use_label_encoder=False; total time=   0.9s\n",
      "[CV 2/6; 5/18] START eval_metric=error, gamma=0, learning_rate=0.25, max_depth=5, objective=binary:logistic, use_label_encoder=False\n",
      "[CV 2/6; 5/18] END eval_metric=error, gamma=0, learning_rate=0.25, max_depth=5, objective=binary:logistic, use_label_encoder=False; total time=   0.9s\n",
      "[CV 3/6; 5/18] START eval_metric=error, gamma=0, learning_rate=0.25, max_depth=5, objective=binary:logistic, use_label_encoder=False\n",
      "[CV 3/6; 5/18] END eval_metric=error, gamma=0, learning_rate=0.25, max_depth=5, objective=binary:logistic, use_label_encoder=False; total time=   0.9s\n",
      "[CV 4/6; 5/18] START eval_metric=error, gamma=0, learning_rate=0.25, max_depth=5, objective=binary:logistic, use_label_encoder=False\n",
      "[CV 4/6; 5/18] END eval_metric=error, gamma=0, learning_rate=0.25, max_depth=5, objective=binary:logistic, use_label_encoder=False; total time=   0.8s\n",
      "[CV 5/6; 5/18] START eval_metric=error, gamma=0, learning_rate=0.25, max_depth=5, objective=binary:logistic, use_label_encoder=False\n"
     ]
    },
    {
     "name": "stdout",
     "output_type": "stream",
     "text": [
      "[CV 5/6; 5/18] END eval_metric=error, gamma=0, learning_rate=0.25, max_depth=5, objective=binary:logistic, use_label_encoder=False; total time=   0.9s\n",
      "[CV 6/6; 5/18] START eval_metric=error, gamma=0, learning_rate=0.25, max_depth=5, objective=binary:logistic, use_label_encoder=False\n",
      "[CV 6/6; 5/18] END eval_metric=error, gamma=0, learning_rate=0.25, max_depth=5, objective=binary:logistic, use_label_encoder=False; total time=   0.8s\n",
      "[CV 1/6; 6/18] START eval_metric=error, gamma=0, learning_rate=0.25, max_depth=7, objective=binary:logistic, use_label_encoder=False\n",
      "[CV 1/6; 6/18] END eval_metric=error, gamma=0, learning_rate=0.25, max_depth=7, objective=binary:logistic, use_label_encoder=False; total time=   1.2s\n",
      "[CV 2/6; 6/18] START eval_metric=error, gamma=0, learning_rate=0.25, max_depth=7, objective=binary:logistic, use_label_encoder=False\n",
      "[CV 2/6; 6/18] END eval_metric=error, gamma=0, learning_rate=0.25, max_depth=7, objective=binary:logistic, use_label_encoder=False; total time=   1.1s\n",
      "[CV 3/6; 6/18] START eval_metric=error, gamma=0, learning_rate=0.25, max_depth=7, objective=binary:logistic, use_label_encoder=False\n",
      "[CV 3/6; 6/18] END eval_metric=error, gamma=0, learning_rate=0.25, max_depth=7, objective=binary:logistic, use_label_encoder=False; total time=   1.1s\n",
      "[CV 4/6; 6/18] START eval_metric=error, gamma=0, learning_rate=0.25, max_depth=7, objective=binary:logistic, use_label_encoder=False\n",
      "[CV 4/6; 6/18] END eval_metric=error, gamma=0, learning_rate=0.25, max_depth=7, objective=binary:logistic, use_label_encoder=False; total time=   1.1s\n",
      "[CV 5/6; 6/18] START eval_metric=error, gamma=0, learning_rate=0.25, max_depth=7, objective=binary:logistic, use_label_encoder=False\n",
      "[CV 5/6; 6/18] END eval_metric=error, gamma=0, learning_rate=0.25, max_depth=7, objective=binary:logistic, use_label_encoder=False; total time=   1.1s\n",
      "[CV 6/6; 6/18] START eval_metric=error, gamma=0, learning_rate=0.25, max_depth=7, objective=binary:logistic, use_label_encoder=False\n",
      "[CV 6/6; 6/18] END eval_metric=error, gamma=0, learning_rate=0.25, max_depth=7, objective=binary:logistic, use_label_encoder=False; total time=   1.1s\n",
      "[CV 1/6; 7/18] START eval_metric=error, gamma=0, learning_rate=0.35, max_depth=6, objective=binary:logistic, use_label_encoder=False\n",
      "[CV 1/6; 7/18] END eval_metric=error, gamma=0, learning_rate=0.35, max_depth=6, objective=binary:logistic, use_label_encoder=False; total time=   0.9s\n",
      "[CV 2/6; 7/18] START eval_metric=error, gamma=0, learning_rate=0.35, max_depth=6, objective=binary:logistic, use_label_encoder=False\n",
      "[CV 2/6; 7/18] END eval_metric=error, gamma=0, learning_rate=0.35, max_depth=6, objective=binary:logistic, use_label_encoder=False; total time=   0.9s\n",
      "[CV 3/6; 7/18] START eval_metric=error, gamma=0, learning_rate=0.35, max_depth=6, objective=binary:logistic, use_label_encoder=False\n",
      "[CV 3/6; 7/18] END eval_metric=error, gamma=0, learning_rate=0.35, max_depth=6, objective=binary:logistic, use_label_encoder=False; total time=   0.9s\n",
      "[CV 4/6; 7/18] START eval_metric=error, gamma=0, learning_rate=0.35, max_depth=6, objective=binary:logistic, use_label_encoder=False\n",
      "[CV 4/6; 7/18] END eval_metric=error, gamma=0, learning_rate=0.35, max_depth=6, objective=binary:logistic, use_label_encoder=False; total time=   1.0s\n",
      "[CV 5/6; 7/18] START eval_metric=error, gamma=0, learning_rate=0.35, max_depth=6, objective=binary:logistic, use_label_encoder=False\n",
      "[CV 5/6; 7/18] END eval_metric=error, gamma=0, learning_rate=0.35, max_depth=6, objective=binary:logistic, use_label_encoder=False; total time=   1.1s\n",
      "[CV 6/6; 7/18] START eval_metric=error, gamma=0, learning_rate=0.35, max_depth=6, objective=binary:logistic, use_label_encoder=False\n",
      "[CV 6/6; 7/18] END eval_metric=error, gamma=0, learning_rate=0.35, max_depth=6, objective=binary:logistic, use_label_encoder=False; total time=   0.9s\n",
      "[CV 1/6; 8/18] START eval_metric=error, gamma=0, learning_rate=0.35, max_depth=5, objective=binary:logistic, use_label_encoder=False\n",
      "[CV 1/6; 8/18] END eval_metric=error, gamma=0, learning_rate=0.35, max_depth=5, objective=binary:logistic, use_label_encoder=False; total time=   0.7s\n",
      "[CV 2/6; 8/18] START eval_metric=error, gamma=0, learning_rate=0.35, max_depth=5, objective=binary:logistic, use_label_encoder=False\n",
      "[CV 2/6; 8/18] END eval_metric=error, gamma=0, learning_rate=0.35, max_depth=5, objective=binary:logistic, use_label_encoder=False; total time=   0.7s\n",
      "[CV 3/6; 8/18] START eval_metric=error, gamma=0, learning_rate=0.35, max_depth=5, objective=binary:logistic, use_label_encoder=False\n",
      "[CV 3/6; 8/18] END eval_metric=error, gamma=0, learning_rate=0.35, max_depth=5, objective=binary:logistic, use_label_encoder=False; total time=   0.7s\n",
      "[CV 4/6; 8/18] START eval_metric=error, gamma=0, learning_rate=0.35, max_depth=5, objective=binary:logistic, use_label_encoder=False\n",
      "[CV 4/6; 8/18] END eval_metric=error, gamma=0, learning_rate=0.35, max_depth=5, objective=binary:logistic, use_label_encoder=False; total time=   0.7s\n",
      "[CV 5/6; 8/18] START eval_metric=error, gamma=0, learning_rate=0.35, max_depth=5, objective=binary:logistic, use_label_encoder=False\n",
      "[CV 5/6; 8/18] END eval_metric=error, gamma=0, learning_rate=0.35, max_depth=5, objective=binary:logistic, use_label_encoder=False; total time=   0.7s\n",
      "[CV 6/6; 8/18] START eval_metric=error, gamma=0, learning_rate=0.35, max_depth=5, objective=binary:logistic, use_label_encoder=False\n",
      "[CV 6/6; 8/18] END eval_metric=error, gamma=0, learning_rate=0.35, max_depth=5, objective=binary:logistic, use_label_encoder=False; total time=   0.7s\n",
      "[CV 1/6; 9/18] START eval_metric=error, gamma=0, learning_rate=0.35, max_depth=7, objective=binary:logistic, use_label_encoder=False\n",
      "[CV 1/6; 9/18] END eval_metric=error, gamma=0, learning_rate=0.35, max_depth=7, objective=binary:logistic, use_label_encoder=False; total time=   1.1s\n",
      "[CV 2/6; 9/18] START eval_metric=error, gamma=0, learning_rate=0.35, max_depth=7, objective=binary:logistic, use_label_encoder=False\n",
      "[CV 2/6; 9/18] END eval_metric=error, gamma=0, learning_rate=0.35, max_depth=7, objective=binary:logistic, use_label_encoder=False; total time=   1.1s\n",
      "[CV 3/6; 9/18] START eval_metric=error, gamma=0, learning_rate=0.35, max_depth=7, objective=binary:logistic, use_label_encoder=False\n",
      "[CV 3/6; 9/18] END eval_metric=error, gamma=0, learning_rate=0.35, max_depth=7, objective=binary:logistic, use_label_encoder=False; total time=   1.1s\n",
      "[CV 4/6; 9/18] START eval_metric=error, gamma=0, learning_rate=0.35, max_depth=7, objective=binary:logistic, use_label_encoder=False\n",
      "[CV 4/6; 9/18] END eval_metric=error, gamma=0, learning_rate=0.35, max_depth=7, objective=binary:logistic, use_label_encoder=False; total time=   1.1s\n",
      "[CV 5/6; 9/18] START eval_metric=error, gamma=0, learning_rate=0.35, max_depth=7, objective=binary:logistic, use_label_encoder=False\n",
      "[CV 5/6; 9/18] END eval_metric=error, gamma=0, learning_rate=0.35, max_depth=7, objective=binary:logistic, use_label_encoder=False; total time=   1.1s\n",
      "[CV 6/6; 9/18] START eval_metric=error, gamma=0, learning_rate=0.35, max_depth=7, objective=binary:logistic, use_label_encoder=False\n",
      "[CV 6/6; 9/18] END eval_metric=error, gamma=0, learning_rate=0.35, max_depth=7, objective=binary:logistic, use_label_encoder=False; total time=   1.1s\n",
      "[CV 1/6; 10/18] START eval_metric=error, gamma=0.5, learning_rate=0.300000012, max_depth=6, objective=binary:logistic, use_label_encoder=False\n",
      "[CV 1/6; 10/18] END eval_metric=error, gamma=0.5, learning_rate=0.300000012, max_depth=6, objective=binary:logistic, use_label_encoder=False; total time=   0.9s\n",
      "[CV 2/6; 10/18] START eval_metric=error, gamma=0.5, learning_rate=0.300000012, max_depth=6, objective=binary:logistic, use_label_encoder=False\n",
      "[CV 2/6; 10/18] END eval_metric=error, gamma=0.5, learning_rate=0.300000012, max_depth=6, objective=binary:logistic, use_label_encoder=False; total time=   1.0s\n",
      "[CV 3/6; 10/18] START eval_metric=error, gamma=0.5, learning_rate=0.300000012, max_depth=6, objective=binary:logistic, use_label_encoder=False\n",
      "[CV 3/6; 10/18] END eval_metric=error, gamma=0.5, learning_rate=0.300000012, max_depth=6, objective=binary:logistic, use_label_encoder=False; total time=   1.1s\n",
      "[CV 4/6; 10/18] START eval_metric=error, gamma=0.5, learning_rate=0.300000012, max_depth=6, objective=binary:logistic, use_label_encoder=False\n"
     ]
    },
    {
     "name": "stdout",
     "output_type": "stream",
     "text": [
      "[CV 4/6; 10/18] END eval_metric=error, gamma=0.5, learning_rate=0.300000012, max_depth=6, objective=binary:logistic, use_label_encoder=False; total time=   0.9s\n",
      "[CV 5/6; 10/18] START eval_metric=error, gamma=0.5, learning_rate=0.300000012, max_depth=6, objective=binary:logistic, use_label_encoder=False\n",
      "[CV 5/6; 10/18] END eval_metric=error, gamma=0.5, learning_rate=0.300000012, max_depth=6, objective=binary:logistic, use_label_encoder=False; total time=   0.9s\n",
      "[CV 6/6; 10/18] START eval_metric=error, gamma=0.5, learning_rate=0.300000012, max_depth=6, objective=binary:logistic, use_label_encoder=False\n",
      "[CV 6/6; 10/18] END eval_metric=error, gamma=0.5, learning_rate=0.300000012, max_depth=6, objective=binary:logistic, use_label_encoder=False; total time=   0.9s\n",
      "[CV 1/6; 11/18] START eval_metric=error, gamma=0.5, learning_rate=0.300000012, max_depth=5, objective=binary:logistic, use_label_encoder=False\n",
      "[CV 1/6; 11/18] END eval_metric=error, gamma=0.5, learning_rate=0.300000012, max_depth=5, objective=binary:logistic, use_label_encoder=False; total time=   0.7s\n",
      "[CV 2/6; 11/18] START eval_metric=error, gamma=0.5, learning_rate=0.300000012, max_depth=5, objective=binary:logistic, use_label_encoder=False\n",
      "[CV 2/6; 11/18] END eval_metric=error, gamma=0.5, learning_rate=0.300000012, max_depth=5, objective=binary:logistic, use_label_encoder=False; total time=   0.7s\n",
      "[CV 3/6; 11/18] START eval_metric=error, gamma=0.5, learning_rate=0.300000012, max_depth=5, objective=binary:logistic, use_label_encoder=False\n",
      "[CV 3/6; 11/18] END eval_metric=error, gamma=0.5, learning_rate=0.300000012, max_depth=5, objective=binary:logistic, use_label_encoder=False; total time=   0.7s\n",
      "[CV 4/6; 11/18] START eval_metric=error, gamma=0.5, learning_rate=0.300000012, max_depth=5, objective=binary:logistic, use_label_encoder=False\n",
      "[CV 4/6; 11/18] END eval_metric=error, gamma=0.5, learning_rate=0.300000012, max_depth=5, objective=binary:logistic, use_label_encoder=False; total time=   0.7s\n",
      "[CV 5/6; 11/18] START eval_metric=error, gamma=0.5, learning_rate=0.300000012, max_depth=5, objective=binary:logistic, use_label_encoder=False\n",
      "[CV 5/6; 11/18] END eval_metric=error, gamma=0.5, learning_rate=0.300000012, max_depth=5, objective=binary:logistic, use_label_encoder=False; total time=   0.7s\n",
      "[CV 6/6; 11/18] START eval_metric=error, gamma=0.5, learning_rate=0.300000012, max_depth=5, objective=binary:logistic, use_label_encoder=False\n",
      "[CV 6/6; 11/18] END eval_metric=error, gamma=0.5, learning_rate=0.300000012, max_depth=5, objective=binary:logistic, use_label_encoder=False; total time=   0.7s\n",
      "[CV 1/6; 12/18] START eval_metric=error, gamma=0.5, learning_rate=0.300000012, max_depth=7, objective=binary:logistic, use_label_encoder=False\n",
      "[CV 1/6; 12/18] END eval_metric=error, gamma=0.5, learning_rate=0.300000012, max_depth=7, objective=binary:logistic, use_label_encoder=False; total time=   1.1s\n",
      "[CV 2/6; 12/18] START eval_metric=error, gamma=0.5, learning_rate=0.300000012, max_depth=7, objective=binary:logistic, use_label_encoder=False\n",
      "[CV 2/6; 12/18] END eval_metric=error, gamma=0.5, learning_rate=0.300000012, max_depth=7, objective=binary:logistic, use_label_encoder=False; total time=   1.1s\n",
      "[CV 3/6; 12/18] START eval_metric=error, gamma=0.5, learning_rate=0.300000012, max_depth=7, objective=binary:logistic, use_label_encoder=False\n",
      "[CV 3/6; 12/18] END eval_metric=error, gamma=0.5, learning_rate=0.300000012, max_depth=7, objective=binary:logistic, use_label_encoder=False; total time=   1.1s\n",
      "[CV 4/6; 12/18] START eval_metric=error, gamma=0.5, learning_rate=0.300000012, max_depth=7, objective=binary:logistic, use_label_encoder=False\n",
      "[CV 4/6; 12/18] END eval_metric=error, gamma=0.5, learning_rate=0.300000012, max_depth=7, objective=binary:logistic, use_label_encoder=False; total time=   1.1s\n",
      "[CV 5/6; 12/18] START eval_metric=error, gamma=0.5, learning_rate=0.300000012, max_depth=7, objective=binary:logistic, use_label_encoder=False\n",
      "[CV 5/6; 12/18] END eval_metric=error, gamma=0.5, learning_rate=0.300000012, max_depth=7, objective=binary:logistic, use_label_encoder=False; total time=   1.2s\n",
      "[CV 6/6; 12/18] START eval_metric=error, gamma=0.5, learning_rate=0.300000012, max_depth=7, objective=binary:logistic, use_label_encoder=False\n",
      "[CV 6/6; 12/18] END eval_metric=error, gamma=0.5, learning_rate=0.300000012, max_depth=7, objective=binary:logistic, use_label_encoder=False; total time=   1.3s\n",
      "[CV 1/6; 13/18] START eval_metric=error, gamma=0.5, learning_rate=0.25, max_depth=6, objective=binary:logistic, use_label_encoder=False\n",
      "[CV 1/6; 13/18] END eval_metric=error, gamma=0.5, learning_rate=0.25, max_depth=6, objective=binary:logistic, use_label_encoder=False; total time=   1.0s\n",
      "[CV 2/6; 13/18] START eval_metric=error, gamma=0.5, learning_rate=0.25, max_depth=6, objective=binary:logistic, use_label_encoder=False\n",
      "[CV 2/6; 13/18] END eval_metric=error, gamma=0.5, learning_rate=0.25, max_depth=6, objective=binary:logistic, use_label_encoder=False; total time=   0.9s\n",
      "[CV 3/6; 13/18] START eval_metric=error, gamma=0.5, learning_rate=0.25, max_depth=6, objective=binary:logistic, use_label_encoder=False\n",
      "[CV 3/6; 13/18] END eval_metric=error, gamma=0.5, learning_rate=0.25, max_depth=6, objective=binary:logistic, use_label_encoder=False; total time=   0.9s\n",
      "[CV 4/6; 13/18] START eval_metric=error, gamma=0.5, learning_rate=0.25, max_depth=6, objective=binary:logistic, use_label_encoder=False\n",
      "[CV 4/6; 13/18] END eval_metric=error, gamma=0.5, learning_rate=0.25, max_depth=6, objective=binary:logistic, use_label_encoder=False; total time=   0.9s\n",
      "[CV 5/6; 13/18] START eval_metric=error, gamma=0.5, learning_rate=0.25, max_depth=6, objective=binary:logistic, use_label_encoder=False\n",
      "[CV 5/6; 13/18] END eval_metric=error, gamma=0.5, learning_rate=0.25, max_depth=6, objective=binary:logistic, use_label_encoder=False; total time=   1.0s\n",
      "[CV 6/6; 13/18] START eval_metric=error, gamma=0.5, learning_rate=0.25, max_depth=6, objective=binary:logistic, use_label_encoder=False\n",
      "[CV 6/6; 13/18] END eval_metric=error, gamma=0.5, learning_rate=0.25, max_depth=6, objective=binary:logistic, use_label_encoder=False; total time=   1.1s\n",
      "[CV 1/6; 14/18] START eval_metric=error, gamma=0.5, learning_rate=0.25, max_depth=5, objective=binary:logistic, use_label_encoder=False\n",
      "[CV 1/6; 14/18] END eval_metric=error, gamma=0.5, learning_rate=0.25, max_depth=5, objective=binary:logistic, use_label_encoder=False; total time=   0.9s\n",
      "[CV 2/6; 14/18] START eval_metric=error, gamma=0.5, learning_rate=0.25, max_depth=5, objective=binary:logistic, use_label_encoder=False\n",
      "[CV 2/6; 14/18] END eval_metric=error, gamma=0.5, learning_rate=0.25, max_depth=5, objective=binary:logistic, use_label_encoder=False; total time=   0.8s\n",
      "[CV 3/6; 14/18] START eval_metric=error, gamma=0.5, learning_rate=0.25, max_depth=5, objective=binary:logistic, use_label_encoder=False\n",
      "[CV 3/6; 14/18] END eval_metric=error, gamma=0.5, learning_rate=0.25, max_depth=5, objective=binary:logistic, use_label_encoder=False; total time=   0.8s\n",
      "[CV 4/6; 14/18] START eval_metric=error, gamma=0.5, learning_rate=0.25, max_depth=5, objective=binary:logistic, use_label_encoder=False\n",
      "[CV 4/6; 14/18] END eval_metric=error, gamma=0.5, learning_rate=0.25, max_depth=5, objective=binary:logistic, use_label_encoder=False; total time=   0.8s\n",
      "[CV 5/6; 14/18] START eval_metric=error, gamma=0.5, learning_rate=0.25, max_depth=5, objective=binary:logistic, use_label_encoder=False\n",
      "[CV 5/6; 14/18] END eval_metric=error, gamma=0.5, learning_rate=0.25, max_depth=5, objective=binary:logistic, use_label_encoder=False; total time=   0.7s\n",
      "[CV 6/6; 14/18] START eval_metric=error, gamma=0.5, learning_rate=0.25, max_depth=5, objective=binary:logistic, use_label_encoder=False\n",
      "[CV 6/6; 14/18] END eval_metric=error, gamma=0.5, learning_rate=0.25, max_depth=5, objective=binary:logistic, use_label_encoder=False; total time=   0.8s\n",
      "[CV 1/6; 15/18] START eval_metric=error, gamma=0.5, learning_rate=0.25, max_depth=7, objective=binary:logistic, use_label_encoder=False\n",
      "[CV 1/6; 15/18] END eval_metric=error, gamma=0.5, learning_rate=0.25, max_depth=7, objective=binary:logistic, use_label_encoder=False; total time=   1.1s\n",
      "[CV 2/6; 15/18] START eval_metric=error, gamma=0.5, learning_rate=0.25, max_depth=7, objective=binary:logistic, use_label_encoder=False\n"
     ]
    },
    {
     "name": "stdout",
     "output_type": "stream",
     "text": [
      "[CV 2/6; 15/18] END eval_metric=error, gamma=0.5, learning_rate=0.25, max_depth=7, objective=binary:logistic, use_label_encoder=False; total time=   1.2s\n",
      "[CV 3/6; 15/18] START eval_metric=error, gamma=0.5, learning_rate=0.25, max_depth=7, objective=binary:logistic, use_label_encoder=False\n",
      "[CV 3/6; 15/18] END eval_metric=error, gamma=0.5, learning_rate=0.25, max_depth=7, objective=binary:logistic, use_label_encoder=False; total time=   1.3s\n",
      "[CV 4/6; 15/18] START eval_metric=error, gamma=0.5, learning_rate=0.25, max_depth=7, objective=binary:logistic, use_label_encoder=False\n",
      "[CV 4/6; 15/18] END eval_metric=error, gamma=0.5, learning_rate=0.25, max_depth=7, objective=binary:logistic, use_label_encoder=False; total time=   1.3s\n",
      "[CV 5/6; 15/18] START eval_metric=error, gamma=0.5, learning_rate=0.25, max_depth=7, objective=binary:logistic, use_label_encoder=False\n",
      "[CV 5/6; 15/18] END eval_metric=error, gamma=0.5, learning_rate=0.25, max_depth=7, objective=binary:logistic, use_label_encoder=False; total time=   1.1s\n",
      "[CV 6/6; 15/18] START eval_metric=error, gamma=0.5, learning_rate=0.25, max_depth=7, objective=binary:logistic, use_label_encoder=False\n",
      "[CV 6/6; 15/18] END eval_metric=error, gamma=0.5, learning_rate=0.25, max_depth=7, objective=binary:logistic, use_label_encoder=False; total time=   1.1s\n",
      "[CV 1/6; 16/18] START eval_metric=error, gamma=0.5, learning_rate=0.35, max_depth=6, objective=binary:logistic, use_label_encoder=False\n",
      "[CV 1/6; 16/18] END eval_metric=error, gamma=0.5, learning_rate=0.35, max_depth=6, objective=binary:logistic, use_label_encoder=False; total time=   0.9s\n",
      "[CV 2/6; 16/18] START eval_metric=error, gamma=0.5, learning_rate=0.35, max_depth=6, objective=binary:logistic, use_label_encoder=False\n",
      "[CV 2/6; 16/18] END eval_metric=error, gamma=0.5, learning_rate=0.35, max_depth=6, objective=binary:logistic, use_label_encoder=False; total time=   0.9s\n",
      "[CV 3/6; 16/18] START eval_metric=error, gamma=0.5, learning_rate=0.35, max_depth=6, objective=binary:logistic, use_label_encoder=False\n",
      "[CV 3/6; 16/18] END eval_metric=error, gamma=0.5, learning_rate=0.35, max_depth=6, objective=binary:logistic, use_label_encoder=False; total time=   0.9s\n",
      "[CV 4/6; 16/18] START eval_metric=error, gamma=0.5, learning_rate=0.35, max_depth=6, objective=binary:logistic, use_label_encoder=False\n",
      "[CV 4/6; 16/18] END eval_metric=error, gamma=0.5, learning_rate=0.35, max_depth=6, objective=binary:logistic, use_label_encoder=False; total time=   0.9s\n",
      "[CV 5/6; 16/18] START eval_metric=error, gamma=0.5, learning_rate=0.35, max_depth=6, objective=binary:logistic, use_label_encoder=False\n",
      "[CV 5/6; 16/18] END eval_metric=error, gamma=0.5, learning_rate=0.35, max_depth=6, objective=binary:logistic, use_label_encoder=False; total time=   1.0s\n",
      "[CV 6/6; 16/18] START eval_metric=error, gamma=0.5, learning_rate=0.35, max_depth=6, objective=binary:logistic, use_label_encoder=False\n",
      "[CV 6/6; 16/18] END eval_metric=error, gamma=0.5, learning_rate=0.35, max_depth=6, objective=binary:logistic, use_label_encoder=False; total time=   0.9s\n",
      "[CV 1/6; 17/18] START eval_metric=error, gamma=0.5, learning_rate=0.35, max_depth=5, objective=binary:logistic, use_label_encoder=False\n",
      "[CV 1/6; 17/18] END eval_metric=error, gamma=0.5, learning_rate=0.35, max_depth=5, objective=binary:logistic, use_label_encoder=False; total time=   0.8s\n",
      "[CV 2/6; 17/18] START eval_metric=error, gamma=0.5, learning_rate=0.35, max_depth=5, objective=binary:logistic, use_label_encoder=False\n",
      "[CV 2/6; 17/18] END eval_metric=error, gamma=0.5, learning_rate=0.35, max_depth=5, objective=binary:logistic, use_label_encoder=False; total time=   0.8s\n",
      "[CV 3/6; 17/18] START eval_metric=error, gamma=0.5, learning_rate=0.35, max_depth=5, objective=binary:logistic, use_label_encoder=False\n",
      "[CV 3/6; 17/18] END eval_metric=error, gamma=0.5, learning_rate=0.35, max_depth=5, objective=binary:logistic, use_label_encoder=False; total time=   0.7s\n",
      "[CV 4/6; 17/18] START eval_metric=error, gamma=0.5, learning_rate=0.35, max_depth=5, objective=binary:logistic, use_label_encoder=False\n",
      "[CV 4/6; 17/18] END eval_metric=error, gamma=0.5, learning_rate=0.35, max_depth=5, objective=binary:logistic, use_label_encoder=False; total time=   0.8s\n",
      "[CV 5/6; 17/18] START eval_metric=error, gamma=0.5, learning_rate=0.35, max_depth=5, objective=binary:logistic, use_label_encoder=False\n",
      "[CV 5/6; 17/18] END eval_metric=error, gamma=0.5, learning_rate=0.35, max_depth=5, objective=binary:logistic, use_label_encoder=False; total time=   0.8s\n",
      "[CV 6/6; 17/18] START eval_metric=error, gamma=0.5, learning_rate=0.35, max_depth=5, objective=binary:logistic, use_label_encoder=False\n",
      "[CV 6/6; 17/18] END eval_metric=error, gamma=0.5, learning_rate=0.35, max_depth=5, objective=binary:logistic, use_label_encoder=False; total time=   0.9s\n",
      "[CV 1/6; 18/18] START eval_metric=error, gamma=0.5, learning_rate=0.35, max_depth=7, objective=binary:logistic, use_label_encoder=False\n",
      "[CV 1/6; 18/18] END eval_metric=error, gamma=0.5, learning_rate=0.35, max_depth=7, objective=binary:logistic, use_label_encoder=False; total time=   1.4s\n",
      "[CV 2/6; 18/18] START eval_metric=error, gamma=0.5, learning_rate=0.35, max_depth=7, objective=binary:logistic, use_label_encoder=False\n",
      "[CV 2/6; 18/18] END eval_metric=error, gamma=0.5, learning_rate=0.35, max_depth=7, objective=binary:logistic, use_label_encoder=False; total time=   1.2s\n",
      "[CV 3/6; 18/18] START eval_metric=error, gamma=0.5, learning_rate=0.35, max_depth=7, objective=binary:logistic, use_label_encoder=False\n",
      "[CV 3/6; 18/18] END eval_metric=error, gamma=0.5, learning_rate=0.35, max_depth=7, objective=binary:logistic, use_label_encoder=False; total time=   1.1s\n",
      "[CV 4/6; 18/18] START eval_metric=error, gamma=0.5, learning_rate=0.35, max_depth=7, objective=binary:logistic, use_label_encoder=False\n",
      "[CV 4/6; 18/18] END eval_metric=error, gamma=0.5, learning_rate=0.35, max_depth=7, objective=binary:logistic, use_label_encoder=False; total time=   1.2s\n",
      "[CV 5/6; 18/18] START eval_metric=error, gamma=0.5, learning_rate=0.35, max_depth=7, objective=binary:logistic, use_label_encoder=False\n",
      "[CV 5/6; 18/18] END eval_metric=error, gamma=0.5, learning_rate=0.35, max_depth=7, objective=binary:logistic, use_label_encoder=False; total time=   1.1s\n",
      "[CV 6/6; 18/18] START eval_metric=error, gamma=0.5, learning_rate=0.35, max_depth=7, objective=binary:logistic, use_label_encoder=False\n",
      "[CV 6/6; 18/18] END eval_metric=error, gamma=0.5, learning_rate=0.35, max_depth=7, objective=binary:logistic, use_label_encoder=False; total time=   1.1s\n"
     ]
    },
    {
     "data": {
      "text/plain": [
       "GridSearchCV(cv=KFold(n_splits=6, random_state=1, shuffle=True),\n",
       "             estimator=XGBClassifier(base_score=0.5, booster='gbtree',\n",
       "                                     colsample_bylevel=1, colsample_bynode=1,\n",
       "                                     colsample_bytree=1, eval_metric='error',\n",
       "                                     gamma=0, gpu_id=-1, importance_type='gain',\n",
       "                                     interaction_constraints='',\n",
       "                                     learning_rate=0.300000012,\n",
       "                                     max_delta_step=0, max_depth=6,\n",
       "                                     min_child_weight=1, missing=nan,...\n",
       "                                     num_parallel_tree=1, random_state=0,\n",
       "                                     reg_alpha=0, reg_lambda=1,\n",
       "                                     scale_pos_weight=1, subsample=1,\n",
       "                                     tree_method='exact',\n",
       "                                     use_label_encoder=False,\n",
       "                                     validate_parameters=1, verbosity=None),\n",
       "             param_grid={'eval_metric': ['error'], 'gamma': [0, 0.5],\n",
       "                         'learning_rate': [0.300000012, 0.25, 0.35],\n",
       "                         'max_depth': [6, 5, 7],\n",
       "                         'objective': ['binary:logistic'],\n",
       "                         'use_label_encoder': [False]},\n",
       "             scoring='accuracy', verbose=10)"
      ]
     },
     "execution_count": 104,
     "metadata": {},
     "output_type": "execute_result"
    }
   ],
   "source": [
    "# configure the cross-validation procedure\n",
    "cv = KFold(n_splits=6, shuffle=True, random_state=1)\n",
    "\n",
    "xgb_grid = GridSearchCV(estimator=xgb,\n",
    "                    param_grid=xgb_grid_params,\n",
    "                    scoring='accuracy',\n",
    "                    cv = cv,\n",
    "                    verbose=10)\n",
    "xgb_grid.fit(X_train, y_train)"
   ]
  },
  {
   "cell_type": "markdown",
   "metadata": {},
   "source": [
    "## Model Evaliation and Validation"
   ]
  },
  {
   "cell_type": "code",
   "execution_count": null,
   "metadata": {},
   "outputs": [],
   "source": [
    "#show the best parameters based on grid search\n",
    "best_params = xgb_grid.best_params_\n",
    "best_params"
   ]
  },
  {
   "cell_type": "code",
   "execution_count": 106,
   "metadata": {},
   "outputs": [
    {
     "name": "stdout",
     "output_type": "stream",
     "text": [
      "XGBClassifier trained.\n"
     ]
    }
   ],
   "source": [
    "xgb_acc = {}\n",
    "# instantiate and train model with best parameters\n",
    "xgb_best = XGBClassifier(eval_metric= 'error',\n",
    "                         gamma=0.5,\n",
    "                        learning_rate = 0.25,\n",
    "                        max_depth = 5,\n",
    "                        objective = 'binary:logistic',\n",
    "                        use_label_encoder = False)\n",
    "xgb_acc['XGBoost Classifier'] = train_predict_result(xgb_best,X_train, y_train, X_test, y_test)"
   ]
  },
  {
   "cell_type": "code",
   "execution_count": 107,
   "metadata": {
    "scrolled": true
   },
   "outputs": [
    {
     "name": "stdout",
     "output_type": "stream",
     "text": [
      "XGBClassifier :\n"
     ]
    },
    {
     "data": {
      "text/html": [
       "<div>\n",
       "<style scoped>\n",
       "    .dataframe tbody tr th:only-of-type {\n",
       "        vertical-align: middle;\n",
       "    }\n",
       "\n",
       "    .dataframe tbody tr th {\n",
       "        vertical-align: top;\n",
       "    }\n",
       "\n",
       "    .dataframe thead th {\n",
       "        text-align: right;\n",
       "    }\n",
       "</style>\n",
       "<table border=\"1\" class=\"dataframe\">\n",
       "  <thead>\n",
       "    <tr style=\"text-align: right;\">\n",
       "      <th></th>\n",
       "      <th>acc_train</th>\n",
       "      <th>acc_test</th>\n",
       "      <th>f1_train</th>\n",
       "      <th>f1_test</th>\n",
       "    </tr>\n",
       "  </thead>\n",
       "  <tbody>\n",
       "    <tr>\n",
       "      <th>0</th>\n",
       "      <td>0.89762</td>\n",
       "      <td>0.876304</td>\n",
       "      <td>0.886766</td>\n",
       "      <td>0.862309</td>\n",
       "    </tr>\n",
       "  </tbody>\n",
       "</table>\n",
       "</div>"
      ],
      "text/plain": [
       "   acc_train  acc_test  f1_train   f1_test\n",
       "0    0.89762  0.876304  0.886766  0.862309"
      ]
     },
     "metadata": {},
     "output_type": "display_data"
    }
   ],
   "source": [
    "print(xgb_best.__class__.__name__, \":\")\n",
    "display(pd.DataFrame(xgb_acc['XGBoost Classifier'], index = range(1)))"
   ]
  },
  {
   "cell_type": "markdown",
   "metadata": {},
   "source": [
    "[Source of the following function](https://scikit-learn.org/stable/auto_examples/model_selection/plot_learning_curve.html)"
   ]
  },
  {
   "cell_type": "code",
   "execution_count": 139,
   "metadata": {},
   "outputs": [],
   "source": [
    "def plot_learning_curve(estimator, title, X, y, axes=None, ylim=None, cv=None,\n",
    "                        n_jobs=None, train_sizes=np.linspace(.1, 1.0, 5)):\n",
    "    \"\"\"\n",
    "    Generate 3 plots: the test and training learning curve, the training\n",
    "    samples vs fit times curve, the fit times vs score curve.\n",
    "\n",
    "    Parameters\n",
    "    ----------\n",
    "    estimator : estimator instance\n",
    "        An estimator instance implementing `fit` and `predict` methods which\n",
    "        will be cloned for each validation.\n",
    "\n",
    "    title : str\n",
    "        Title for the chart.\n",
    "\n",
    "    X : array-like of shape (n_samples, n_features)\n",
    "        Training vector, where ``n_samples`` is the number of samples and\n",
    "        ``n_features`` is the number of features.\n",
    "\n",
    "    y : array-like of shape (n_samples) or (n_samples, n_features)\n",
    "        Target relative to ``X`` for classification or regression;\n",
    "        None for unsupervised learning.\n",
    "\n",
    "    axes : array-like of shape (3,), default=None\n",
    "        Axes to use for plotting the curves.\n",
    "\n",
    "    ylim : tuple of shape (2,), default=None\n",
    "        Defines minimum and maximum y-values plotted, e.g. (ymin, ymax).\n",
    "\n",
    "    cv : int, cross-validation generator or an iterable, default=None\n",
    "        Determines the cross-validation splitting strategy.\n",
    "        Possible inputs for cv are:\n",
    "\n",
    "          - None, to use the default 5-fold cross-validation,\n",
    "          - integer, to specify the number of folds.\n",
    "          - :term:`CV splitter`,\n",
    "          - An iterable yielding (train, test) splits as arrays of indices.\n",
    "\n",
    "        For integer/None inputs, if ``y`` is binary or multiclass,\n",
    "        :class:`StratifiedKFold` used. If the estimator is not a classifier\n",
    "        or if ``y`` is neither binary nor multiclass, :class:`KFold` is used.\n",
    "\n",
    "        Refer :ref:`User Guide <cross_validation>` for the various\n",
    "        cross-validators that can be used here.\n",
    "\n",
    "    n_jobs : int or None, default=None\n",
    "        Number of jobs to run in parallel.\n",
    "        ``None`` means 1 unless in a :obj:`joblib.parallel_backend` context.\n",
    "        ``-1`` means using all processors. See :term:`Glossary <n_jobs>`\n",
    "        for more details.\n",
    "\n",
    "    train_sizes : array-like of shape (n_ticks,)\n",
    "        Relative or absolute numbers of training examples that will be used to\n",
    "        generate the learning curve. If the ``dtype`` is float, it is regarded\n",
    "        as a fraction of the maximum size of the training set (that is\n",
    "        determined by the selected validation method), i.e. it has to be within\n",
    "        (0, 1]. Otherwise it is interpreted as absolute sizes of the training\n",
    "        sets. Note that for classification the number of samples usually have\n",
    "        to be big enough to contain at least one sample from each class.\n",
    "        (default: np.linspace(0.1, 1.0, 5))\n",
    "    \"\"\"\n",
    "    if axes is None:\n",
    "        _, axes = plt.subplots(3, 1, figsize=(10, 30))\n",
    "\n",
    "    axes[0].set_title(title)\n",
    "    if ylim is not None:\n",
    "        axes[0].set_ylim(*ylim)\n",
    "    axes[0].set_xlabel(\"Training examples\")\n",
    "    axes[0].set_ylabel(\"Score\")\n",
    "\n",
    "    train_sizes, train_scores, test_scores, fit_times, _ = \\\n",
    "        learning_curve(estimator, X, y, cv=cv, n_jobs=n_jobs,\n",
    "                       train_sizes=train_sizes,\n",
    "                       return_times=True)\n",
    "    train_scores_mean = np.mean(train_scores, axis=1)\n",
    "    train_scores_std = np.std(train_scores, axis=1)\n",
    "    test_scores_mean = np.mean(test_scores, axis=1)\n",
    "    test_scores_std = np.std(test_scores, axis=1)\n",
    "    fit_times_mean = np.mean(fit_times, axis=1)\n",
    "    fit_times_std = np.std(fit_times, axis=1)\n",
    "\n",
    "    # Plot learning curve\n",
    "    axes[0].grid()\n",
    "    axes[0].fill_between(train_sizes, train_scores_mean - train_scores_std,\n",
    "                         train_scores_mean + train_scores_std, alpha=0.1,\n",
    "                         color=\"r\")\n",
    "    axes[0].fill_between(train_sizes, test_scores_mean - test_scores_std,\n",
    "                         test_scores_mean + test_scores_std, alpha=0.1,\n",
    "                         color=\"g\")\n",
    "    axes[0].plot(train_sizes, train_scores_mean, 'o-', color=\"r\",\n",
    "                 label=\"Training score\")\n",
    "    axes[0].plot(train_sizes, test_scores_mean, 'o-', color=\"g\",\n",
    "                 label=\"Cross-validation score\")\n",
    "    axes[0].legend(loc=\"best\")\n",
    "\n",
    "    # Plot n_samples vs fit_times\n",
    "    axes[1].grid()\n",
    "    axes[1].plot(train_sizes, fit_times_mean, 'o-')\n",
    "    axes[1].fill_between(train_sizes, fit_times_mean - fit_times_std,\n",
    "                         fit_times_mean + fit_times_std, alpha=0.1)\n",
    "    axes[1].set_xlabel(\"Training examples\")\n",
    "    axes[1].set_ylabel(\"fit_times\")\n",
    "    axes[1].set_title(\"Scalability of the model\")\n",
    "\n",
    "    # Plot fit_time vs score\n",
    "    axes[2].grid()\n",
    "    axes[2].plot(fit_times_mean, test_scores_mean, 'o-')\n",
    "    axes[2].fill_between(fit_times_mean, test_scores_mean - test_scores_std,\n",
    "                         test_scores_mean + test_scores_std, alpha=0.1)\n",
    "    axes[2].set_xlabel(\"fit_times\")\n",
    "    axes[2].set_ylabel(\"Score\")\n",
    "    axes[2].set_title(\"Performance of the model\")\n",
    "\n",
    "    return plt"
   ]
  },
  {
   "cell_type": "code",
   "execution_count": 142,
   "metadata": {
    "scrolled": false
   },
   "outputs": [
    {
     "data": {
      "image/png": "[encoded data removed]",
      "text/plain": [
       "<Figure size 720x2160 with 3 Axes>"
      ]
     },
     "metadata": {},
     "output_type": "display_data"
    }
   ],
   "source": [
    "plot_learning_curve(xgb_best, 'title', X, Y, ylim=(0.7, 1.01),\n",
    "                    cv=cv, n_jobs=4);"
   ]
  },
  {
   "cell_type": "markdown",
   "metadata": {},
   "source": [
    "Using GridSearch with kFold cross-validation algorithm, we have fitted XGBoost Classifier 108 times to come up with the parameters that create the most accurate model. The charts above illustrate the performance of the model with the best parameters with each Fold cross validation. Training set starts of with a very high accuracy that is decreasing with each fold, while performance of cross-validation increases. However, performance of the model does not fluctuate with each fold and is more or less stable. The plots in the second row show the times required by the models to train with various sizes of training dataset. The last chart shows that the performance score of the model increased with each fit."
   ]
  },
  {
   "cell_type": "markdown",
   "metadata": {},
   "source": [
    "### Model Output, Metrics, Evaluation of customers, and Justification\n",
    "\n",
    "Evaluate the model for some customers"
   ]
  },
  {
   "cell_type": "code",
   "execution_count": 108,
   "metadata": {},
   "outputs": [],
   "source": [
    "y_pred = xgb_best.predict(X_test)"
   ]
  },
  {
   "cell_type": "code",
   "execution_count": 109,
   "metadata": {
    "scrolled": false
   },
   "outputs": [
    {
     "name": "stdout",
     "output_type": "stream",
     "text": [
      "Customer Info:\n"
     ]
    },
    {
     "data": {
      "text/html": [
       "<div>\n",
       "<style scoped>\n",
       "    .dataframe tbody tr th:only-of-type {\n",
       "        vertical-align: middle;\n",
       "    }\n",
       "\n",
       "    .dataframe tbody tr th {\n",
       "        vertical-align: top;\n",
       "    }\n",
       "\n",
       "    .dataframe thead th {\n",
       "        text-align: right;\n",
       "    }\n",
       "</style>\n",
       "<table border=\"1\" class=\"dataframe\">\n",
       "  <thead>\n",
       "    <tr style=\"text-align: right;\">\n",
       "      <th></th>\n",
       "      <th>48352</th>\n",
       "    </tr>\n",
       "  </thead>\n",
       "  <tbody>\n",
       "    <tr>\n",
       "      <th>age</th>\n",
       "      <td>79.000</td>\n",
       "    </tr>\n",
       "    <tr>\n",
       "      <th>income</th>\n",
       "      <td>91000.000</td>\n",
       "    </tr>\n",
       "    <tr>\n",
       "      <th>total_spend</th>\n",
       "      <td>79.380</td>\n",
       "    </tr>\n",
       "    <tr>\n",
       "      <th>average_spend</th>\n",
       "      <td>19.845</td>\n",
       "    </tr>\n",
       "    <tr>\n",
       "      <th>total_reward</th>\n",
       "      <td>12.000</td>\n",
       "    </tr>\n",
       "    <tr>\n",
       "      <th>average_reward</th>\n",
       "      <td>6.000</td>\n",
       "    </tr>\n",
       "    <tr>\n",
       "      <th>accident_completion</th>\n",
       "      <td>2.000</td>\n",
       "    </tr>\n",
       "    <tr>\n",
       "      <th>offers_ignored</th>\n",
       "      <td>0.000</td>\n",
       "    </tr>\n",
       "    <tr>\n",
       "      <th>offer_bogo_not_completed</th>\n",
       "      <td>0.000</td>\n",
       "    </tr>\n",
       "    <tr>\n",
       "      <th>offer_informational_not_completed</th>\n",
       "      <td>0.000</td>\n",
       "    </tr>\n",
       "    <tr>\n",
       "      <th>offer_discount_not_completed</th>\n",
       "      <td>1.000</td>\n",
       "    </tr>\n",
       "    <tr>\n",
       "      <th>reward</th>\n",
       "      <td>10.000</td>\n",
       "    </tr>\n",
       "    <tr>\n",
       "      <th>difficulty</th>\n",
       "      <td>10.000</td>\n",
       "    </tr>\n",
       "    <tr>\n",
       "      <th>duration</th>\n",
       "      <td>7.000</td>\n",
       "    </tr>\n",
       "    <tr>\n",
       "      <th>email</th>\n",
       "      <td>1.000</td>\n",
       "    </tr>\n",
       "    <tr>\n",
       "      <th>mobile</th>\n",
       "      <td>1.000</td>\n",
       "    </tr>\n",
       "    <tr>\n",
       "      <th>social</th>\n",
       "      <td>1.000</td>\n",
       "    </tr>\n",
       "    <tr>\n",
       "      <th>web</th>\n",
       "      <td>0.000</td>\n",
       "    </tr>\n",
       "    <tr>\n",
       "      <th>discount</th>\n",
       "      <td>0.000</td>\n",
       "    </tr>\n",
       "    <tr>\n",
       "      <th>informational</th>\n",
       "      <td>0.000</td>\n",
       "    </tr>\n",
       "    <tr>\n",
       "      <th>duration_hours</th>\n",
       "      <td>168.000</td>\n",
       "    </tr>\n",
       "    <tr>\n",
       "      <th>M</th>\n",
       "      <td>1.000</td>\n",
       "    </tr>\n",
       "    <tr>\n",
       "      <th>O</th>\n",
       "      <td>0.000</td>\n",
       "    </tr>\n",
       "    <tr>\n",
       "      <th>years_member</th>\n",
       "      <td>3.000</td>\n",
       "    </tr>\n",
       "  </tbody>\n",
       "</table>\n",
       "</div>"
      ],
      "text/plain": [
       "                                       48352\n",
       "age                                   79.000\n",
       "income                             91000.000\n",
       "total_spend                           79.380\n",
       "average_spend                         19.845\n",
       "total_reward                          12.000\n",
       "average_reward                         6.000\n",
       "accident_completion                    2.000\n",
       "offers_ignored                         0.000\n",
       "offer_bogo_not_completed               0.000\n",
       "offer_informational_not_completed      0.000\n",
       "offer_discount_not_completed           1.000\n",
       "reward                                10.000\n",
       "difficulty                            10.000\n",
       "duration                               7.000\n",
       "email                                  1.000\n",
       "mobile                                 1.000\n",
       "social                                 1.000\n",
       "web                                    0.000\n",
       "discount                               0.000\n",
       "informational                          0.000\n",
       "duration_hours                       168.000\n",
       "M                                      1.000\n",
       "O                                      0.000\n",
       "years_member                           3.000"
      ]
     },
     "metadata": {},
     "output_type": "display_data"
    },
    {
     "name": "stdout",
     "output_type": "stream",
     "text": [
      "The actual offer status: 1\n",
      "The model predicted value: 1\n"
     ]
    }
   ],
   "source": [
    "cust1 = 48352\n",
    "print('Customer Info:')\n",
    "display(pd.DataFrame(X_test.loc[cust1]))\n",
    "print(\"The actual offer status: {}\\nThe model predicted value: {}\"\n",
    "      .format(y_test.loc[cust1], xgb_best.predict(pd.DataFrame(X_test.loc[cust1]).T)[0]))"
   ]
  },
  {
   "cell_type": "markdown",
   "metadata": {},
   "source": [
    "The model predicted that the customer with the demographic described above is going to complete the BOGO offer, and the test data confirms that the customer indeed completed the offer. "
   ]
  },
  {
   "cell_type": "code",
   "execution_count": 110,
   "metadata": {},
   "outputs": [
    {
     "name": "stdout",
     "output_type": "stream",
     "text": [
      "Customer Info:\n"
     ]
    },
    {
     "data": {
      "text/html": [
       "<div>\n",
       "<style scoped>\n",
       "    .dataframe tbody tr th:only-of-type {\n",
       "        vertical-align: middle;\n",
       "    }\n",
       "\n",
       "    .dataframe tbody tr th {\n",
       "        vertical-align: top;\n",
       "    }\n",
       "\n",
       "    .dataframe thead th {\n",
       "        text-align: right;\n",
       "    }\n",
       "</style>\n",
       "<table border=\"1\" class=\"dataframe\">\n",
       "  <thead>\n",
       "    <tr style=\"text-align: right;\">\n",
       "      <th></th>\n",
       "      <th>52366</th>\n",
       "    </tr>\n",
       "  </thead>\n",
       "  <tbody>\n",
       "    <tr>\n",
       "      <th>age</th>\n",
       "      <td>64.000000</td>\n",
       "    </tr>\n",
       "    <tr>\n",
       "      <th>income</th>\n",
       "      <td>56000.000000</td>\n",
       "    </tr>\n",
       "    <tr>\n",
       "      <th>total_spend</th>\n",
       "      <td>45.600000</td>\n",
       "    </tr>\n",
       "    <tr>\n",
       "      <th>average_spend</th>\n",
       "      <td>4.145455</td>\n",
       "    </tr>\n",
       "    <tr>\n",
       "      <th>total_reward</th>\n",
       "      <td>3.000000</td>\n",
       "    </tr>\n",
       "    <tr>\n",
       "      <th>average_reward</th>\n",
       "      <td>3.000000</td>\n",
       "    </tr>\n",
       "    <tr>\n",
       "      <th>accident_completion</th>\n",
       "      <td>1.000000</td>\n",
       "    </tr>\n",
       "    <tr>\n",
       "      <th>offers_ignored</th>\n",
       "      <td>1.000000</td>\n",
       "    </tr>\n",
       "    <tr>\n",
       "      <th>offer_bogo_not_completed</th>\n",
       "      <td>2.000000</td>\n",
       "    </tr>\n",
       "    <tr>\n",
       "      <th>offer_informational_not_completed</th>\n",
       "      <td>0.000000</td>\n",
       "    </tr>\n",
       "    <tr>\n",
       "      <th>offer_discount_not_completed</th>\n",
       "      <td>0.000000</td>\n",
       "    </tr>\n",
       "    <tr>\n",
       "      <th>reward</th>\n",
       "      <td>0.000000</td>\n",
       "    </tr>\n",
       "    <tr>\n",
       "      <th>difficulty</th>\n",
       "      <td>0.000000</td>\n",
       "    </tr>\n",
       "    <tr>\n",
       "      <th>duration</th>\n",
       "      <td>4.000000</td>\n",
       "    </tr>\n",
       "    <tr>\n",
       "      <th>email</th>\n",
       "      <td>1.000000</td>\n",
       "    </tr>\n",
       "    <tr>\n",
       "      <th>mobile</th>\n",
       "      <td>1.000000</td>\n",
       "    </tr>\n",
       "    <tr>\n",
       "      <th>social</th>\n",
       "      <td>0.000000</td>\n",
       "    </tr>\n",
       "    <tr>\n",
       "      <th>web</th>\n",
       "      <td>1.000000</td>\n",
       "    </tr>\n",
       "    <tr>\n",
       "      <th>discount</th>\n",
       "      <td>0.000000</td>\n",
       "    </tr>\n",
       "    <tr>\n",
       "      <th>informational</th>\n",
       "      <td>1.000000</td>\n",
       "    </tr>\n",
       "    <tr>\n",
       "      <th>duration_hours</th>\n",
       "      <td>96.000000</td>\n",
       "    </tr>\n",
       "    <tr>\n",
       "      <th>M</th>\n",
       "      <td>1.000000</td>\n",
       "    </tr>\n",
       "    <tr>\n",
       "      <th>O</th>\n",
       "      <td>0.000000</td>\n",
       "    </tr>\n",
       "    <tr>\n",
       "      <th>years_member</th>\n",
       "      <td>3.000000</td>\n",
       "    </tr>\n",
       "  </tbody>\n",
       "</table>\n",
       "</div>"
      ],
      "text/plain": [
       "                                          52366\n",
       "age                                   64.000000\n",
       "income                             56000.000000\n",
       "total_spend                           45.600000\n",
       "average_spend                          4.145455\n",
       "total_reward                           3.000000\n",
       "average_reward                         3.000000\n",
       "accident_completion                    1.000000\n",
       "offers_ignored                         1.000000\n",
       "offer_bogo_not_completed               2.000000\n",
       "offer_informational_not_completed      0.000000\n",
       "offer_discount_not_completed           0.000000\n",
       "reward                                 0.000000\n",
       "difficulty                             0.000000\n",
       "duration                               4.000000\n",
       "email                                  1.000000\n",
       "mobile                                 1.000000\n",
       "social                                 0.000000\n",
       "web                                    1.000000\n",
       "discount                               0.000000\n",
       "informational                          1.000000\n",
       "duration_hours                        96.000000\n",
       "M                                      1.000000\n",
       "O                                      0.000000\n",
       "years_member                           3.000000"
      ]
     },
     "metadata": {},
     "output_type": "display_data"
    },
    {
     "name": "stdout",
     "output_type": "stream",
     "text": [
      "The actual offer status: 0\n",
      "The model predicted value: 0\n"
     ]
    }
   ],
   "source": [
    "cust1 = 2982\n",
    "print('Customer Info:')\n",
    "display(pd.DataFrame(X_test.iloc[cust1]))\n",
    "print(\"The actual offer status: {}\\nThe model predicted value: {}\"\n",
    "      .format(y_test.iloc[cust1], xgb_best.predict(pd.DataFrame(X_test.iloc[cust1]).T)[0]))"
   ]
  },
  {
   "cell_type": "markdown",
   "metadata": {},
   "source": [
    "Both testing data and the model predicted that this customer described above is not going to complete the informational offer."
   ]
  },
  {
   "cell_type": "code",
   "execution_count": 111,
   "metadata": {},
   "outputs": [
    {
     "data": {
      "image/png": "[encoded data removed]",
      "text/plain": [
       "<Figure size 842.4x595.44 with 3 Axes>"
      ]
     },
     "metadata": {},
     "output_type": "display_data"
    }
   ],
   "source": [
    "fig, ax = plt.subplots(1, 3, figsize=(11.7, 8.27))\n",
    "y_train.hist(ax = ax[0]);\n",
    "y_test.hist(ax = ax[1]);\n",
    "pd.DataFrame(y_pred).hist(ax = ax[2])\n",
    "ax[0].set_title('y_train');\n",
    "ax[1].set_title('y_test');\n",
    "ax[2].set_title('y_pred');\n",
    "for idx in [0,1,2]:\n",
    "    ax[idx].set(ylim=(0, 23000))"
   ]
  },
  {
   "cell_type": "code",
   "execution_count": 112,
   "metadata": {},
   "outputs": [
    {
     "name": "stdout",
     "output_type": "stream",
     "text": [
      "The number of time the model predicting that the customer completes the offer correctly is:  7130\n",
      "The number of time the model predicting that the customer does not complete the offer correctly is:  9001\n",
      "Total number of labels to predict:  18408\n",
      "The portion of total labels the customer completes the offer predicted correctly  0.89\n"
     ]
    }
   ],
   "source": [
    "print(\"The number of time the model predicting that the customer completes the offer correctly is: \", y_test[(y_test==y_pred)&(y_test == 1)].shape[0])\n",
    "print(\"The number of time the model predicting that the customer does not complete the offer correctly is: \", y_test[(y_test==y_pred)&(y_test == 0)].shape[0])\n",
    "print(\"Total number of labels to predict: \", y_test.shape[0])\n",
    "print(\"The portion of total labels the customer completes the offer predicted correctly \",round(y_test[(y_test==y_pred)&(y_test == 1)].shape[0]/y_test[(y_test == 1)].shape[0],2))"
   ]
  },
  {
   "cell_type": "code",
   "execution_count": 113,
   "metadata": {},
   "outputs": [
    {
     "name": "stdout",
     "output_type": "stream",
     "text": [
      "              precision    recall  f1-score   support\n",
      "\n",
      "           0       0.91      0.87      0.89     10352\n",
      "           1       0.84      0.89      0.86      8056\n",
      "\n",
      "    accuracy                           0.88     18408\n",
      "   macro avg       0.87      0.88      0.88     18408\n",
      "weighted avg       0.88      0.88      0.88     18408\n",
      "\n"
     ]
    }
   ],
   "source": [
    "print(classification_report(y_test.values, y_pred))"
   ]
  },
  {
   "cell_type": "code",
   "execution_count": 115,
   "metadata": {},
   "outputs": [
    {
     "name": "stdout",
     "output_type": "stream",
     "text": [
      "Labels: [0 1]\n",
      "Confusion Matrix:\n",
      " [[9001 1351]\n",
      " [ 926 7130]]\n",
      "Accuracy: 0.8763037809647979\n"
     ]
    }
   ],
   "source": [
    "display_results(y_pred, y_test)"
   ]
  },
  {
   "cell_type": "markdown",
   "metadata": {},
   "source": [
    "It looks like the model is predicting about 88% of positive labels correctly, which is pretty good. It means that the model actually suggests us to send the offers to customers and people are making purchases and following through consciously (not accidentally) in 88% of the time.\n",
    "\n",
    "The final model has **87.63% accuracy and 0.88 recall**. Considering that the accuracy of training and testing set are both around 87%-90% is promising that the model is not prone to overfitting and would perform with consistent accuracy on unseen data.\n",
    "\n",
    "Using the model generated during this study, the business would be able to input each customer's demographic data and transaction/offer interaction history and potential offer details. The model would predict whether or not the offer should be sent to a particular customer with 87% accuracy.\n",
    "\n",
    "## Improvement\n",
    "The next steps in improving model performance could be running a longer experiment with more customers, collecting more demographic data on customers, such as Starbucks location of purchase, drink review scores, day and times of transactions (time in our dataset represented time elapsed since beginning of the experiment) etc. \n",
    "It is important to create a A/B testing experiment between similar users: send random offers to some, while others would get to use the model."
   ]
  }
 ],
 "metadata": {
  "kernelspec": {
   "display_name": "Python 3",
   "language": "python",
   "name": "python3"
  },
  "language_info": {
   "codemirror_mode": {
    "name": "ipython",
    "version": 3
   },
   "file_extension": ".py",
   "mimetype": "text/x-python",
   "name": "python",
   "nbconvert_exporter": "python",
   "pygments_lexer": "ipython3",
   "version": "3.8.5"
  }
 },
 "nbformat": 4,
 "nbformat_minor": 2
}
